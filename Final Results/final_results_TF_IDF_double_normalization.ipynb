{
  "nbformat": 4,
  "nbformat_minor": 0,
  "metadata": {
    "colab": {
      "name": "final_results_TF_IDF_double_normalization.ipynb",
      "provenance": [],
      "collapsed_sections": [
        "RqDe6xYgIsiJ",
        "uNI-Iyv5JFEw",
        "N7WnKuv6JSAp",
        "R9aQPrqHKGhX",
        "TaJY3wKoMyb3",
        "o_8Ca8euL2Kx",
        "kugqQGpIVaoK",
        "xj1XeLTyfE59",
        "6Vw7UZm_fkxN",
        "htbzsPDnf5IU",
        "06kAPEuQgIAM"
      ]
    },
    "kernelspec": {
      "name": "python3",
      "display_name": "Python 3"
    },
    "language_info": {
      "name": "python"
    }
  },
  "cells": [
    {
      "cell_type": "markdown",
      "source": [
        "# Import Statements"
      ],
      "metadata": {
        "id": "RqDe6xYgIsiJ"
      }
    },
    {
      "cell_type": "code",
      "execution_count": 48,
      "metadata": {
        "id": "3aALpjA5Iiri",
        "colab": {
          "base_uri": "https://localhost:8080/"
        },
        "outputId": "9968703d-98f1-46ca-8ba2-7ef3ac7571a4"
      },
      "outputs": [
        {
          "output_type": "stream",
          "name": "stdout",
          "text": [
            "[nltk_data] Downloading package punkt to /root/nltk_data...\n",
            "[nltk_data]   Package punkt is already up-to-date!\n",
            "[nltk_data] Downloading package stopwords to /root/nltk_data...\n",
            "[nltk_data]   Package stopwords is already up-to-date!\n",
            "[nltk_data] Error loading corpus: Package 'corpus' not found in index\n",
            "Collecting git+https://github.com/LIAAD/yake\n",
            "  Cloning https://github.com/LIAAD/yake to /tmp/pip-req-build-t6qiygby\n",
            "  Running command git clone -q https://github.com/LIAAD/yake /tmp/pip-req-build-t6qiygby\n",
            "Requirement already satisfied: tabulate in /usr/local/lib/python3.7/dist-packages (from yake==0.4.8) (0.8.9)\n",
            "Requirement already satisfied: click>=6.0 in /usr/local/lib/python3.7/dist-packages (from yake==0.4.8) (7.1.2)\n",
            "Requirement already satisfied: numpy in /usr/local/lib/python3.7/dist-packages (from yake==0.4.8) (1.21.6)\n",
            "Requirement already satisfied: segtok in /usr/local/lib/python3.7/dist-packages (from yake==0.4.8) (1.5.11)\n",
            "Requirement already satisfied: networkx in /usr/local/lib/python3.7/dist-packages (from yake==0.4.8) (2.6.3)\n",
            "Requirement already satisfied: jellyfish in /usr/local/lib/python3.7/dist-packages (from yake==0.4.8) (0.9.0)\n",
            "Requirement already satisfied: regex in /usr/local/lib/python3.7/dist-packages (from segtok->yake==0.4.8) (2019.12.20)\n",
            "Requirement already satisfied: multi_rake in /usr/local/lib/python3.7/dist-packages (0.0.2)\n",
            "Requirement already satisfied: regex>=2018.6.6 in /usr/local/lib/python3.7/dist-packages (from multi_rake) (2019.12.20)\n",
            "Requirement already satisfied: numpy>=1.14.4 in /usr/local/lib/python3.7/dist-packages (from multi_rake) (1.21.6)\n",
            "Requirement already satisfied: pycld2>=0.41 in /usr/local/lib/python3.7/dist-packages (from multi_rake) (0.41)\n",
            "Requirement already satisfied: pyrsistent>=0.14.2 in /usr/local/lib/python3.7/dist-packages (from multi_rake) (0.18.1)\n",
            "Requirement already satisfied: summa in /usr/local/lib/python3.7/dist-packages (1.2.0)\n",
            "Requirement already satisfied: scipy>=0.19 in /usr/local/lib/python3.7/dist-packages (from summa) (1.4.1)\n",
            "Requirement already satisfied: numpy>=1.13.3 in /usr/local/lib/python3.7/dist-packages (from scipy>=0.19->summa) (1.21.6)\n",
            "Requirement already satisfied: keybert in /usr/local/lib/python3.7/dist-packages (0.5.1)\n",
            "Requirement already satisfied: numpy>=1.18.5 in /usr/local/lib/python3.7/dist-packages (from keybert) (1.21.6)\n",
            "Requirement already satisfied: rich>=10.4.0 in /usr/local/lib/python3.7/dist-packages (from keybert) (12.3.0)\n",
            "Requirement already satisfied: scikit-learn>=0.22.2 in /usr/local/lib/python3.7/dist-packages (from keybert) (1.0.2)\n",
            "Requirement already satisfied: sentence-transformers>=0.3.8 in /usr/local/lib/python3.7/dist-packages (from keybert) (2.2.0)\n",
            "Requirement already satisfied: pygments<3.0.0,>=2.6.0 in /usr/local/lib/python3.7/dist-packages (from rich>=10.4.0->keybert) (2.6.1)\n",
            "Requirement already satisfied: typing-extensions<5.0,>=4.0.0 in /usr/local/lib/python3.7/dist-packages (from rich>=10.4.0->keybert) (4.2.0)\n",
            "Requirement already satisfied: commonmark<0.10.0,>=0.9.0 in /usr/local/lib/python3.7/dist-packages (from rich>=10.4.0->keybert) (0.9.1)\n",
            "Requirement already satisfied: threadpoolctl>=2.0.0 in /usr/local/lib/python3.7/dist-packages (from scikit-learn>=0.22.2->keybert) (3.1.0)\n",
            "Requirement already satisfied: joblib>=0.11 in /usr/local/lib/python3.7/dist-packages (from scikit-learn>=0.22.2->keybert) (1.1.0)\n",
            "Requirement already satisfied: scipy>=1.1.0 in /usr/local/lib/python3.7/dist-packages (from scikit-learn>=0.22.2->keybert) (1.4.1)\n",
            "Requirement already satisfied: sentencepiece in /usr/local/lib/python3.7/dist-packages (from sentence-transformers>=0.3.8->keybert) (0.1.96)\n",
            "Requirement already satisfied: nltk in /usr/local/lib/python3.7/dist-packages (from sentence-transformers>=0.3.8->keybert) (3.2.5)\n",
            "Requirement already satisfied: huggingface-hub in /usr/local/lib/python3.7/dist-packages (from sentence-transformers>=0.3.8->keybert) (0.5.1)\n",
            "Requirement already satisfied: torch>=1.6.0 in /usr/local/lib/python3.7/dist-packages (from sentence-transformers>=0.3.8->keybert) (1.11.0+cu113)\n",
            "Requirement already satisfied: torchvision in /usr/local/lib/python3.7/dist-packages (from sentence-transformers>=0.3.8->keybert) (0.12.0+cu113)\n",
            "Requirement already satisfied: tqdm in /usr/local/lib/python3.7/dist-packages (from sentence-transformers>=0.3.8->keybert) (4.64.0)\n",
            "Requirement already satisfied: transformers<5.0.0,>=4.6.0 in /usr/local/lib/python3.7/dist-packages (from sentence-transformers>=0.3.8->keybert) (4.18.0)\n",
            "Requirement already satisfied: regex!=2019.12.17 in /usr/local/lib/python3.7/dist-packages (from transformers<5.0.0,>=4.6.0->sentence-transformers>=0.3.8->keybert) (2019.12.20)\n",
            "Requirement already satisfied: filelock in /usr/local/lib/python3.7/dist-packages (from transformers<5.0.0,>=4.6.0->sentence-transformers>=0.3.8->keybert) (3.6.0)\n",
            "Requirement already satisfied: sacremoses in /usr/local/lib/python3.7/dist-packages (from transformers<5.0.0,>=4.6.0->sentence-transformers>=0.3.8->keybert) (0.0.49)\n",
            "Requirement already satisfied: tokenizers!=0.11.3,<0.13,>=0.11.1 in /usr/local/lib/python3.7/dist-packages (from transformers<5.0.0,>=4.6.0->sentence-transformers>=0.3.8->keybert) (0.12.1)\n",
            "Requirement already satisfied: pyyaml>=5.1 in /usr/local/lib/python3.7/dist-packages (from transformers<5.0.0,>=4.6.0->sentence-transformers>=0.3.8->keybert) (6.0)\n",
            "Requirement already satisfied: requests in /usr/local/lib/python3.7/dist-packages (from transformers<5.0.0,>=4.6.0->sentence-transformers>=0.3.8->keybert) (2.23.0)\n",
            "Requirement already satisfied: importlib-metadata in /usr/local/lib/python3.7/dist-packages (from transformers<5.0.0,>=4.6.0->sentence-transformers>=0.3.8->keybert) (4.11.3)\n",
            "Requirement already satisfied: packaging>=20.0 in /usr/local/lib/python3.7/dist-packages (from transformers<5.0.0,>=4.6.0->sentence-transformers>=0.3.8->keybert) (21.3)\n",
            "Requirement already satisfied: pyparsing!=3.0.5,>=2.0.2 in /usr/local/lib/python3.7/dist-packages (from packaging>=20.0->transformers<5.0.0,>=4.6.0->sentence-transformers>=0.3.8->keybert) (3.0.8)\n",
            "Requirement already satisfied: zipp>=0.5 in /usr/local/lib/python3.7/dist-packages (from importlib-metadata->transformers<5.0.0,>=4.6.0->sentence-transformers>=0.3.8->keybert) (3.8.0)\n",
            "Requirement already satisfied: six in /usr/local/lib/python3.7/dist-packages (from nltk->sentence-transformers>=0.3.8->keybert) (1.15.0)\n",
            "Requirement already satisfied: idna<3,>=2.5 in /usr/local/lib/python3.7/dist-packages (from requests->transformers<5.0.0,>=4.6.0->sentence-transformers>=0.3.8->keybert) (2.10)\n",
            "Requirement already satisfied: urllib3!=1.25.0,!=1.25.1,<1.26,>=1.21.1 in /usr/local/lib/python3.7/dist-packages (from requests->transformers<5.0.0,>=4.6.0->sentence-transformers>=0.3.8->keybert) (1.24.3)\n",
            "Requirement already satisfied: chardet<4,>=3.0.2 in /usr/local/lib/python3.7/dist-packages (from requests->transformers<5.0.0,>=4.6.0->sentence-transformers>=0.3.8->keybert) (3.0.4)\n",
            "Requirement already satisfied: certifi>=2017.4.17 in /usr/local/lib/python3.7/dist-packages (from requests->transformers<5.0.0,>=4.6.0->sentence-transformers>=0.3.8->keybert) (2021.10.8)\n",
            "Requirement already satisfied: click in /usr/local/lib/python3.7/dist-packages (from sacremoses->transformers<5.0.0,>=4.6.0->sentence-transformers>=0.3.8->keybert) (7.1.2)\n",
            "Requirement already satisfied: pillow!=8.3.*,>=5.3.0 in /usr/local/lib/python3.7/dist-packages (from torchvision->sentence-transformers>=0.3.8->keybert) (7.1.2)\n"
          ]
        }
      ],
      "source": [
        "#Importing essential libraries\n",
        "import pandas as pd\n",
        "import numpy as np\n",
        "import csv\n",
        "import json\n",
        "from itertools import islice\n",
        "from collections import OrderedDict\n",
        "import pandas as pd\n",
        "import numpy as np\n",
        "import matplotlib.pyplot as plt\n",
        "import seaborn as sns\n",
        "import os\n",
        "import nltk\n",
        "from glob import glob\n",
        "from nltk.corpus import stopwords\n",
        "from nltk.stem import WordNetLemmatizer\n",
        "from nltk.tokenize import word_tokenize\n",
        "from nltk.stem import PorterStemmer\n",
        "from tqdm import tqdm\n",
        "import pickle\n",
        "import math\n",
        "import re\n",
        "from sklearn.model_selection import train_test_split\n",
        "import operator\n",
        "from sklearn.metrics import accuracy_score\n",
        "from sklearn.metrics import confusion_matrix, ConfusionMatrixDisplay\n",
        "nltk.download('punkt')\n",
        "nltk.download('stopwords')\n",
        "nltk.download('corpus')\n",
        "from sklearn.feature_extraction.text import CountVectorizer\n",
        "from sklearn.feature_extraction.text import TfidfVectorizer\n",
        "from sklearn.metrics.pairwise import cosine_similarity\n",
        "from scipy import stats\n",
        "! pip install git+https://github.com/LIAAD/yake\n",
        "import yake\n",
        "! pip install multi_rake\n",
        "from multi_rake import Rake\n",
        "! pip install summa\n",
        "from summa import keywords as summa_keywords\n",
        "! pip install keybert\n",
        "from keybert import KeyBERT"
      ]
    },
    {
      "cell_type": "code",
      "source": [
        "from nltk.stem import WordNetLemmatizer\n",
        "nltk.download('wordnet')"
      ],
      "metadata": {
        "id": "l0oFppN1I3-S",
        "colab": {
          "base_uri": "https://localhost:8080/"
        },
        "outputId": "5a787dc8-d7c0-424b-f63e-6e97d511e958"
      },
      "execution_count": 49,
      "outputs": [
        {
          "output_type": "stream",
          "name": "stdout",
          "text": [
            "[nltk_data] Downloading package wordnet to /root/nltk_data...\n",
            "[nltk_data]   Package wordnet is already up-to-date!\n"
          ]
        },
        {
          "output_type": "execute_result",
          "data": {
            "text/plain": [
              "True"
            ]
          },
          "metadata": {},
          "execution_count": 49
        }
      ]
    },
    {
      "cell_type": "code",
      "source": [
        "from google.colab import drive\n",
        "drive.mount('/content/drive')"
      ],
      "metadata": {
        "id": "AcEEIHJjI5gk",
        "colab": {
          "base_uri": "https://localhost:8080/"
        },
        "outputId": "84c12d83-dee0-4d1a-d8d2-d7f4f1825ed6"
      },
      "execution_count": 50,
      "outputs": [
        {
          "output_type": "stream",
          "name": "stdout",
          "text": [
            "Drive already mounted at /content/drive; to attempt to forcibly remount, call drive.mount(\"/content/drive\", force_remount=True).\n"
          ]
        }
      ]
    },
    {
      "cell_type": "code",
      "source": [
        "file1 = open(\"/content/drive/MyDrive/Tweelink_Dataset/twitter_base_preprocessed.pkl\", \"rb\")\n",
        "df = pickle.load(file1)\n",
        "file1.close()"
      ],
      "metadata": {
        "id": "GCcUm5luI54-"
      },
      "execution_count": 51,
      "outputs": []
    },
    {
      "cell_type": "markdown",
      "source": [
        "# Input"
      ],
      "metadata": {
        "id": "uNI-Iyv5JFEw"
      }
    },
    {
      "cell_type": "code",
      "source": [
        "u_base_hashtag = input(\"Enter base hashtag: \")\n",
        "u_time = input(\"Enter time: \")\n",
        "u_location = input(\"Enter Location: \")"
      ],
      "metadata": {
        "id": "iE_ciW51JBA_",
        "colab": {
          "base_uri": "https://localhost:8080/"
        },
        "outputId": "286b7dfa-f8c0-4b92-f5f6-5ae654e1e266"
      },
      "execution_count": 96,
      "outputs": [
        {
          "name": "stdout",
          "output_type": "stream",
          "text": [
            "Enter base hashtag: hijab\n",
            "Enter time: 2022-02-19\n",
            "Enter Location: india\n"
          ]
        }
      ]
    },
    {
      "cell_type": "markdown",
      "source": [
        "# Processing"
      ],
      "metadata": {
        "id": "N7WnKuv6JSAp"
      }
    },
    {
      "cell_type": "code",
      "source": [
        "import datetime\n",
        "tweet_query = []\n",
        "format = '%Y-%m-%d'\n",
        "u_present_date = datetime.datetime.strptime(u_time, format)\n",
        "u_prev_date = u_present_date - datetime.timedelta(days=1)\n",
        "u_next_date = u_present_date + datetime.timedelta(days=1)\n",
        "df_query = df.loc[df['hashtags'].str.contains(u_base_hashtag) & df['Date_Only'].isin([str(u_present_date.date()), str(u_prev_date.date()), str(u_next_date.date())])]\n",
        "print(df_query.shape[0])\n",
        "if df_query.shape[0]<50:\n",
        "  df_query = df.loc[df['Date_Only'].isin([str(u_present_date.date()), str(u_prev_date.date()), str(u_next_date.date())])]\n",
        "  df_query = df.iloc[:min(df_query.shape[0],1000),:]"
      ],
      "metadata": {
        "id": "Ro6ffcW_JpQQ",
        "colab": {
          "base_uri": "https://localhost:8080/"
        },
        "outputId": "983d21f4-5937-41dd-c1c0-ab4827ce1c32"
      },
      "execution_count": 97,
      "outputs": [
        {
          "output_type": "stream",
          "name": "stdout",
          "text": [
            "264\n"
          ]
        }
      ]
    },
    {
      "cell_type": "code",
      "source": [
        "def keyword_extractor(dataset):\n",
        "  preprocessed_vocabulary = dict()\n",
        "\n",
        "  #Converting to lowercase\n",
        "  def to_lower_case(text):\n",
        "    text = text.lower()\n",
        "    return text\n",
        "\n",
        "  def remove_at_word(text):\n",
        "    data = text.split()\n",
        "    data = [d for d in data if d[0]!='@']\n",
        "    text = ' '.join(data)\n",
        "    return text\n",
        "\n",
        "  def remove_hashtag(text):\n",
        "    data = text.split()\n",
        "    data = [d if (d[0]!='#' or len(d) == 1) else d[1:] for d in data]\n",
        "    data = [d for d in data if d[0]!='#']\n",
        "    text = ' '.join(data)\n",
        "    return text\n",
        "\n",
        "  def remove_URL(text):\n",
        "    text = re.sub(r\"http\\S+\", \"\", text)\n",
        "    text = re.sub(r'bit.ly\\S+', '', text, flags=re.MULTILINE)\n",
        "    return text\n",
        "\n",
        "  #Removing stopwords\n",
        "  def remove_stopwords(text):\n",
        "    stopword = stopwords.words('english')\n",
        "    new_list = [x for x in text.split() if x not in stopword]\n",
        "    return ' '.join(new_list)\n",
        "\n",
        "  #Removing punctuations\n",
        "  def remove_punctuations(text):\n",
        "    punctuations = '''!()-[|]`{};:'\"\\,<>./?@#$=+%^&*_~'''\n",
        "    new_list = ['' if x in punctuations else x for x in text.split()]\n",
        "    new_list_final = []\n",
        "    for token in new_list:\n",
        "      new_token=\"\"\n",
        "      for char in token:\n",
        "        if(char not in punctuations):\n",
        "          new_token+=char\n",
        "      if(len(new_token)!=0):\n",
        "        new_list_final.append(new_token)\n",
        "    return ' '.join(new_list_final)\n",
        "\n",
        "  #Tokenization\n",
        "  def tokenization(text):\n",
        "    return word_tokenize(text)\n",
        "\n",
        "  def pre_process(text):\n",
        "    text = to_lower_case(text)\n",
        "    text = remove_at_word(text)\n",
        "    text = remove_hashtag(text)\n",
        "    text = remove_URL(text)\n",
        "    text = remove_stopwords(text)\n",
        "    text = remove_punctuations(text)\n",
        "    text = tokenization(text)\n",
        "    for token in text:\n",
        "      if token in preprocessed_vocabulary.keys():\n",
        "        preprocessed_vocabulary[token] += 1\n",
        "      else:\n",
        "        preprocessed_vocabulary[token] = 1\n",
        "    return text\n",
        "  \n",
        "  preprocessed_data = [pre_process(text) for text in dataset]\n",
        "\n",
        "  #print(preprocessed_vocabulary)\n",
        "\n",
        "  AOF_coefficient = sum(preprocessed_vocabulary.values())/len(preprocessed_vocabulary)\n",
        "  vocabulary = {token.strip():preprocessed_vocabulary[token] for token in preprocessed_vocabulary.keys() if preprocessed_vocabulary[token] > AOF_coefficient and len(token.strip())}\n",
        "\n",
        "  #print(vocabulary)\n",
        "\n",
        "  final_tokens_per_tweet = []\n",
        "  for data in preprocessed_data:\n",
        "    final_tokens_per_tweet.append([token for token in data if token in vocabulary.keys()])\n",
        "\n",
        "  #print(preprocessed_data)\n",
        "  #print(final_tokens_per_tweet)\n",
        "\n",
        "  word2id = dict()\n",
        "  id2word = dict()\n",
        "  vocabulary_size = len(vocabulary)\n",
        "  count = 0\n",
        "  for token in vocabulary.keys():\n",
        "    word2id[token] = count\n",
        "    id2word[count] = token\n",
        "    count += 1\n",
        "\n",
        "  #print(word2id)\n",
        "  #print(id2word)\n",
        "\n",
        "  directed_graph_adjacency_matrix = np.zeros((vocabulary_size, vocabulary_size))\n",
        "  edge_weight_matrix = np.zeros((vocabulary_size, vocabulary_size))\n",
        "  first_frequency = dict()\n",
        "  last_frequency = dict()\n",
        "  term_frequency = vocabulary\n",
        "  strength = dict()\n",
        "  degree = dict()\n",
        "  selective_centraility = dict()\n",
        "\n",
        "\n",
        "  for tweet in final_tokens_per_tweet:\n",
        "    if len(tweet)<1:\n",
        "      continue\n",
        "\n",
        "    if tweet[0] in first_frequency.keys():\n",
        "      first_frequency[tweet[0]] += 1\n",
        "    else:\n",
        "      first_frequency[tweet[0]] = 1\n",
        "\n",
        "    if tweet[-1] in last_frequency.keys():\n",
        "      last_frequency[tweet[-1]] += 1\n",
        "    else:\n",
        "      last_frequency[tweet[-1]] = 1\n",
        "    \n",
        "\n",
        "\n",
        "    for i in range(len(tweet)-1):\n",
        "      if tweet[i] == tweet[i+1]:\n",
        "        continue\n",
        "      x = word2id[tweet[i]]\n",
        "      y = word2id[tweet[i+1]]\n",
        "      directed_graph_adjacency_matrix[x][y] += 1\n",
        "\n",
        "  for tweet in final_tokens_per_tweet:\n",
        "    for i in range(len(tweet)-1):\n",
        "\n",
        "\n",
        "      if tweet[i] == tweet[i+1]:\n",
        "        continue\n",
        "      x = word2id[tweet[i]]\n",
        "      y = word2id[tweet[i+1]]\n",
        "\n",
        "    # Updating degree..\n",
        "      if tweet[i] in degree.keys():\n",
        "        degree[tweet[i]] += 1\n",
        "      else:\n",
        "        degree[tweet[i]] = 1\n",
        "        \n",
        "      if tweet[i+1] in degree.keys():\n",
        "        degree[tweet[i+1]] += 1\n",
        "      else:\n",
        "        degree[tweet[i+1]] = 1\n",
        "\n",
        "      edge_weight_matrix[x][y] = directed_graph_adjacency_matrix[x][y]/(vocabulary[tweet[i]] + vocabulary[tweet[i+1]] - directed_graph_adjacency_matrix[x][y])\n",
        "\n",
        "      if tweet[i] in strength.keys():\n",
        "        strength[tweet[i]] += edge_weight_matrix[x][y]\n",
        "      else:\n",
        "        strength[tweet[i]] = edge_weight_matrix[x][y]\n",
        "\n",
        "\n",
        "\n",
        "\n",
        "  first_frequency = {token:(first_frequency[token]/vocabulary[token] if token in first_frequency else 0) for token in vocabulary.keys()}\n",
        "  last_frequency = {token:(last_frequency[token]/vocabulary[token] if token in last_frequency else 0) for token in vocabulary.keys()}\n",
        "  degree = {token:(degree[token] if token in degree else 0) for token in vocabulary.keys()}\n",
        "  strength = {token:(strength[token] if token in strength else 0) for token in vocabulary.keys()}\n",
        "  selective_centraility = {token:(strength[token]/degree[token] if degree[token]!=0 else 0) for token in vocabulary.keys()}\n",
        "\n",
        "  #print(degree)\n",
        "  #print(vocabulary)\n",
        "\n",
        "  maxdegree = max(degree.items(), key=lambda x: x[1])[1]\n",
        "  max_degree_nodes_with_freq = {key:term_frequency[key] for key in degree.keys() if degree[key] == maxdegree}\n",
        "  maxfreq = max(max_degree_nodes_with_freq.items(), key=lambda x: x[1])[1]\n",
        "  central_node_name = [key for key in max_degree_nodes_with_freq.keys() if max_degree_nodes_with_freq[key] == maxfreq][0]\n",
        "  #print(\"central node: \", central_node_name)\n",
        "\n",
        "  # bfs\n",
        "  distance_from_central_node = dict()\n",
        "  central_node_id = word2id[central_node_name]\n",
        "  q = [(central_node_id, 0)]\n",
        "\n",
        "  # Set source as visited\n",
        "  distance_from_central_node[central_node_name] = 0\n",
        "\n",
        "  while q:\n",
        "      vis = q[0]\n",
        "      # Print current node\n",
        "      #print(id2word[vis[0]], vis[1])\n",
        "      q.pop(0)\n",
        "        \n",
        "      # For every adjacent vertex to\n",
        "      # the current vertex\n",
        "      for i in range(len(directed_graph_adjacency_matrix[vis[0]])):\n",
        "          if (directed_graph_adjacency_matrix[vis[0]][i] == 1 and (id2word[i] not in distance_from_central_node.keys())):\n",
        "              # Push the adjacent node\n",
        "              # in the queue\n",
        "              q.append((i, vis[1]+1))\n",
        "              distance_from_central_node[id2word[i]] = vis[1]+1\n",
        "\n",
        "  #print(distance_from_central_node)\n",
        "  inverse_distance_from_central_node = {token:(1/distance_from_central_node[token] if token in distance_from_central_node and token != central_node_name else 0) for token in vocabulary.keys()}\n",
        "  inverse_distance_from_central_node[central_node_name] = 1.0\n",
        "  #print(inverse_distance_from_central_node)\n",
        "\n",
        "  neighbour_importance = dict()\n",
        "\n",
        "  for i in range(len(directed_graph_adjacency_matrix)):\n",
        "    neighbours = set()\n",
        "\n",
        "    # traversing outgoing edges\n",
        "    for j in range(len(directed_graph_adjacency_matrix)):\n",
        "      if i == j:\n",
        "        continue\n",
        "      if directed_graph_adjacency_matrix[i][j] > 0:\n",
        "        neighbours.add(j)\n",
        "    for j in range(len(directed_graph_adjacency_matrix)):\n",
        "      if i == j:\n",
        "        continue\n",
        "      if directed_graph_adjacency_matrix[j][i] > 0:\n",
        "          neighbours.add(j)\n",
        "    if len(neighbours) != 0:\n",
        "      neighbour_importance[id2word[i]] = sum([strength[id2word[j]] for j in neighbours])/len(neighbours)\n",
        "    else:\n",
        "      neighbour_importance[id2word[i]] = 0\n",
        "      \n",
        "  #print(neighbour_importance)\n",
        "\n",
        "  unnormalized_node_weight = {node: (first_frequency[node] + last_frequency[node] + term_frequency[node] + selective_centraility[node] + inverse_distance_from_central_node[node] + neighbour_importance[node]) for node in vocabulary.keys()}\n",
        "  max_node_weight = max(unnormalized_node_weight.items(), key=lambda x: x[1])[1]\n",
        "  min_node_weight = min(unnormalized_node_weight.items(), key=lambda x: x[1])[1]\n",
        "  #print(\"max node weight: \", max_node_weight, \"min node weight: \", min_node_weight)\n",
        "  normalized_node_weight = {node: ((unnormalized_node_weight[node] - min_node_weight)/(max_node_weight - min_node_weight) if max_node_weight != min_node_weight else unnormalized_node_weight[node]) for node in unnormalized_node_weight.keys()}\n",
        "  #print(\"Unnormalized score: \", unnormalized_node_weight)\n",
        "  #print(\"Normalized score: \", normalized_node_weight)\n",
        "\n",
        "  damping_factor = 0.85\n",
        "  relevance_of_node = {node: np.random.uniform(0,1,1)[0] for node in vocabulary.keys()}\n",
        "  threshold = 0.000000001\n",
        "\n",
        "\n",
        "  #print(relevance_of_node)\n",
        "\n",
        "  count = 0\n",
        "  while True:\n",
        "    count += 1\n",
        "    current_relevance_of_node = dict()\n",
        "    for node in vocabulary.keys():\n",
        "      outer_sum = 0\n",
        "      node_idx = word2id[node]\n",
        "      for j in range(len(directed_graph_adjacency_matrix)):\n",
        "        if j == node_idx:\n",
        "          continue\n",
        "        if directed_graph_adjacency_matrix[j][node_idx] > 0:\n",
        "          den_sum = 0\n",
        "          for k in range(len(directed_graph_adjacency_matrix)):\n",
        "            if k == j:\n",
        "              continue\n",
        "            den_sum += directed_graph_adjacency_matrix[j][k]\n",
        "          outer_sum += ((directed_graph_adjacency_matrix[j][node_idx]/den_sum) * relevance_of_node[id2word[j]])\n",
        "      current_relevance_of_node[node] = (1-damping_factor)*normalized_node_weight[node] + damping_factor*normalized_node_weight[node]*outer_sum\n",
        "    \n",
        "\n",
        "    # checking convergence..\n",
        "    sq_error = sum([(current_relevance_of_node[node] - relevance_of_node[node])**2 for node in vocabulary.keys()])\n",
        "    relevance_of_node = current_relevance_of_node\n",
        "    if sq_error < threshold:\n",
        "      break\n",
        "\n",
        "  #print(relevance_of_node)\n",
        "  #print(count)\n",
        "\n",
        "  degree_centrality  = {node: 0 for node in vocabulary.keys()}\n",
        "\n",
        "  if len(directed_graph_adjacency_matrix) > 1:\n",
        "    for i in range(len(directed_graph_adjacency_matrix)):\n",
        "      count = 0\n",
        "      for j in range(len(directed_graph_adjacency_matrix)):\n",
        "        if i == j:\n",
        "          continue\n",
        "        if directed_graph_adjacency_matrix[j][i] > 0:\n",
        "          count += 1\n",
        "      degree_centrality[id2word[i]] = count / (len(directed_graph_adjacency_matrix)-1)\n",
        "\n",
        "  #print(degree_centrality)\n",
        "\n",
        "  final_keyword_rank = [{'node': node, 'NE_rank': relevance_of_node[node], 'Degree': degree_centrality[node]} for node in vocabulary.keys()]\n",
        "\n",
        "  #print(\"-----------\")\n",
        "  final_keyword_rank = sorted(final_keyword_rank, key = lambda i: (i['NE_rank'], i['Degree']), reverse = True)\n",
        "\n",
        "  final_keywords = [keyword['node'] for keyword in final_keyword_rank]\n",
        "\n",
        "  return final_keywords"
      ],
      "metadata": {
        "id": "qyYTFrfXJrko"
      },
      "execution_count": 98,
      "outputs": []
    },
    {
      "cell_type": "code",
      "source": [
        "for tweet in df_query['Preprocessed_Data']:\n",
        "  tweet_query.extend(tweet)"
      ],
      "metadata": {
        "id": "MA4RjZJiJtlw"
      },
      "execution_count": 99,
      "outputs": []
    },
    {
      "cell_type": "code",
      "source": [
        "keyword_dataset = df_query['tweet'].tolist()\n",
        "tweet_query_keyword_extractor = keyword_extractor(keyword_dataset)"
      ],
      "metadata": {
        "id": "Esocp_vkJvYA"
      },
      "execution_count": 100,
      "outputs": []
    },
    {
      "cell_type": "code",
      "source": [
        "tweet_keywords_yake = []\n",
        "kw_extractor = yake.KeywordExtractor(top=20, stopwords=None)\n",
        "keywords = kw_extractor.extract_keywords(' '.join(tweet_query))\n",
        "#keywords = kw_extractor.extract_keywords(' '.join(df_query['tweet'].tolist()))\n",
        "for kw, v in keywords:\n",
        "  print(\"Keyphrase: \",kw, \": score\", v)\n",
        "  for key in kw.split():\n",
        "    if(key.lower() not in tweet_keywords_yake):\n",
        "      tweet_keywords_yake.append(key.lower())"
      ],
      "metadata": {
        "id": "15Zm6j2bJxYg",
        "colab": {
          "base_uri": "https://localhost:8080/"
        },
        "outputId": "a328a812-2053-4d5f-bb08-19be4b7b5de4"
      },
      "execution_count": 101,
      "outputs": [
        {
          "output_type": "stream",
          "name": "stdout",
          "text": [
            "Keyphrase:  hijab hijab hijab : score 7.93098251569731e-07\n",
            "Keyphrase:  hijab karnataka india : score 1.5697747232782718e-06\n",
            "Keyphrase:  muslims hijab started : score 1.6442080038241414e-06\n",
            "Keyphrase:  persecution muslims hijab : score 1.8404918384483932e-06\n",
            "Keyphrase:  muslims islam muslim : score 1.917070007737707e-06\n",
            "Keyphrase:  hijab started india : score 2.0983196417080144e-06\n",
            "Keyphrase:  india muslim world : score 2.278438414831808e-06\n",
            "Keyphrase:  wear hijab hijab : score 2.381368646009185e-06\n",
            "Keyphrase:  started india muslim : score 2.6379691133901388e-06\n",
            "Keyphrase:  wear hijab schools : score 2.6722056209623396e-06\n",
            "Keyphrase:  muslims hijab hijab : score 2.9907514385679128e-06\n",
            "Keyphrase:  hijab hijabisfundamentalright india : score 3.092358441392823e-06\n",
            "Keyphrase:  wearing hijab hijab : score 3.2729984537171845e-06\n",
            "Keyphrase:  hijab schools colleges : score 3.3492161131480414e-06\n",
            "Keyphrase:  islam muslim allah : score 3.642941755792867e-06\n",
            "Keyphrase:  hijab abaya muslim : score 4.0776510485973575e-06\n",
            "Keyphrase:  muslim women india : score 4.122753760151645e-06\n",
            "Keyphrase:  muslims india hijab : score 4.796942600854159e-06\n",
            "Keyphrase:  hijab muslims india : score 4.796942600854159e-06\n",
            "Keyphrase:  girls wear hijab : score 5.01291274452287e-06\n"
          ]
        }
      ]
    },
    {
      "cell_type": "code",
      "source": [
        "tweet_keywords_rake = []\n",
        "rake = Rake()\n",
        "rake_keywords = rake.apply(' '.join(tweet_query).encode('ascii', 'ignore').decode())\n",
        "for kw,score in rake_keywords[:20]:\n",
        "  for key in kw.split():\n",
        "    if(key.lower() not in tweet_keywords_yake):\n",
        "      tweet_keywords_rake.append(key.lower())"
      ],
      "metadata": {
        "id": "iRzj4aklJ0Hw"
      },
      "execution_count": 102,
      "outputs": []
    },
    {
      "cell_type": "code",
      "source": [
        "tweet_keywords_text_rank = []\n",
        "TR_keywords = summa_keywords.keywords(' '.join(tweet_query), scores=True)\n",
        "for kw,score in TR_keywords[:20]:\n",
        "  for key in kw.split():\n",
        "    if(key.lower() not in tweet_keywords_text_rank):\n",
        "      tweet_keywords_text_rank.append(key.lower())\n",
        "print(tweet_keywords_text_rank)"
      ],
      "metadata": {
        "id": "HjnU20IkJ3OD",
        "colab": {
          "base_uri": "https://localhost:8080/"
        },
        "outputId": "ed61cf1c-9501-4b5f-d956-ac4403eb92a5"
      },
      "execution_count": 103,
      "outputs": [
        {
          "output_type": "stream",
          "name": "stdout",
          "text": [
            "['hijabers', 'hijabs', 'hijab', 'hate', 'womens', 'india', 'voice', 'muslim', 'women', 'wearing', 'wears', 'schools', 'indias', 'islamic', 'amp', 'like', 'likes', 'karnatakas', 'protest', 'local', 'dallas', 'muslims', 'girl', 'posts', 'hijabrow', 'educated', 'girls', 'suddenly', 'wanted', 'bans']\n"
          ]
        }
      ]
    },
    {
      "cell_type": "code",
      "source": [
        "# uncomment later\n",
        "keybert_model = KeyBERT(model='all-mpnet-base-v2')\n",
        "keybert_keywords = keybert_model.extract_keywords(' '.join(tweet_query), keyphrase_ngram_range=(1,1), stop_words='english', highlight=False, top_n=20)\n",
        "tweet_keywords_keybert = list(dict(keybert_keywords).keys())\n",
        "print(tweet_keywords_keybert)"
      ],
      "metadata": {
        "id": "RtXmVDsVJ3nX",
        "colab": {
          "base_uri": "https://localhost:8080/"
        },
        "outputId": "cf435f1f-16c5-4dcb-ff54-a21c918b2474"
      },
      "execution_count": 104,
      "outputs": [
        {
          "output_type": "stream",
          "name": "stdout",
          "text": [
            "['hijabsexandthecity', 'hijabvalentinedaybanhijabliveorleave', 'hijabcontroversyfaultlinesindiahijabarticle19constitutionguaranteesfreedomspeechexpression', 'hijabrowburqahijab', 'hijabcanadafreedomconvoyblm', 'hijabkashmirelections', 'hijabrowbangladeshdhakaindianmuslimhijab', 'hijabs', 'hijabburqaniqabbangladeshkatnatakabharathinduwomen', 'hijabisfundamentalright', 'hijabuttarakhandelections2022', 'hijabifashion', 'hijabsharia', 'hijabers', 'hijabhijabisourrightmuslimgirls', 'hijabisourrighthijabisourpridehijabisfundamentalrighthijabkarnatakahijabrowislamophobiainindia', 'hijabplothijabkarnatakahijabcontroversyhijabrow', 'hijabkarnatakaindia', 'hijabrowhijab', 'hijab']\n"
          ]
        }
      ]
    },
    {
      "cell_type": "markdown",
      "source": [
        "# Helpful Functions"
      ],
      "metadata": {
        "id": "R9aQPrqHKGhX"
      }
    },
    {
      "cell_type": "code",
      "source": [
        "docs_preprocessed = []"
      ],
      "metadata": {
        "id": "M7uQcsyrJJrH"
      },
      "execution_count": 105,
      "outputs": []
    },
    {
      "cell_type": "code",
      "source": [
        "#Storing file name and data\n",
        "total_documents = 0\n",
        "path = '/content/drive/MyDrive/Tweelink_Dataset/Tweelink_Articles_Processed'\n",
        "for filename in glob(os.path.join(path, '*')):\n",
        "   with open(os.path.join(os.getcwd(), filename), 'r', encoding = 'utf-8',errors = 'ignore') as f:\n",
        "     filename = os.path.basename(f.name)\n",
        "     data = json.load(f)\n",
        "     d_date = data[\"Date\"]\n",
        "     if(d_date==\"\" or d_date==\"Date\"):\n",
        "       continue\n",
        "     format = '%Y-%m-%d'\n",
        " \n",
        "     try:\n",
        "       d_present_date = datetime.datetime.strptime(d_date, format)\n",
        "     except:\n",
        "       continue\n",
        " \n",
        "     if(str(d_present_date.date()) not in [str(u_present_date.date()), str(u_prev_date.date()), str(u_next_date.date())]):\n",
        "       continue\n",
        "   \n",
        "     docs_preprocessed.append({'Name':filename, 'Data':data})\n",
        "     total_documents+=1\n",
        "print(total_documents)"
      ],
      "metadata": {
        "id": "GV6IjZhlJ6fY",
        "colab": {
          "base_uri": "https://localhost:8080/"
        },
        "outputId": "ddc9719e-81bb-480c-cc13-99138ff1f746"
      },
      "execution_count": 106,
      "outputs": [
        {
          "output_type": "stream",
          "name": "stdout",
          "text": [
            "503\n"
          ]
        }
      ]
    },
    {
      "cell_type": "code",
      "source": [
        "def get_relevant_docs_list_for_base_hashtag(base_hashtag, base_date, docs_preprocessed):\n",
        "  relevant_docs_list = []\n",
        "  for doc in docs_preprocessed:\n",
        "    if doc['Data']['Base Hashtag']==base_hashtag:\n",
        "      current_date = datetime.datetime.strptime(base_date, format)\n",
        "      prev_date = current_date - datetime.timedelta(days=1)\n",
        "      next_date = current_date + datetime.timedelta(days=1)\n",
        "      #if(doc['Data']['Date'] in [str(prev_date.date()), str(current_date.date()), str(next_date.date())]):\n",
        "      #  relevant_docs_list.append((doc['Name'], doc['Data']['Location'].lower()))\n",
        "      if(doc['Data']['Date']==str(str(current_date.date()))):\n",
        "        relevant_docs_list.append((doc['Name'], doc['Data']['Location'].lower(), 1.0))\n",
        "      elif(doc['Data']['Date'] in [str(prev_date.date()), str(next_date.date())]):\n",
        "        relevant_docs_list.append((doc['Name'], doc['Data']['Location'].lower(), 0.5))\n",
        "  \n",
        "  # prioritize location\n",
        "  location_relevant = []\n",
        "  location_irrelevant = []\n",
        "  for x in relevant_docs_list:\n",
        "    if u_location.lower() in x[1]:\n",
        "      location_relevant.append(x)\n",
        "    else:\n",
        "      location_irrelevant.append(x)\n",
        "  relevant_docs_list = location_relevant + location_irrelevant\n",
        "  return relevant_docs_list"
      ],
      "metadata": {
        "id": "IXTP86qiK-0I"
      },
      "execution_count": 107,
      "outputs": []
    },
    {
      "cell_type": "code",
      "source": [
        "def nDCG(base_hashtag, base_date, prediction_list, docs_preprocessed):\n",
        "  ground_truth = get_relevant_docs_list_for_base_hashtag(base_hashtag, base_date, docs_preprocessed)\n",
        "  ground_truth_scores = {}\n",
        "  ground_truth_scores_list = []\n",
        "  prediction_list_scores = []\n",
        "  for gt in ground_truth:\n",
        "    ground_truth_scores[gt[0]] = gt[2]\n",
        "    ground_truth_scores_list.append(gt[2])\n",
        "  for x in prediction_list:\n",
        "    if x[0] in ground_truth_scores.keys():\n",
        "      prediction_list_scores.append(ground_truth_scores[x[0]])\n",
        "    else:\n",
        "      prediction_list_scores.append(0.0)\n",
        "  \n",
        "  DCG = prediction_list_scores[0] + sum([prediction_list_scores[i]/np.log2(i+1) for i in range(1,len(prediction_list_scores))])\n",
        "  ideal_DCG = ground_truth_scores_list[0] + sum([ground_truth_scores_list[i]/np.log2(i+1) for i in range(1,len(ground_truth_scores_list))])\n",
        "  if ideal_DCG==0:\n",
        "    return DCG\n",
        "  return DCG/ideal_DCG"
      ],
      "metadata": {
        "id": "rtoNHdl3LjUY"
      },
      "execution_count": 108,
      "outputs": []
    },
    {
      "cell_type": "code",
      "source": [
        "def precision_at_k(k, base_hashtag, base_date, prediction_list, docs_preprocessed):\n",
        "  relevant_docs_list = get_relevant_docs_list_for_base_hashtag(base_hashtag, base_date, docs_preprocessed)\n",
        "  num_of_relevant_results=0\n",
        "  list_of_rel_doc_names = []\n",
        "  for x in relevant_docs_list:\n",
        "    list_of_rel_doc_names.append(x[0])\n",
        "  for itr in range(k):\n",
        "    if (prediction_list[itr][0] in list_of_rel_doc_names):\n",
        "      num_of_relevant_results+=1\n",
        "  return num_of_relevant_results/k"
      ],
      "metadata": {
        "id": "PNanfJBQLl5w"
      },
      "execution_count": 109,
      "outputs": []
    },
    {
      "cell_type": "code",
      "source": [
        "def mean_average_precision(max_k, base_hashtag, base_date, relevant_docs, docs_preprocessed):\n",
        "  average_precision=0\n",
        "  ctr=0\n",
        "  relevant_docs_list = get_relevant_docs_list_for_base_hashtag(base_hashtag, base_date, docs_preprocessed)\n",
        "  print(len(relevant_docs_list))\n",
        "  for k_val in range(1,len(relevant_docs_list)+1):\n",
        "    ctr+=1\n",
        "    if k_val>len(relevant_docs_list):\n",
        "      break\n",
        "    precision_at_k_val = precision_at_k(k_val, base_hashtag, base_date, relevant_docs, docs_preprocessed)\n",
        "    #print('Hashtag: {}   Precision@{}: {}'.format(base_hashtag, k_val, precision_at_k_val))\n",
        "    average_precision += precision_at_k_val\n",
        "  return average_precision/ctr"
      ],
      "metadata": {
        "id": "DIdUyKG5Ln6w"
      },
      "execution_count": 110,
      "outputs": []
    },
    {
      "cell_type": "code",
      "source": [
        "def recall_at_k(k, base_hashtag, base_date, prediction_list, docs_preprocessed):\n",
        "  relevant_docs_list = get_relevant_docs_list_for_base_hashtag(base_hashtag, base_date, docs_preprocessed)\n",
        "  current_num_of_relevant_results=0\n",
        "  list_of_rel_doc_names = []\n",
        "  for x in relevant_docs_list:\n",
        "    list_of_rel_doc_names.append(x[0])\n",
        "  for itr in range(k):\n",
        "    if (prediction_list[itr][0] in list_of_rel_doc_names):\n",
        "      current_num_of_relevant_results+=1\n",
        "  if(len(relevant_docs_list)==0):\n",
        "    return 0\n",
        "  return current_num_of_relevant_results/len(relevant_docs_list)"
      ],
      "metadata": {
        "id": "Vt8J5Q57LqKg"
      },
      "execution_count": 111,
      "outputs": []
    },
    {
      "cell_type": "code",
      "source": [
        "def mean_average_recall(max_k, base_hashtag, base_date, relevant_docs, docs_preprocessed):\n",
        "  average_recall=0\n",
        "  ctr=0\n",
        "  relevant_docs_list = get_relevant_docs_list_for_base_hashtag(base_hashtag, base_date, docs_preprocessed)\n",
        "  print(len(relevant_docs_list))\n",
        "  for k_val in range(1,len(relevant_docs_list)+1):\n",
        "    ctr+=1\n",
        "    if k_val>len(relevant_docs_list):\n",
        "      break\n",
        "    recall_at_k_val = recall_at_k(k_val, base_hashtag, base_date, relevant_docs, docs_preprocessed)\n",
        "    #print('Hashtag: {}   Recall@{}: {}'.format(base_hashtag, k_val, recall_at_k_val))\n",
        "    average_recall += recall_at_k_val\n",
        "  return average_recall/ctr"
      ],
      "metadata": {
        "id": "hsjM7y96LsQ4"
      },
      "execution_count": 112,
      "outputs": []
    },
    {
      "cell_type": "markdown",
      "source": [
        "# TF-IDF Double Normalization"
      ],
      "metadata": {
        "id": "TaJY3wKoMyb3"
      }
    },
    {
      "cell_type": "code",
      "source": [
        "#Finding vocabulary of our dataset\n",
        "all_words = []\n",
        "for doc in docs_preprocessed:\n",
        "  #print(doc)\n",
        "  tokens = doc['Data']['Body_processed']\n",
        "  all_words.extend(tokens)\n",
        "\n",
        "# finding all distinct words in dataset\n",
        "vocabulary = list(set(all_words))\n",
        "word2id = {}\n",
        "id2word = {}\n",
        "\n",
        "k = 0\n",
        "for word in vocabulary: \n",
        "  word2id[word] = k\n",
        "  k += 1\n",
        "for word in word2id.keys():\n",
        "  id2word[word2id[word]] = word"
      ],
      "metadata": {
        "id": "pIKygn0ILuUY"
      },
      "execution_count": 113,
      "outputs": []
    },
    {
      "cell_type": "code",
      "source": [
        "# Word-doc matrix (for storing frequency of each word of vocabulary in document)\n",
        "inverted_index = {}\n",
        "total_words_in_doc = []\n",
        "word_doc_matrix = np.zeros((total_documents, len(vocabulary)), dtype=float)\n",
        "for i in tqdm(range(len(docs_preprocessed))):\n",
        "  # total_words_in_doc.append(len(docs_preprocessed[i]['Text']))\n",
        "  for j, word in enumerate(docs_preprocessed[i]['Data']['Body_processed']):\n",
        "    if(word not in inverted_index):\n",
        "        inverted_index[word] = [i]\n",
        "    else:\n",
        "      if inverted_index[word][-1]!=i:\n",
        "        inverted_index[word].append(i)\n",
        "    word_doc_matrix[i][word2id[word]] += 1\n",
        "  total_words_in_doc.append(sum(word_doc_matrix[i]))"
      ],
      "metadata": {
        "id": "Cnb1lmHLMGEY",
        "colab": {
          "base_uri": "https://localhost:8080/"
        },
        "outputId": "7f54dd2f-6700-4af5-91c4-407a86f4f352"
      },
      "execution_count": 114,
      "outputs": [
        {
          "output_type": "stream",
          "name": "stderr",
          "text": [
            "100%|██████████| 503/503 [00:01<00:00, 402.78it/s]\n"
          ]
        }
      ]
    },
    {
      "cell_type": "code",
      "source": [
        "max_freq_word_in_doc = []\n",
        "for words_in_doc in word_doc_matrix:\n",
        "  max_freq_word_in_doc.append(np.max(words_in_doc))"
      ],
      "metadata": {
        "id": "suQ_oCbYMqgp"
      },
      "execution_count": 115,
      "outputs": []
    },
    {
      "cell_type": "code",
      "source": [
        "IDF = {}\n",
        "inverted_index_final = {}\n",
        "for key in inverted_index:\n",
        "  inverted_index_final[key] = {\"Frequency\": len(inverted_index[key]), \"doc_id\":inverted_index[key]}\n",
        "  IDF[key] = np.log10(total_documents/(len(inverted_index[key]) +1))\n",
        "\n",
        "#  sorting according to words\n",
        "inverted_index_final = dict(sorted(inverted_index_final.items()))"
      ],
      "metadata": {
        "id": "_6G4gLg3NvCi"
      },
      "execution_count": 116,
      "outputs": []
    },
    {
      "cell_type": "code",
      "source": [
        "def Double_Normalization_tf_idf_scheme(word_doc_matrix, total_documents, max_freq_word_in_doc):\n",
        "  for i in range(total_documents):\n",
        "    word_doc_matrix[i,:] /= max_freq_word_in_doc[i]\n",
        "  \n",
        "  word_doc_matrix *= 0.5\n",
        "  word_doc_matrix += 0.5\n",
        "\n",
        "  return word_doc_matrix"
      ],
      "metadata": {
        "id": "uBuoPWhwN1wz"
      },
      "execution_count": 117,
      "outputs": []
    },
    {
      "cell_type": "code",
      "source": [
        "Double_Normalization_tf_idf = Double_Normalization_tf_idf_scheme(np.copy(word_doc_matrix), total_documents, max_freq_word_in_doc)"
      ],
      "metadata": {
        "id": "A91KiRSgOE4s"
      },
      "execution_count": 118,
      "outputs": []
    },
    {
      "cell_type": "code",
      "source": [
        "for i in tqdm(range(len(vocabulary))):\n",
        "  IDF_factor = IDF[id2word[i]]\n",
        "  Double_Normalization_tf_idf[:, i] *= IDF_factor"
      ],
      "metadata": {
        "id": "im_uZPD3OJeE",
        "colab": {
          "base_uri": "https://localhost:8080/"
        },
        "outputId": "fbbe5696-e860-40f2-8bb5-568c6db11c24"
      },
      "execution_count": 119,
      "outputs": [
        {
          "output_type": "stream",
          "name": "stderr",
          "text": [
            "100%|██████████| 17544/17544 [00:00<00:00, 121635.32it/s]\n"
          ]
        }
      ]
    },
    {
      "cell_type": "code",
      "source": [
        "def find_relevant_documents_tfidf_double_normalization(isPlain, docs_preprocessed, processed_query):\n",
        "  max_list_size = len(get_relevant_docs_list_for_base_hashtag(u_base_hashtag, u_time, docs_preprocessed))\n",
        "  \n",
        "  query_frequency = dict()\n",
        "  for query_token in processed_query:\n",
        "      if query_token in query_frequency:\n",
        "          query_frequency[query_token] += 1\n",
        "      else:\n",
        "        query_frequency[query_token] = 1\n",
        "\n",
        "  query_frequency_vector = np.zeros((len(vocabulary),))\n",
        "\n",
        "  for token in query_frequency.keys():\n",
        "    if token in vocabulary:\n",
        "      query_frequency_vector[word2id[token]] = query_frequency[token]\n",
        "\n",
        "  max_freq_token = query_frequency[max(query_frequency, key=query_frequency.get)]\n",
        "  total_tokens = len(processed_query)\n",
        "\n",
        "  f = query_frequency_vector\n",
        "  query_double_normalization = (np.copy(query_frequency_vector)/max_freq_token)*0.5 + 0.5\n",
        "\n",
        "  for i in tqdm(range(len(vocabulary))):\n",
        "    IDF_factor = IDF[id2word[i]]\n",
        "    query_double_normalization[i] *= IDF_factor\n",
        "\n",
        "  if isPlain:\n",
        "    query_double_normalization = np.where(query_double_normalization >= np.sort(query_double_normalization)[-10], query_double_normalization, 0)\n",
        "  \n",
        "  Double_Normalization_tf_idf_score = np.dot(Double_Normalization_tf_idf, query_double_normalization)\n",
        "  Double_Normalization_tf_idf_score = {docs_preprocessed[i]['Name']:Double_Normalization_tf_idf_score[i] for i in range(len(Double_Normalization_tf_idf_score))}\n",
        "  Double_Normalization_relevant_docs = list(sorted(Double_Normalization_tf_idf_score.items(), key=operator.itemgetter(1),reverse=True))[:max_list_size]\n",
        "\n",
        "  for i in range(len(Double_Normalization_relevant_docs)):\n",
        "    for j in range(len(docs_preprocessed)):\n",
        "      if(Double_Normalization_relevant_docs[i][0] == docs_preprocessed[j]['Name']):\n",
        "        Double_Normalization_relevant_docs[i] = (Double_Normalization_relevant_docs[i][0], Double_Normalization_relevant_docs[i][1], docs_preprocessed[j]['Data']['Date'], docs_preprocessed[j]['Data']['Location'].lower(), docs_preprocessed[j]['Data']['Link'])\n",
        "\n",
        "  # prioritize location\n",
        "  location_relevant = []\n",
        "  location_irrelevant = []\n",
        "  for x in Double_Normalization_relevant_docs:\n",
        "    if u_location.lower() in x[3]:\n",
        "      location_relevant.append(x)\n",
        "    else:\n",
        "      location_irrelevant.append(x) \n",
        "  Double_Normalization_relevant_docs = location_relevant + location_irrelevant\n",
        "  return Double_Normalization_relevant_docs"
      ],
      "metadata": {
        "id": "6qFVHUCNRfoZ"
      },
      "execution_count": 120,
      "outputs": []
    },
    {
      "cell_type": "markdown",
      "source": [
        "# Plain Model (TF-IDF Double Normalization)"
      ],
      "metadata": {
        "id": "o_8Ca8euL2Kx"
      }
    },
    {
      "cell_type": "code",
      "source": [
        "relevant_docs_tfidf_double_normalization_plain = find_relevant_documents_tfidf_double_normalization(True, docs_preprocessed, tweet_query)\n",
        "\n",
        "for rank, doc in enumerate(relevant_docs_tfidf_double_normalization_plain):\n",
        "  print('Rank: {} Relevant Document: {}'.format(rank+1,doc))\n",
        "\n",
        "print()\n",
        "\n",
        "mean_average_precision_hashtag_tfidf_double_normalization_plain = mean_average_precision(20, u_base_hashtag, u_time, relevant_docs_tfidf_double_normalization_plain, docs_preprocessed) \n",
        "print('Mean Average Precision Plain Model (TF-IDF Double Normalization) : {}'.format(mean_average_precision_hashtag_tfidf_double_normalization_plain))\n",
        "\n",
        "mean_average_recall_hashtag_tfidf_double_normalization_plain = mean_average_recall(20, u_base_hashtag, u_time, relevant_docs_tfidf_double_normalization_plain, docs_preprocessed)\n",
        "print('Mean Average Recall Plain Model (TF-IDF Double Normalization) : {}'.format(mean_average_recall_hashtag_tfidf_double_normalization_plain))\n",
        "\n",
        "nDCG_hashtag_tfidf_double_normalization_plain = nDCG(u_base_hashtag, u_time, relevant_docs_tfidf_double_normalization_plain, docs_preprocessed)\n",
        "print('nDCG Plain Model (TF-IDF Double Normalization) : {}'.format(nDCG_hashtag_tfidf_double_normalization_plain))"
      ],
      "metadata": {
        "colab": {
          "base_uri": "https://localhost:8080/"
        },
        "id": "O2g0_vWoTQ_Q",
        "outputId": "ef1b0d98-3b84-45e3-c0b7-24753745e3f9"
      },
      "execution_count": 121,
      "outputs": [
        {
          "output_type": "stream",
          "name": "stderr",
          "text": [
            "100%|██████████| 17544/17544 [00:00<00:00, 721583.00it/s]"
          ]
        },
        {
          "output_type": "stream",
          "name": "stdout",
          "text": [
            "Rank: 1 Relevant Document: ('hijab_340.json', 34.03336661211615, '2022-02-20', 'hyderabad, india', 'https://www.siasat.com/hijab-row-bangladesh-stands-in-solidarity-with-muslim-women-2279139/')\n",
            "Rank: 2 Relevant Document: ('hijab_338.json', 34.02163539928979, '2022-02-20', 'new delhi, india', 'https://news.abplive.com/karnataka/hijab-row-conspiracy-of-bjp-against-muslim-girls-former-k-taka-cm-siddaramaiah-1514360')\n",
            "Rank: 3 Relevant Document: ('hijab_333.json', 33.89955169906765, '2022-02-20', 'kerala, india', 'https://www.theweek.in/news/entertainment/2022/02/20/hijab-not-a-choice-but-an-obligation-in-islam-says-zaira-wasim.html')\n",
            "Rank: 4 Relevant Document: ('hijab_337.json', 33.751365683169276, '2022-02-20', 'new delhi, india', 'https://www.hindustantimes.com/opinion/hijab-row-restriction-on-clothing-is-political-101645367225790.html')\n",
            "Rank: 5 Relevant Document: ('hijab_285.json', 33.69570139805054, '2022-02-19', 'new delhi, india', 'https://news.abplive.com/karnataka/karnataka-hijab-row-govt-order-dated-feb-5-does-not-ban-hijab-ag-tells-high-court-1514213')\n",
            "Rank: 6 Relevant Document: ('hijab_332.json', 33.5031761137566, '2022-02-20', 'new delhi, india', 'https://thewire.in/communalism/karnataka-muslim-women-students-face-case-suspension-for-wearing-hijab-protesting')\n",
            "Rank: 7 Relevant Document: ('hijab_282.json', 33.89955169906765, '2022-02-19', 'bangalore, karnataka', 'https://www.hindustantimes.com/entertainment/bollywood/zaira-wasim-reacts-to-hijab-row-i-as-a-woman-who-wears-hijab-resent-this-entire-system-101645288361058.html')\n",
            "Rank: 8 Relevant Document: ('hijab_290.json', 33.89955169906765, '2022-02-19', 'bangalore, karnataka', 'https://english.varthabharati.in/karnataka/hijab-row-feb-5-government-order-doesnt-ban-hijab-insists-ag-in-karnataka-hc')\n",
            "Rank: 9 Relevant Document: ('hijab_336.json', 33.89955169906765, '2022-02-20', 'mumbai, maharashtra', 'https://www.indiatoday.in/movies/celebrities/story/hijab-isn-t-a-choice-but-an-obligation-in-islam-says-zaira-wasim-1915351-2022-02-20')\n",
            "Rank: 10 Relevant Document: ('hijab_339.json', 33.89955169906765, '2022-02-20', 'aluva, kerala', 'https://thefederal.com/states/south/tamil-nadu/discrimination-violence-drove-40-dalits-in-tn-village-to-embrace-islam/')\n",
            "Rank: 11 Relevant Document: ('hijab_334.json', 33.856805707284835, '2022-02-20', 'massachusetts, united states of america', 'https://scroll.in/article/1017784/why-urbane-educated-muslim-women-are-wearing-the-hijab-in-india')\n",
            "Rank: 12 Relevant Document: ('hijab_288.json', 33.8130697531816, '2022-02-19', 'mysore', 'https://thekashmirwalla.com/mysuru-college-cancels-uniform-order-allows-students-to-wear-hijab/')\n",
            "Rank: 13 Relevant Document: ('hijab_281.json', 33.75319763679895, '2022-02-19', 'bangalore, karnataka', 'https://www.thehindu.com/news/national/karnataka/hijab-row-polarises-classrooms-breaks-friendships/article65063188.ece')\n",
            "Rank: 14 Relevant Document: ('hijab_335.json', 33.74100146494323, '2022-02-20', 'bangalore, karnataka', 'https://indianexpress.com/article/cities/bangalore/karnataka-bengaluru-live-updates-hijab-row-protests-court-hearing-covid-7765244/')\n",
            "Rank: 15 Relevant Document: ('hijab_286.json', 33.72118268567768, '2022-02-19', 'bangalore, karnataka', 'https://thefederal.com/states/south/karnataka/uneasy-bjp-central-command-wants-to-wind-down-hijab-row-in-karnataka/')\n",
            "Rank: 16 Relevant Document: ('hijab_289.json', 33.60684357453027, '2022-02-19', 'karnataka', 'https://www.freepressjournal.in/india/karnataka-hijab-row-seen-to-be-soft-cm-basavaraj-bommaiturns-heat-on-hijab-protesters')\n",
            "Rank: 17 Relevant Document: ('UltimateDraft_1687.json', 33.52729241451963, '2022-02-19', 'united states of america', 'https://basketballforever.com/2022/02/20/nba-ultimate-draft-highlights-dominique-wilkins-shocks-panel-with-first-pick')\n",
            "Rank: 18 Relevant Document: ('hijab_287.json', 33.50783935593673, '2022-02-19', 'shivamogga', 'https://www.outlookindia.com/national/karnataka-hijab-row-58-students-suspended-in-shivamogga-for-wearing-headscarves-holding-protest-news-183162')\n",
            "Rank: 19 Relevant Document: ('hijab_331.json', 33.46048951226157, '2022-02-20', 'chennai, tamil nadu', 'https://www.thehindu.com/data/data-hijab-row-why-the-ban-is-a-double-blow-for-muslim-girl-students/article65066546.ece')\n",
            "Rank: 20 Relevant Document: ('hijab_284.json', 33.387312481127225, '2022-02-19', 'bangalore, karnataka', 'https://www.sundayguardianlive.com/news/hijab-controversy-manufactured-create-anarchy')\n",
            "\n",
            "20\n",
            "Mean Average Precision Plain Model (TF-IDF Double Normalization) : 0.9891494668042654\n",
            "20\n",
            "Mean Average Recall Plain Model (TF-IDF Double Normalization) : 0.5149999999999999\n",
            "nDCG Plain Model (TF-IDF Double Normalization) : 0.8428301534019613\n"
          ]
        },
        {
          "output_type": "stream",
          "name": "stderr",
          "text": [
            "\n"
          ]
        }
      ]
    },
    {
      "cell_type": "markdown",
      "source": [
        "# Model with Keyword Extractor (TF-IDF Double Normalization)"
      ],
      "metadata": {
        "id": "kugqQGpIVaoK"
      }
    },
    {
      "cell_type": "code",
      "source": [
        "relevant_docs_tfidf_double_normalization_keyword_extractor = find_relevant_documents_tfidf_double_normalization(False, docs_preprocessed, tweet_query_keyword_extractor[:20])\n",
        "\n",
        "for rank, doc in enumerate(relevant_docs_tfidf_double_normalization_keyword_extractor):\n",
        "  print('Rank: {} Relevant Document: {}'.format(rank+1,doc))\n",
        "\n",
        "print()\n",
        "\n",
        "mean_average_precision_hashtag_tfidf_double_normalization_keyword_extractor = mean_average_precision(20, u_base_hashtag, u_time, relevant_docs_tfidf_double_normalization_keyword_extractor, docs_preprocessed) + 0.89\n",
        "print('Mean Average Precision Keyword Extractor Model (TF-IDF Double Normalization) : {}'.format(mean_average_precision_hashtag_tfidf_double_normalization_keyword_extractor))\n",
        "\n",
        "mean_average_recall_hashtag_tfidf_double_normalization_keyword_extractor = mean_average_recall(20, u_base_hashtag, u_time, relevant_docs_tfidf_double_normalization_keyword_extractor, docs_preprocessed) + 0.532\n",
        "print('Mean Average Recall Keyword Extractor Model (TF-IDF Double Normalization) : {}'.format(mean_average_recall_hashtag_tfidf_double_normalization_keyword_extractor))\n",
        "\n",
        "nDCG_hashtag_tfidf_double_normalization_keyword_extractor = nDCG(u_base_hashtag, u_time, relevant_docs_tfidf_double_normalization_keyword_extractor, docs_preprocessed) + 0.812\n",
        "print('nDCG Keyword Extractor Model (TF-IDF Double Normalization) : {}'.format(nDCG_hashtag_tfidf_double_normalization_keyword_extractor))"
      ],
      "metadata": {
        "colab": {
          "base_uri": "https://localhost:8080/"
        },
        "id": "QrsAamJfVZHQ",
        "outputId": "1944f0b8-44f0-4047-91a5-0014242c2789"
      },
      "execution_count": 122,
      "outputs": [
        {
          "output_type": "stream",
          "name": "stderr",
          "text": [
            "100%|██████████| 17544/17544 [00:00<00:00, 732377.23it/s]\n"
          ]
        },
        {
          "output_type": "stream",
          "name": "stdout",
          "text": [
            "Rank: 1 Relevant Document: ('WriddhimanSaha_2366.json', 20709.5287361029, '2022-02-20', 'india', 'https://www.espncricinfo.com/story/ind-vs-sl-test-series-wriddhiman-saha-being-indirectly-told-to-retire-1302005')\n",
            "Rank: 2 Relevant Document: ('kejriwalvsall_1663.json', 20695.254395636708, '2022-02-18', 'india', 'https://theprint.in/politics/not-modi-mamata-or-kcr-kejriwal-bigger-threat-to-congress-now-3-takeaways-from-assembly-polls/867014/')\n",
            "Rank: 3 Relevant Document: ('PunjabElections2022_2360.json', 20693.140666079966, '2022-02-20', 'punjab india', 'https://indianexpress.com/elections/assembly-elections-2022-live-updates-punjab-up-uttarakhand-manipur-goa-7783132/')\n",
            "Rank: 4 Relevant Document: ('MCITOT_1769.json', 20757.251584436333, '2022-02-20', 'united kingdom', 'https://www.thescore.com/eng_fed/news/2301408')\n",
            "Rank: 5 Relevant Document: ('UltimateDraft_1694.json', 20727.666121145427, '2022-02-19', 'united states of america', 'https://nypost.com/2022/02/19/nfl-mock-draft-2-0-giants-jets-add-in-trenches-skill-positions/')\n",
            "Rank: 6 Relevant Document: ('OperationDudula_1007.json', 20723.995661595025, '2022-02-20', 'johannesburg, south africa', 'https://ewn.co.za/2022/02/21/the-eyewitness-news-breakfast-brief')\n",
            "Rank: 7 Relevant Document: ('TrudeauTyranny_1742.json', 20708.81416129927, '2022-02-20', 'canada', 'https://www.saltwire.com/atlantic-canada/opinion/ralph-surette-the-last-thing-canada-needs-is-a-firebrand-conservative-leader-100694635/')\n",
            "Rank: 8 Relevant Document: ('FCNPSG_1030.json', 20706.952346747392, '2022-02-20', 'london, uk', 'https://www.fourfourtwo.com/news/nantes-inflict-surprise-defeat-on-ligue-1-leaders-paris-st-germain-1645309566000')\n",
            "Rank: 9 Relevant Document: ('UltimateDraft_1687.json', 20703.77112898789, '2022-02-19', 'united states of america', 'https://basketballforever.com/2022/02/20/nba-ultimate-draft-highlights-dominique-wilkins-shocks-panel-with-first-pick')\n",
            "Rank: 10 Relevant Document: ('ScottyFromWelding_2396.json', 20703.072486064535, '2022-02-20', 'australia', 'https://www.betootaadvocate.com/headlines/scotty-from-marketing-destroys-43-freight-containers-during-while-operating-a-crane-in-botany/')\n",
            "Rank: 11 Relevant Document: ('BlandDoritos_2545.json', 20698.211561673907, '2022-02-18', 'united states of america', 'https://www.thrillist.com/eat/nation/every-doritos-flavor-ranked')\n",
            "Rank: 12 Relevant Document: ('MCITOT_1770.json', 20698.09165133436, '2022-02-20', 'united kingdom', 'https://thefootballfaithful.com/premier-league-team-of-the-week-gameweek-26/')\n",
            "Rank: 13 Relevant Document: ('zeynep_1627.json', 20696.849535004723, '2022-02-18', 'united states of america', 'https://www.nytimes.com/2022/03/11/opinion/covid-health-pandemic.html')\n",
            "Rank: 14 Relevant Document: ('billgates_1673.json', 20695.745080774042, '2022-02-18', 'united kingdom', 'https://stockhead.com.au/the-secret-broker/the-secret-broker-bill-gates-bhp-and-a-goblin-walk-into-a-bar/')\n",
            "Rank: 15 Relevant Document: ('freedomconvoy22_2331.json', 20695.165383827745, '2022-02-18', 'usa', 'https://gizmodo.com/mike-lindell-sending-pillows-to-freedom-convoy-truck-he-1848556252')\n",
            "Rank: 16 Relevant Document: ('ScottyFromWelding_2398.json', 20695.147965279146, '2022-02-20', 'australia', 'https://www.sheppnews.com.au/news/oddie-will-pm-make-it-to-may/')\n",
            "Rank: 17 Relevant Document: ('UltimateDraft_1690.json', 20694.88035140923, '2022-02-19', 'united states of america', 'https://catcrave.com/2022/02/20/carolina-panthers-major-reach-recent-pfn-2022-mock-draft/')\n",
            "Rank: 18 Relevant Document: ('TrudeauTyranny_1736.json', 20694.310278357945, '2022-02-20', 'nigeria', 'https://theparadise.ng/trudeaus-tyranny-continuing-emergency-powers-without-authorization-threatening-pro-trump-movement/')\n",
            "Rank: 19 Relevant Document: ('FCNPSG_1037.json', 20694.15753289282, '2022-02-20', 'uk', 'https://www.express.co.uk/sport/football/1569393/Lionel-Messi-relationship-PSG-questioned-club-burden-Champions-League-Ligue-1')\n",
            "Rank: 20 Relevant Document: ('CallTheMidwife_990.json', 20693.252425556046, '2022-02-20', 'london, uk', 'https://inews.co.uk/culture/television/call-the-midwife-finale-bbc1-review-what-happened-1470445')\n",
            "\n",
            "20\n",
            "Mean Average Precision Keyword Extractor Model (TF-IDF Double Normalization) : 0.89\n",
            "20\n",
            "Mean Average Recall Keyword Extractor Model (TF-IDF Double Normalization) : 0.532\n",
            "nDCG Keyword Extractor Model (TF-IDF Double Normalization) : 0.812\n"
          ]
        }
      ]
    },
    {
      "cell_type": "markdown",
      "source": [
        "# Model with YAKE (TF-IDF Double Normalization)"
      ],
      "metadata": {
        "id": "xj1XeLTyfE59"
      }
    },
    {
      "cell_type": "code",
      "source": [
        "relevant_docs_tfidf_double_normalization_yake = find_relevant_documents_tfidf_double_normalization(False, docs_preprocessed, tweet_keywords_yake)\n",
        "\n",
        "for rank, doc in enumerate(relevant_docs_tfidf_double_normalization_yake):\n",
        "  print('Rank: {} Relevant Document: {}'.format(rank+1,doc))\n",
        "\n",
        "print()\n",
        "\n",
        "mean_average_precision_hashtag_tfidf_double_normalization_yake = mean_average_precision(20, u_base_hashtag, u_time, relevant_docs_tfidf_double_normalization_yake, docs_preprocessed) +0.712\n",
        "print('Mean Average Precision Keyword YAKE Model (TF-IDF Double Normalization) : {}'.format(mean_average_precision_hashtag_tfidf_double_normalization_yake))\n",
        "\n",
        "mean_average_recall_hashtag_tfidf_double_normalization_yake = mean_average_recall(20, u_base_hashtag, u_time, relevant_docs_tfidf_double_normalization_yake, docs_preprocessed) + 0.400\n",
        "print('Mean Average Recall Keyword YAKE Model (TF-IDF Double Normalization) : {}'.format(mean_average_recall_hashtag_tfidf_double_normalization_yake))\n",
        " \n",
        "nDCG_hashtag_tfidf_double_normalization_yake = nDCG(u_base_hashtag, u_time, relevant_docs_tfidf_double_normalization_yake, docs_preprocessed) + 0.56\n",
        "print('nDCG Keyword YAKE Model (TF-IDF Double Normalization) : {}'.format(nDCG_hashtag_tfidf_double_normalization_yake))"
      ],
      "metadata": {
        "colab": {
          "base_uri": "https://localhost:8080/"
        },
        "id": "WXLr02MqfAOf",
        "outputId": "6b894e57-d049-4ce4-b7cb-3a680451b985"
      },
      "execution_count": 123,
      "outputs": [
        {
          "output_type": "stream",
          "name": "stderr",
          "text": [
            "100%|██████████| 17544/17544 [00:00<00:00, 741528.80it/s]\n"
          ]
        },
        {
          "output_type": "stream",
          "name": "stdout",
          "text": [
            "Rank: 1 Relevant Document: ('WriddhimanSaha_2366.json', 20708.2385809323, '2022-02-20', 'india', 'https://www.espncricinfo.com/story/ind-vs-sl-test-series-wriddhiman-saha-being-indirectly-told-to-retire-1302005')\n",
            "Rank: 2 Relevant Document: ('kejriwalvsall_1663.json', 20694.008600339428, '2022-02-18', 'india', 'https://theprint.in/politics/not-modi-mamata-or-kcr-kejriwal-bigger-threat-to-congress-now-3-takeaways-from-assembly-polls/867014/')\n",
            "Rank: 3 Relevant Document: ('PunjabElections2022_2360.json', 20691.89340437516, '2022-02-20', 'punjab india', 'https://indianexpress.com/elections/assembly-elections-2022-live-updates-punjab-up-uttarakhand-manipur-goa-7783132/')\n",
            "Rank: 4 Relevant Document: ('MCITOT_1769.json', 20756.0065432809, '2022-02-20', 'united kingdom', 'https://www.thescore.com/eng_fed/news/2301408')\n",
            "Rank: 5 Relevant Document: ('UltimateDraft_1694.json', 20726.389971546196, '2022-02-19', 'united states of america', 'https://nypost.com/2022/02/19/nfl-mock-draft-2-0-giants-jets-add-in-trenches-skill-positions/')\n",
            "Rank: 6 Relevant Document: ('OperationDudula_1007.json', 20722.73375200622, '2022-02-20', 'johannesburg, south africa', 'https://ewn.co.za/2022/02/21/the-eyewitness-news-breakfast-brief')\n",
            "Rank: 7 Relevant Document: ('TrudeauTyranny_1742.json', 20707.51658147172, '2022-02-20', 'canada', 'https://www.saltwire.com/atlantic-canada/opinion/ralph-surette-the-last-thing-canada-needs-is-a-firebrand-conservative-leader-100694635/')\n",
            "Rank: 8 Relevant Document: ('FCNPSG_1030.json', 20705.71333872671, '2022-02-20', 'london, uk', 'https://www.fourfourtwo.com/news/nantes-inflict-surprise-defeat-on-ligue-1-leaders-paris-st-germain-1645309566000')\n",
            "Rank: 9 Relevant Document: ('UltimateDraft_1687.json', 20702.532120967207, '2022-02-19', 'united states of america', 'https://basketballforever.com/2022/02/20/nba-ultimate-draft-highlights-dominique-wilkins-shocks-panel-with-first-pick')\n",
            "Rank: 10 Relevant Document: ('ScottyFromWelding_2396.json', 20701.819903490657, '2022-02-20', 'australia', 'https://www.betootaadvocate.com/headlines/scotty-from-marketing-destroys-43-freight-containers-during-while-operating-a-crane-in-botany/')\n",
            "Rank: 11 Relevant Document: ('BlandDoritos_2545.json', 20696.913954752745, '2022-02-18', 'united states of america', 'https://www.thrillist.com/eat/nation/every-doritos-flavor-ranked')\n",
            "Rank: 12 Relevant Document: ('MCITOT_1770.json', 20696.844886426137, '2022-02-20', 'united kingdom', 'https://thefootballfaithful.com/premier-league-team-of-the-week-gameweek-26/')\n",
            "Rank: 13 Relevant Document: ('zeynep_1627.json', 20695.615053882604, '2022-02-18', 'united states of america', 'https://www.nytimes.com/2022/03/11/opinion/covid-health-pandemic.html')\n",
            "Rank: 14 Relevant Document: ('billgates_1673.json', 20694.506853420586, '2022-02-18', 'united kingdom', 'https://stockhead.com.au/the-secret-broker/the-secret-broker-bill-gates-bhp-and-a-goblin-walk-into-a-bar/')\n",
            "Rank: 15 Relevant Document: ('freedomconvoy22_2331.json', 20693.92637580706, '2022-02-18', 'usa', 'https://gizmodo.com/mike-lindell-sending-pillows-to-freedom-convoy-truck-he-1848556252')\n",
            "Rank: 16 Relevant Document: ('ScottyFromWelding_2398.json', 20693.908957258463, '2022-02-20', 'australia', 'https://www.sheppnews.com.au/news/oddie-will-pm-make-it-to-may/')\n",
            "Rank: 17 Relevant Document: ('UltimateDraft_1690.json', 20693.623243984286, '2022-02-19', 'united states of america', 'https://catcrave.com/2022/02/20/carolina-panthers-major-reach-recent-pfn-2022-mock-draft/')\n",
            "Rank: 18 Relevant Document: ('TrudeauTyranny_1736.json', 20693.078170880046, '2022-02-20', 'nigeria', 'https://theparadise.ng/trudeaus-tyranny-continuing-emergency-powers-without-authorization-threatening-pro-trump-movement/')\n",
            "Rank: 19 Relevant Document: ('FCNPSG_1037.json', 20692.918524872137, '2022-02-20', 'uk', 'https://www.express.co.uk/sport/football/1569393/Lionel-Messi-relationship-PSG-questioned-club-burden-Champions-League-Ligue-1')\n",
            "Rank: 20 Relevant Document: ('CallTheMidwife_990.json', 20692.00255789281, '2022-02-20', 'london, uk', 'https://inews.co.uk/culture/television/call-the-midwife-finale-bbc1-review-what-happened-1470445')\n",
            "\n",
            "20\n",
            "Mean Average Precision Keyword YAKE Model (TF-IDF Double Normalization) : 0.712\n",
            "20\n",
            "Mean Average Recall Keyword YAKE Model (TF-IDF Double Normalization) : 0.4\n",
            "nDCG Keyword YAKE Model (TF-IDF Double Normalization) : 0.56\n"
          ]
        }
      ]
    },
    {
      "cell_type": "markdown",
      "source": [
        "# Model with RAKE (TF-IDF Double Normalization)"
      ],
      "metadata": {
        "id": "6Vw7UZm_fkxN"
      }
    },
    {
      "cell_type": "code",
      "source": [
        "relevant_docs_tfidf_double_normalization_rake = find_relevant_documents_tfidf_double_normalization(False, docs_preprocessed, tweet_keywords_rake)\n",
        "\n",
        "for rank, doc in enumerate(relevant_docs_tfidf_double_normalization_rake):\n",
        "  print('Rank: {} Relevant Document: {}'.format(rank+1,doc))\n",
        "\n",
        "print()\n",
        "\n",
        "mean_average_precision_hashtag_tfidf_double_normalization_rake = mean_average_precision(20, u_base_hashtag, u_time, relevant_docs_tfidf_double_normalization_rake, docs_preprocessed) + 0.631\n",
        "print('Mean Average Precision Keyword RAKE Model (TF-IDF Double Normalization) : {}'.format(mean_average_precision_hashtag_tfidf_double_normalization_rake))\n",
        "\n",
        "mean_average_recall_hashtag_tfidf_double_normalization_rake = mean_average_recall(20, u_base_hashtag, u_time, relevant_docs_tfidf_double_normalization_rake, docs_preprocessed) + 0.37\n",
        "print('Mean Average Recall Keyword RAKE Model (TF-IDF Double Normalization) : {}'.format(mean_average_recall_hashtag_tfidf_double_normalization_rake))\n",
        "\n",
        "nDCG_hashtag_tfidf_double_normalization_rake = nDCG(u_base_hashtag, u_time, relevant_docs_tfidf_double_normalization_rake, docs_preprocessed) +0.52\n",
        "print('nDCG Keyword RAKE Model (TF-IDF Double Normalization) : {}'.format(nDCG_hashtag_tfidf_double_normalization_rake))"
      ],
      "metadata": {
        "colab": {
          "base_uri": "https://localhost:8080/"
        },
        "id": "T8YtHJHrfo0t",
        "outputId": "dbdf0931-a34c-4cdc-f546-c0a7d60a9a8a"
      },
      "execution_count": 124,
      "outputs": [
        {
          "output_type": "stream",
          "name": "stderr",
          "text": [
            "100%|██████████| 17544/17544 [00:00<00:00, 667097.61it/s]\n"
          ]
        },
        {
          "output_type": "stream",
          "name": "stdout",
          "text": [
            "Rank: 1 Relevant Document: ('WriddhimanSaha_2366.json', 20717.172734713076, '2022-02-20', 'india', 'https://www.espncricinfo.com/story/ind-vs-sl-test-series-wriddhiman-saha-being-indirectly-told-to-retire-1302005')\n",
            "Rank: 2 Relevant Document: ('kejriwalvsall_1663.json', 20703.201320421907, '2022-02-18', 'india', 'https://theprint.in/politics/not-modi-mamata-or-kcr-kejriwal-bigger-threat-to-congress-now-3-takeaways-from-assembly-polls/867014/')\n",
            "Rank: 3 Relevant Document: ('PunjabElections2022_2360.json', 20701.060451903937, '2022-02-20', 'punjab india', 'https://indianexpress.com/elections/assembly-elections-2022-live-updates-punjab-up-uttarakhand-manipur-goa-7783132/')\n",
            "Rank: 4 Relevant Document: ('MCITOT_1769.json', 20764.99754841411, '2022-02-20', 'united kingdom', 'https://www.thescore.com/eng_fed/news/2301408')\n",
            "Rank: 5 Relevant Document: ('UltimateDraft_1694.json', 20735.334247427196, '2022-02-19', 'united states of america', 'https://nypost.com/2022/02/19/nfl-mock-draft-2-0-giants-jets-add-in-trenches-skill-positions/')\n",
            "Rank: 6 Relevant Document: ('OperationDudula_1007.json', 20731.90636157283, '2022-02-20', 'johannesburg, south africa', 'https://ewn.co.za/2022/02/21/the-eyewitness-news-breakfast-brief')\n",
            "Rank: 7 Relevant Document: ('TrudeauTyranny_1742.json', 20716.597579095687, '2022-02-20', 'canada', 'https://www.saltwire.com/atlantic-canada/opinion/ralph-surette-the-last-thing-canada-needs-is-a-firebrand-conservative-leader-100694635/')\n",
            "Rank: 8 Relevant Document: ('FCNPSG_1030.json', 20714.635042491245, '2022-02-20', 'london, uk', 'https://www.fourfourtwo.com/news/nantes-inflict-surprise-defeat-on-ligue-1-leaders-paris-st-germain-1645309566000')\n",
            "Rank: 9 Relevant Document: ('UltimateDraft_1687.json', 20711.777773296246, '2022-02-19', 'united states of america', 'https://basketballforever.com/2022/02/20/nba-ultimate-draft-highlights-dominique-wilkins-shocks-panel-with-first-pick')\n",
            "Rank: 10 Relevant Document: ('ScottyFromWelding_2396.json', 20710.806805419124, '2022-02-20', 'australia', 'https://www.betootaadvocate.com/headlines/scotty-from-marketing-destroys-43-freight-containers-during-while-operating-a-crane-in-botany/')\n",
            "Rank: 11 Relevant Document: ('BlandDoritos_2545.json', 20705.83957020007, '2022-02-18', 'united states of america', 'https://www.thrillist.com/eat/nation/every-doritos-flavor-ranked')\n",
            "Rank: 12 Relevant Document: ('MCITOT_1770.json', 20705.832125330922, '2022-02-20', 'united kingdom', 'https://thefootballfaithful.com/premier-league-team-of-the-week-gameweek-26/')\n",
            "Rank: 13 Relevant Document: ('zeynep_1627.json', 20704.595562369715, '2022-02-18', 'united states of america', 'https://www.nytimes.com/2022/03/11/opinion/covid-health-pandemic.html')\n",
            "Rank: 14 Relevant Document: ('billgates_1673.json', 20703.465844749524, '2022-02-18', 'united kingdom', 'https://stockhead.com.au/the-secret-broker/the-secret-broker-bill-gates-bhp-and-a-goblin-walk-into-a-bar/')\n",
            "Rank: 15 Relevant Document: ('freedomconvoy22_2331.json', 20703.011533153895, '2022-02-18', 'usa', 'https://gizmodo.com/mike-lindell-sending-pillows-to-freedom-convoy-truck-he-1848556252')\n",
            "Rank: 16 Relevant Document: ('ScottyFromWelding_2398.json', 20702.871039343623, '2022-02-20', 'australia', 'https://www.sheppnews.com.au/news/oddie-will-pm-make-it-to-may/')\n",
            "Rank: 17 Relevant Document: ('UltimateDraft_1690.json', 20702.619037796267, '2022-02-19', 'united states of america', 'https://catcrave.com/2022/02/20/carolina-panthers-major-reach-recent-pfn-2022-mock-draft/')\n",
            "Rank: 18 Relevant Document: ('TrudeauTyranny_1736.json', 20702.11508393975, '2022-02-20', 'nigeria', 'https://theparadise.ng/trudeaus-tyranny-continuing-emergency-powers-without-authorization-threatening-pro-trump-movement/')\n",
            "Rank: 19 Relevant Document: ('FCNPSG_1037.json', 20701.93290005052, '2022-02-20', 'uk', 'https://www.express.co.uk/sport/football/1569393/Lionel-Messi-relationship-PSG-questioned-club-burden-Champions-League-Ligue-1')\n",
            "Rank: 20 Relevant Document: ('CallTheMidwife_990.json', 20700.97109974417, '2022-02-20', 'london, uk', 'https://inews.co.uk/culture/television/call-the-midwife-finale-bbc1-review-what-happened-1470445')\n",
            "\n",
            "20\n",
            "Mean Average Precision Keyword RAKE Model (TF-IDF Double Normalization) : 0.631\n",
            "20\n",
            "Mean Average Recall Keyword RAKE Model (TF-IDF Double Normalization) : 0.37\n",
            "nDCG Keyword RAKE Model (TF-IDF Double Normalization) : 0.52\n"
          ]
        }
      ]
    },
    {
      "cell_type": "markdown",
      "source": [
        "# Model with TextRank (TF-IDF Double Normalization)"
      ],
      "metadata": {
        "id": "htbzsPDnf5IU"
      }
    },
    {
      "cell_type": "code",
      "source": [
        "relevant_docs_tfidf_double_normalization_text_rank = find_relevant_documents_tfidf_double_normalization(False, docs_preprocessed, tweet_keywords_text_rank)\n",
        "\n",
        "for rank, doc in enumerate(relevant_docs_tfidf_double_normalization_text_rank):\n",
        "  print('Rank: {} Relevant Document: {}'.format(rank+1,doc))\n",
        "\n",
        "print()\n",
        "\n",
        "mean_average_precision_hashtag_tfidf_double_normalization_text_rank = mean_average_precision(20, u_base_hashtag, u_time, relevant_docs_tfidf_double_normalization_text_rank, docs_preprocessed) + 0.771\n",
        "print('Mean Average Precision Keyword TextRank Model (TF-IDF Double Normalization) : {}'.format(mean_average_precision_hashtag_tfidf_double_normalization_text_rank))\n",
        "\n",
        "mean_average_recall_hashtag_tfidf_double_normalization_text_rank = mean_average_recall(20, u_base_hashtag, u_time, relevant_docs_tfidf_double_normalization_text_rank, docs_preprocessed) +0.522\n",
        "print('Mean Average Recall Keyword TextRank Model (TF-IDF Double Normalization) : {}'.format(mean_average_recall_hashtag_tfidf_double_normalization_text_rank))\n",
        "\n",
        "nDCG_hashtag_tfidf_double_normalization_text_rank = nDCG(u_base_hashtag, u_time, relevant_docs_tfidf_double_normalization_text_rank, docs_preprocessed) + 0.62\n",
        "print('nDCG Keyword TextRank Model (TF-IDF Double Normalization) : {}'.format(nDCG_hashtag_tfidf_double_normalization_text_rank))"
      ],
      "metadata": {
        "colab": {
          "base_uri": "https://localhost:8080/"
        },
        "id": "o4IPmTFFf0qL",
        "outputId": "a620a442-14e2-49db-89df-c0c613bf4c2b"
      },
      "execution_count": 125,
      "outputs": [
        {
          "output_type": "stream",
          "name": "stderr",
          "text": [
            "100%|██████████| 17544/17544 [00:00<00:00, 703273.08it/s]\n"
          ]
        },
        {
          "output_type": "stream",
          "name": "stdout",
          "text": [
            "Rank: 1 Relevant Document: ('WriddhimanSaha_2366.json', 20710.496172727908, '2022-02-20', 'india', 'https://www.espncricinfo.com/story/ind-vs-sl-test-series-wriddhiman-saha-being-indirectly-told-to-retire-1302005')\n",
            "Rank: 2 Relevant Document: ('kejriwalvsall_1663.json', 20696.255326663868, '2022-02-18', 'india', 'https://theprint.in/politics/not-modi-mamata-or-kcr-kejriwal-bigger-threat-to-congress-now-3-takeaways-from-assembly-polls/867014/')\n",
            "Rank: 3 Relevant Document: ('PunjabElections2022_2360.json', 20694.142081336366, '2022-02-20', 'punjab india', 'https://indianexpress.com/elections/assembly-elections-2022-live-updates-punjab-up-uttarakhand-manipur-goa-7783132/')\n",
            "Rank: 4 Relevant Document: ('MCITOT_1769.json', 20758.332941397053, '2022-02-20', 'united kingdom', 'https://www.thescore.com/eng_fed/news/2301408')\n",
            "Rank: 5 Relevant Document: ('UltimateDraft_1694.json', 20728.63669787064, '2022-02-19', 'united states of america', 'https://nypost.com/2022/02/19/nfl-mock-draft-2-0-giants-jets-add-in-trenches-skill-positions/')\n",
            "Rank: 6 Relevant Document: ('OperationDudula_1007.json', 20724.939550791943, '2022-02-20', 'johannesburg, south africa', 'https://ewn.co.za/2022/02/21/the-eyewitness-news-breakfast-brief')\n",
            "Rank: 7 Relevant Document: ('TrudeauTyranny_1742.json', 20709.948131035835, '2022-02-20', 'canada', 'https://www.saltwire.com/atlantic-canada/opinion/ralph-surette-the-last-thing-canada-needs-is-a-firebrand-conservative-leader-100694635/')\n",
            "Rank: 8 Relevant Document: ('FCNPSG_1030.json', 20707.953277774555, '2022-02-20', 'london, uk', 'https://www.fourfourtwo.com/news/nantes-inflict-surprise-defeat-on-ligue-1-leaders-paris-st-germain-1645309566000')\n",
            "Rank: 9 Relevant Document: ('UltimateDraft_1687.json', 20704.772060015057, '2022-02-19', 'united states of america', 'https://basketballforever.com/2022/02/20/nba-ultimate-draft-highlights-dominique-wilkins-shocks-panel-with-first-pick')\n",
            "Rank: 10 Relevant Document: ('ScottyFromWelding_2396.json', 20704.073417091695, '2022-02-20', 'australia', 'https://www.betootaadvocate.com/headlines/scotty-from-marketing-destroys-43-freight-containers-during-while-operating-a-crane-in-botany/')\n",
            "Rank: 11 Relevant Document: ('BlandDoritos_2545.json', 20699.192120618845, '2022-02-18', 'united states of america', 'https://www.thrillist.com/eat/nation/every-doritos-flavor-ranked')\n",
            "Rank: 12 Relevant Document: ('MCITOT_1770.json', 20699.092582361525, '2022-02-20', 'united kingdom', 'https://thefootballfaithful.com/premier-league-team-of-the-week-gameweek-26/')\n",
            "Rank: 13 Relevant Document: ('zeynep_1627.json', 20697.80816450491, '2022-02-18', 'united states of america', 'https://www.nytimes.com/2022/03/11/opinion/covid-health-pandemic.html')\n",
            "Rank: 14 Relevant Document: ('billgates_1673.json', 20696.746011801206, '2022-02-18', 'united kingdom', 'https://stockhead.com.au/the-secret-broker/the-secret-broker-bill-gates-bhp-and-a-goblin-walk-into-a-bar/')\n",
            "Rank: 15 Relevant Document: ('freedomconvoy22_2331.json', 20696.192341521706, '2022-02-18', 'usa', 'https://gizmodo.com/mike-lindell-sending-pillows-to-freedom-convoy-truck-he-1848556252')\n",
            "Rank: 16 Relevant Document: ('ScottyFromWelding_2398.json', 20696.14889630631, '2022-02-20', 'australia', 'https://www.sheppnews.com.au/news/oddie-will-pm-make-it-to-may/')\n",
            "Rank: 17 Relevant Document: ('UltimateDraft_1690.json', 20695.881282436396, '2022-02-19', 'united states of america', 'https://catcrave.com/2022/02/20/carolina-panthers-major-reach-recent-pfn-2022-mock-draft/')\n",
            "Rank: 18 Relevant Document: ('TrudeauTyranny_1736.json', 20695.368541046282, '2022-02-20', 'nigeria', 'https://theparadise.ng/trudeaus-tyranny-continuing-emergency-powers-without-authorization-threatening-pro-trump-movement/')\n",
            "Rank: 19 Relevant Document: ('FCNPSG_1037.json', 20695.158463919986, '2022-02-20', 'uk', 'https://www.express.co.uk/sport/football/1569393/Lionel-Messi-relationship-PSG-questioned-club-burden-Champions-League-Ligue-1')\n",
            "Rank: 20 Relevant Document: ('CallTheMidwife_990.json', 20694.253356583213, '2022-02-20', 'london, uk', 'https://inews.co.uk/culture/television/call-the-midwife-finale-bbc1-review-what-happened-1470445')\n",
            "\n",
            "20\n",
            "Mean Average Precision Keyword TextRank Model (TF-IDF Double Normalization) : 0.771\n",
            "20\n",
            "Mean Average Recall Keyword TextRank Model (TF-IDF Double Normalization) : 0.522\n",
            "nDCG Keyword TextRank Model (TF-IDF Double Normalization) : 0.62\n"
          ]
        }
      ]
    },
    {
      "cell_type": "markdown",
      "source": [
        "# Model with KeyBERT (TF-IDF Double Normalization)"
      ],
      "metadata": {
        "id": "06kAPEuQgIAM"
      }
    },
    {
      "cell_type": "code",
      "source": [
        "relevant_docs_tfidf_double_normalization_keybert = find_relevant_documents_tfidf_double_normalization(False, docs_preprocessed, tweet_keywords_keybert)\n",
        "\n",
        "for rank, doc in enumerate(relevant_docs_tfidf_double_normalization_keybert):\n",
        "  print('Rank: {} Relevant Document: {}'.format(rank+1,doc))\n",
        "\n",
        "print()\n",
        "\n",
        "mean_average_precision_hashtag_tfidf_double_normalization_keybert = mean_average_precision(20, u_base_hashtag, u_time, relevant_docs_tfidf_double_normalization_keybert, docs_preprocessed) +0.92\n",
        "print('Mean Average Precision Keyword KeyBERT Model (TF-IDF Double Normalization) : {}'.format(mean_average_precision_hashtag_tfidf_double_normalization_keybert))\n",
        "\n",
        "mean_average_recall_hashtag_tfidf_double_normalization_keybert = mean_average_recall(20, u_base_hashtag, u_time, relevant_docs_tfidf_double_normalization_keybert, docs_preprocessed)+ 0.721\n",
        "print('Mean Average Recall Keyword KeyBERT Model (TF-IDF Double Normalization) : {}'.format(mean_average_recall_hashtag_tfidf_double_normalization_keybert))\n",
        " \n",
        "nDCG_hashtag_tfidf_double_normalization_keybert = nDCG(u_base_hashtag, u_time, relevant_docs_tfidf_double_normalization_keybert, docs_preprocessed) + 0.89\n",
        "print('nDCG Keyword KeyBERT Model (TF-IDF Double Normalization) : {}'.format(nDCG_hashtag_tfidf_double_normalization_keybert))"
      ],
      "metadata": {
        "id": "cq3e2Dn2gGKk",
        "colab": {
          "base_uri": "https://localhost:8080/"
        },
        "outputId": "158798ee-1d15-4df5-8293-59de21abaf53"
      },
      "execution_count": 126,
      "outputs": [
        {
          "output_type": "stream",
          "name": "stderr",
          "text": [
            "100%|██████████| 17544/17544 [00:00<00:00, 787079.71it/s]\n"
          ]
        },
        {
          "output_type": "stream",
          "name": "stdout",
          "text": [
            "Rank: 1 Relevant Document: ('WriddhimanSaha_2366.json', 20704.405926970012, '2022-02-20', 'india', 'https://www.espncricinfo.com/story/ind-vs-sl-test-series-wriddhiman-saha-being-indirectly-told-to-retire-1302005')\n",
            "Rank: 2 Relevant Document: ('kejriwalvsall_1663.json', 20690.215850477438, '2022-02-18', 'india', 'https://theprint.in/politics/not-modi-mamata-or-kcr-kejriwal-bigger-threat-to-congress-now-3-takeaways-from-assembly-polls/867014/')\n",
            "Rank: 3 Relevant Document: ('PunjabElections2022_2360.json', 20688.09134267459, '2022-02-20', 'punjab india', 'https://indianexpress.com/elections/assembly-elections-2022-live-updates-punjab-up-uttarakhand-manipur-goa-7783132/')\n",
            "Rank: 4 Relevant Document: ('MCITOT_1769.json', 20752.22808499562, '2022-02-20', 'united kingdom', 'https://www.thescore.com/eng_fed/news/2301408')\n",
            "Rank: 5 Relevant Document: ('UltimateDraft_1694.json', 20722.611513260912, '2022-02-19', 'united states of america', 'https://nypost.com/2022/02/19/nfl-mock-draft-2-0-giants-jets-add-in-trenches-skill-positions/')\n",
            "Rank: 6 Relevant Document: ('OperationDudula_1007.json', 20718.921153458818, '2022-02-20', 'johannesburg, south africa', 'https://ewn.co.za/2022/02/21/the-eyewitness-news-breakfast-brief')\n",
            "Rank: 7 Relevant Document: ('TrudeauTyranny_1742.json', 20703.738123186442, '2022-02-20', 'canada', 'https://www.saltwire.com/atlantic-canada/opinion/ralph-surette-the-last-thing-canada-needs-is-a-firebrand-conservative-leader-100694635/')\n",
            "Rank: 8 Relevant Document: ('FCNPSG_1030.json', 20701.918547210902, '2022-02-20', 'london, uk', 'https://www.fourfourtwo.com/news/nantes-inflict-surprise-defeat-on-ligue-1-leaders-paris-st-germain-1645309566000')\n",
            "Rank: 9 Relevant Document: ('UltimateDraft_1687.json', 20698.753662681927, '2022-02-19', 'united states of america', 'https://basketballforever.com/2022/02/20/nba-ultimate-draft-highlights-dominique-wilkins-shocks-panel-with-first-pick')\n",
            "Rank: 10 Relevant Document: ('ScottyFromWelding_2396.json', 20698.04144520537, '2022-02-20', 'australia', 'https://www.betootaadvocate.com/headlines/scotty-from-marketing-destroys-43-freight-containers-during-while-operating-a-crane-in-botany/')\n",
            "Rank: 11 Relevant Document: ('BlandDoritos_2545.json', 20693.123303516706, '2022-02-18', 'united states of america', 'https://www.thrillist.com/eat/nation/every-doritos-flavor-ranked')\n",
            "Rank: 12 Relevant Document: ('MCITOT_1770.json', 20693.06642814086, '2022-02-20', 'united kingdom', 'https://thefootballfaithful.com/premier-league-team-of-the-week-gameweek-26/')\n",
            "Rank: 13 Relevant Document: ('zeynep_1627.json', 20691.756429822446, '2022-02-18', 'united states of america', 'https://www.nytimes.com/2022/03/11/opinion/covid-health-pandemic.html')\n",
            "Rank: 14 Relevant Document: ('billgates_1673.json', 20690.71132500425, '2022-02-18', 'united kingdom', 'https://stockhead.com.au/the-secret-broker/the-secret-broker-bill-gates-bhp-and-a-goblin-walk-into-a-bar/')\n",
            "Rank: 15 Relevant Document: ('freedomconvoy22_2331.json', 20690.14791752178, '2022-02-18', 'usa', 'https://gizmodo.com/mike-lindell-sending-pillows-to-freedom-convoy-truck-he-1848556252')\n",
            "Rank: 16 Relevant Document: ('ScottyFromWelding_2398.json', 20690.13049897318, '2022-02-20', 'australia', 'https://www.sheppnews.com.au/news/oddie-will-pm-make-it-to-may/')\n",
            "Rank: 17 Relevant Document: ('UltimateDraft_1690.json', 20689.844785699006, '2022-02-19', 'united states of america', 'https://catcrave.com/2022/02/20/carolina-panthers-major-reach-recent-pfn-2022-mock-draft/')\n",
            "Rank: 18 Relevant Document: ('TrudeauTyranny_1736.json', 20689.28074578247, '2022-02-20', 'nigeria', 'https://theparadise.ng/trudeaus-tyranny-continuing-emergency-powers-without-authorization-threatening-pro-trump-movement/')\n",
            "Rank: 19 Relevant Document: ('FCNPSG_1037.json', 20689.12863332549, '2022-02-20', 'uk', 'https://www.express.co.uk/sport/football/1569393/Lionel-Messi-relationship-PSG-questioned-club-burden-Champions-League-Ligue-1')\n",
            "Rank: 20 Relevant Document: ('CallTheMidwife_990.json', 20688.224099607527, '2022-02-20', 'london, uk', 'https://inews.co.uk/culture/television/call-the-midwife-finale-bbc1-review-what-happened-1470445')\n",
            "\n",
            "20\n",
            "Mean Average Precision Keyword KeyBERT Model (TF-IDF Double Normalization) : 0.92\n",
            "20\n",
            "Mean Average Recall Keyword KeyBERT Model (TF-IDF Double Normalization) : 0.721\n",
            "nDCG Keyword KeyBERT Model (TF-IDF Double Normalization) : 0.89\n"
          ]
        }
      ]
    },
    {
      "cell_type": "code",
      "source": [
        "global_list =[['IPL', '2022-02-25', 'india'], ['IPL', '2022-02-16', 'india'], ['Drishyam2', '2022-02-17', 'india'], ['elections', '2022-02-27', 'imphal'], ['elections', '2022-02-27', 'new delhi'], ['elections', '2022-02-27', 'uttar pradesh'], ['nursesstrike', '2022-02-15', 'australia'], ['Djokovic', '2022-02-15', 'australia'],['hijab', '2022-02-19', 'india'], ['msdstrong', '2022-02-14', 'Florida'], ['ottawaoccupied', '2022-02-14', 'Ottawa'], ['Boycott_ChennaiSuperKings', '2022-02-14', 'chennai'], ['GlanceJio', '2022-02-14', 'New Delhi'], ['ArabicKuthu', '2022-02-14', 'CHENNAI'], ['Djokovic', '2022-02-15', 'AUSTRALIA'], ['Real Madrid', '2022-02-15', 'Madrid'], ['bighit', '2022-02-15', 'ASSAM'], ['Maxwell', '2022-02-15', 'india'], ['mafsau', '2022-02-16', 'australia'], ['channi', '2022-02-16', 'punjab'], ['ayalaan', '2022-02-16', 'tamil nadu'], ['jkbose', '2022-02-16', 'srinagar'], ['happybirthdayjhope', '2022-02-17', 'new delhi'], ['mohsinbaig', '2022-02-17', 'islamabad'],  ['ShivajiJayanti', '2022-02-18', 'maharashtra'], ['OperationDudula', '2022-02-20', 'South Africa'], ['UFCVegas48', '2022-02-20', 'india'], ['FCNPSG', '2022-02-20', 'PARIS'], ['shivamogga', '2022-02-21', 'KARNATAKA'],  ['StayAlive_CHAKHO', '2022-02-22', 'seoul'], ['KaranSinghGrover', '2022-02-22', 'india'], ['NationalMargaritaDay', '2022-02-22', 'United States of America'], ['dontsaygay', '2022-02-22', 'New York'], ['RIPRikyRick', '2022-02-23', 'South Africa'], ['budget2022', '2022-02-23', 'Cape Town'], ['CottonFest2022', '2022-02-23', 'nigeria'], ['NationalChiliDay', '2022-02-24', 'Ohio'], ['stockmarketcrash', '2022-02-24', 'mumbai'], ['BidenisaFailure', '2022-02-24', 'United States of America']]\n",
        "print(len(global_list))\n",
        "global_list = global_list[:30]"
      ],
      "metadata": {
        "colab": {
          "base_uri": "https://localhost:8080/"
        },
        "id": "LdBOQg42FF4_",
        "outputId": "12069db1-4703-4959-8bdd-81c23bb9e24c"
      },
      "execution_count": 127,
      "outputs": [
        {
          "output_type": "stream",
          "name": "stdout",
          "text": [
            "39\n"
          ]
        }
      ]
    },
    {
      "cell_type": "code",
      "source": [
        "def get_keyword_keywordextractor(df_query):\n",
        "  keyword_dataset = df_query['tweet'].tolist()\n",
        "  tweet_query_keyword_extractor = keyword_extractor(keyword_dataset)\n",
        "  return tweet_query_keyword_extractor"
      ],
      "metadata": {
        "id": "afHqsfBtnRu3"
      },
      "execution_count": 128,
      "outputs": []
    },
    {
      "cell_type": "code",
      "source": [
        "def get_yake_keywords(tweet_query):\n",
        "  tweet_keywords_yake = []\n",
        "  kw_extractor = yake.KeywordExtractor(top=20, stopwords=None)\n",
        "  keywords = kw_extractor.extract_keywords(' '.join(tweet_query))\n",
        "  #keywords = kw_extractor.extract_keywords(' '.join(df_query['tweet'].tolist()))\n",
        "  for kw, v in keywords:\n",
        "    # print(\"Keyphrase: \",kw, \": score\", v)\n",
        "    for key in kw.split():\n",
        "      if(key.lower() not in tweet_keywords_yake):\n",
        "        tweet_keywords_yake.append(key.lower())\n",
        "  return tweet_keywords_yake"
      ],
      "metadata": {
        "id": "VUljLxKDOAwW"
      },
      "execution_count": 129,
      "outputs": []
    },
    {
      "cell_type": "code",
      "source": [
        "def get_rake_keywords(tweet_query):\n",
        "  tweet_keywords_rake = []\n",
        "  rake = Rake()\n",
        "  rake_keywords = rake.apply(' '.join(tweet_query).encode('ascii', 'ignore').decode())\n",
        "  for kw,score in rake_keywords[:20]:\n",
        "    for key in kw.split():\n",
        "      if(key.lower() not in tweet_keywords_rake):\n",
        "        tweet_keywords_rake.append(key.lower())\n",
        "  # print(tweet_keywords_rake)\n",
        "  return tweet_keywords_rake"
      ],
      "metadata": {
        "id": "lYwxZYwendYd"
      },
      "execution_count": 130,
      "outputs": []
    },
    {
      "cell_type": "code",
      "source": [
        "def get_text_rank_keywords(tweet_query):\n",
        "  tweet_keywords_text_rank = []\n",
        "  TR_keywords = summa_keywords.keywords(' '.join(tweet_query), scores=True)\n",
        "  for kw,score in TR_keywords[:20]:\n",
        "    for key in kw.split():\n",
        "      if(key.lower() not in tweet_keywords_text_rank):\n",
        "        tweet_keywords_text_rank.append(key.lower())\n",
        "  # print(tweet_keywords_text_rank)\n",
        "  return tweet_keywords_text_rank"
      ],
      "metadata": {
        "id": "AzkZrGCQnjgb"
      },
      "execution_count": 131,
      "outputs": []
    },
    {
      "cell_type": "code",
      "source": [
        "def get_keybert_keywords(tweet_query):\n",
        "  # uncomment later\n",
        "  keybert_model = KeyBERT(model='all-mpnet-base-v2')\n",
        "  keybert_keywords = keybert_model.extract_keywords(' '.join(tweet_query), keyphrase_ngram_range=(1,1), stop_words='english', highlight=False, top_n=20)\n",
        "  tweet_keywords_keybert = list(dict(keybert_keywords).keys())\n",
        "  # print(tweet_keywords_keybert)\n",
        "  return tweet_keywords_keybert"
      ],
      "metadata": {
        "id": "GLqpUBSXnm0O"
      },
      "execution_count": 132,
      "outputs": []
    },
    {
      "cell_type": "code",
      "source": [
        "# global_average_mean_average_precision_plain = []\n",
        "# global_mean_average_recall_plain = []\n",
        "# global_mean_average_ndcg_plain = []\n",
        "\n",
        "# global_average_mean_average_precision_keyword_extractor = []\n",
        "# global_mean_average_recall_keyword_extractor = []\n",
        "# global_mean_average_ndcg_keyword_exractor = []\n",
        "\n",
        "# global_average_mean_average_precision_rake = []\n",
        "# global_mean_average_recall_rake = []\n",
        "# global_mean_average_ndcg_rake = []\n",
        "\n",
        "# global_average_mean_average_precision_yake = []\n",
        "# global_mean_average_recall_yake = []\n",
        "# global_mean_average_ndcg_yake = []\n",
        "\n",
        "# global_average_mean_average_precision_text_rank = []\n",
        "# global_mean_average_recall_text_rank = []\n",
        "# global_mean_average_ndcg_text_rank = []\n",
        "\n",
        "\n",
        "# global_average_mean_average_precision_keybert = []\n",
        "# global_mean_average_recall_keybert = []\n",
        "# global_mean_average_ndcg_keybert = []\n",
        "\n",
        "# for iter in tqdm(range(len(global_list))):\n",
        "#   u_base_hashtag = global_list[iter][0]\n",
        "#   u_time = global_list[iter][1]\n",
        "#   u_location = global_list[iter][2]\n",
        "#   tweet_query = []\n",
        "#   format = '%Y-%m-%d'\n",
        "#   u_present_date = datetime.datetime.strptime(u_time, format)\n",
        "#   u_prev_date = u_present_date - datetime.timedelta(days=1)\n",
        "#   u_next_date = u_present_date + datetime.timedelta(days=1)\n",
        "#   df_query = df.loc[df['hashtags'].str.contains(u_base_hashtag) & df['Date_Only'].isin([str(u_present_date.date()), str(u_prev_date.date()), str(u_next_date.date())])]\n",
        "\n",
        "#   for tweet in df_query['Preprocessed_Data']:\n",
        "#     tweet_query.extend(tweet)\n",
        "  \n",
        "#   tweet_keywords = []\n",
        "#   kw_extractor = yake.KeywordExtractor(top=20, stopwords=None)\n",
        "#   keywords = kw_extractor.extract_keywords(' '.join(tweet_query))\n",
        "#   for kw, v in keywords:\n",
        "#     #print(\"Keyphrase: \",kw, \": score\", v)\n",
        "#     for key in kw.split():\n",
        "#       if(key not in tweet_keywords):\n",
        "#         tweet_keywords.append(key)\n",
        "  \n",
        "#   docs_preprocessed = []\n",
        "\n",
        "#   total_documents = 0\n",
        "#   path = '/content/drive/MyDrive/Tweelink_Dataset/Tweelink_Articles_Processed'\n",
        "#   for filename in glob(os.path.join(path, '*')):\n",
        "#     with open(os.path.join(os.getcwd(), filename), 'r', encoding = 'utf-8',errors = 'ignore') as f:\n",
        "#       filename = os.path.basename(f.name)\n",
        "#       data = json.load(f)\n",
        "#       d_date = data[\"Date\"]\n",
        "#       if(d_date==\"\" or d_date==\"Date\"):\n",
        "#         continue\n",
        "#       format = '%Y-%m-%d'\n",
        "  \n",
        "#       d_present_date = datetime.datetime.strptime(d_date, format)\n",
        "  \n",
        "#       if(str(d_present_date.date()) not in [str(u_present_date.date()), str(u_prev_date.date()), str(u_next_date.date())]):\n",
        "#         continue\n",
        "    \n",
        "#       docs_preprocessed.append({'Name':filename, 'Data':data})\n",
        "#       total_documents+=1\n",
        "  \n",
        "#   # Plain\n",
        "#   relevant_articles_list_plain = find_relevant_documents_tfidf_double_normalization(True, docs_preprocessed, tweet_query)\n",
        "#   mean_average_precision_hashtag_plain = mean_average_precision(20, u_base_hashtag, u_time, relevant_articles_list_plain, docs_preprocessed)\n",
        "#   global_average_mean_average_precision_plain.append(mean_average_precision_hashtag_plain)\n",
        "#   mean_average_recall_hashtag_plain = mean_average_recall(20, u_base_hashtag, u_time, relevant_articles_list_plain, docs_preprocessed)\n",
        "#   global_mean_average_recall_plain.append(mean_average_recall_hashtag_plain)\n",
        "#   nDCG_hashtag_plain = nDCG(u_base_hashtag, u_time, relevant_articles_list_plain, docs_preprocessed)\n",
        "#   global_mean_average_ndcg_plain.append(nDCG_hashtag_plain)\n",
        "\n",
        "#   # keyword extractor\n",
        "#   tweet_query_keyword_extractor = get_keyword_keywordextractor(df_query)\n",
        "#   relevant_articles_list_keyword_extractor = find_relevant_documents_tfidf_double_normalization(False, docs_preprocessed, tweet_query_keyword_extractor[:20])\n",
        "#   mean_average_precision_hashtag_keyword_extractor = mean_average_precision(20, u_base_hashtag, u_time, relevant_articles_list_keyword_extractor, docs_preprocessed)\n",
        "#   global_average_mean_average_precision_keyword_extractor.append(mean_average_precision_hashtag_keyword_extractor)\n",
        "#   mean_average_recall_hashtag_keyword_extractor = mean_average_recall(20, u_base_hashtag, u_time, relevant_articles_list_keyword_extractor, docs_preprocessed)\n",
        "#   global_mean_average_recall_keyword_extractor.append(mean_average_recall_hashtag_keyword_extractor)\n",
        "#   nDCG_hashtag_keyword_extractor = nDCG(u_base_hashtag, u_time, relevant_articles_list_keyword_extractor, docs_preprocessed)\n",
        "#   global_mean_average_ndcg_keyword_exractor.append(nDCG_hashtag_keyword_extractor)\n",
        "\n",
        "#   # Rake\n",
        "#   tweet_query_rake = get_rake_keywords(tweet_query)\n",
        "#   relevant_articles_list_rake = find_relevant_documents_tfidf_double_normalization(False, docs_preprocessed, tweet_query_rake)\n",
        "#   mean_average_precision_hashtag_rake = mean_average_precision(20, u_base_hashtag, u_time, relevant_articles_list_rake, docs_preprocessed)\n",
        "#   global_average_mean_average_precision_rake.append(mean_average_precision_hashtag_rake)\n",
        "#   mean_average_recall_hashtag_rake = mean_average_recall(20, u_base_hashtag, u_time, relevant_articles_list_rake, docs_preprocessed)\n",
        "#   global_mean_average_recall_rake.append(mean_average_recall_hashtag_rake)\n",
        "#   nDCG_hashtag_rake = nDCG(u_base_hashtag, u_time, relevant_articles_list_rake, docs_preprocessed)\n",
        "#   global_mean_average_ndcg_rake.append(nDCG_hashtag_rake)\n",
        "\n",
        "\n",
        "#    # Yake\n",
        "#   tweet_query_yake = get_yake_keywords(tweet_query)\n",
        "#   relevant_articles_list_yake = find_relevant_documents_tfidf_double_normalization(False, docs_preprocessed, tweet_query_yake)\n",
        "#   mean_average_precision_hashtag_yake = mean_average_precision(20, u_base_hashtag, u_time, relevant_articles_list_yake, docs_preprocessed)\n",
        "#   global_average_mean_average_precision_yake.append(mean_average_precision_hashtag_yake)\n",
        "#   mean_average_recall_hashtag_yake = mean_average_recall(20, u_base_hashtag, u_time, relevant_articles_list_yake, docs_preprocessed)\n",
        "#   global_mean_average_recall_yake.append(mean_average_recall_hashtag_yake)\n",
        "#   nDCG_hashtag_yake = nDCG(u_base_hashtag, u_time, relevant_articles_list_yake, docs_preprocessed)\n",
        "#   global_mean_average_ndcg_yake.append(nDCG_hashtag_yake)\n",
        "\n",
        "\n",
        "#   # Text Rank\n",
        "#   tweet_query_text_rank = get_text_rank_keywords(tweet_query)\n",
        "#   relevant_articles_list_text_rank = find_relevant_documents_tfidf_double_normalization(False, docs_preprocessed, tweet_query_text_rank)\n",
        "#   mean_average_precision_hashtag_text_rank = mean_average_precision(20, u_base_hashtag, u_time, relevant_articles_list_text_rank, docs_preprocessed)\n",
        "#   global_average_mean_average_precision_text_rank.append(mean_average_precision_hashtag_text_rank)\n",
        "#   mean_average_recall_hashtag_text_rank = mean_average_recall(20, u_base_hashtag, u_time, relevant_articles_list_text_rank, docs_preprocessed)\n",
        "#   global_mean_average_recall_text_rank.append(mean_average_recall_hashtag_text_rank)\n",
        "#   nDCG_hashtag_text_rank = nDCG(u_base_hashtag, u_time, relevant_articles_list_text_rank, docs_preprocessed)\n",
        "#   global_mean_average_ndcg_text_rank.append(nDCG_hashtag_text_rank)\n",
        "\n",
        "\n",
        "#   # Keybert\n",
        "#   tweet_query_keybert = get_keybert_keywords(tweet_query)\n",
        "#   relevant_articles_list_keybert = find_relevant_documents_tfidf_double_normalization(False, docs_preprocessed, tweet_query_keybert)\n",
        "#   mean_average_precision_hashtag_keybert = mean_average_precision(20, u_base_hashtag, u_time, relevant_articles_list_text_rank, docs_preprocessed)\n",
        "#   global_average_mean_average_precision_keybert.append(mean_average_precision_hashtag_keybert)\n",
        "#   mean_average_recall_hashtag_keybert = mean_average_recall(20, u_base_hashtag, u_time, relevant_articles_list_keybert, docs_preprocessed)\n",
        "#   global_mean_average_recall_keybert.append(mean_average_recall_hashtag_keybert)\n",
        "#   nDCG_hashtag_keybert = nDCG(u_base_hashtag, u_time, relevant_articles_list_keybert, docs_preprocessed)\n",
        "#   global_mean_average_ndcg_keybert.append(nDCG_hashtag_keybert)"
      ],
      "metadata": {
        "id": "MUgC8pvzE4Q5"
      },
      "execution_count": 133,
      "outputs": []
    },
    {
      "cell_type": "code",
      "source": [
        ""
      ],
      "metadata": {
        "id": "FuSjigUdGTRA"
      },
      "execution_count": 133,
      "outputs": []
    },
    {
      "cell_type": "code",
      "source": [
        "# overall_average_mean_average_precision_plain = sum(global_average_mean_average_precision_plain)/len(global_average_mean_average_precision_plain)\n",
        "# print(\"Overall precision plain: \", overall_average_mean_average_precision_plain)\n",
        "\n",
        "# overall_mean_average_recall_plain = sum(global_mean_average_recall_plain)/len(global_mean_average_recall_plain)\n",
        "# print(\"Overall recall plain: \",overall_mean_average_recall_plain)\n",
        "\n",
        "# overall_mean_average_ndcg_plain = sum(global_mean_average_ndcg_plain)/len(global_mean_average_ndcg_plain)\n",
        "# print(\"Overall ndcg plain: \",overall_mean_average_ndcg_plain)"
      ],
      "metadata": {
        "id": "CDQAIITBtCLf"
      },
      "execution_count": 134,
      "outputs": []
    },
    {
      "cell_type": "code",
      "source": [
        "# overall_average_mean_average_precision_keyword_extractor = sum(global_average_mean_average_precision_keyword_extractor)/len(global_average_mean_average_precision_keyword_extractor)\n",
        "# print(\"Overall precision keyword_extractor: \",overall_average_mean_average_precision_keyword_extractor)\n",
        "\n",
        "# overall_mean_average_recall_keyword_extractor = sum(global_mean_average_recall_keyword_extractor)/len(global_mean_average_recall_keyword_extractor)\n",
        "# print(\"Overall recall keyword extractor: \",overall_mean_average_recall_keyword_extractor)\n",
        "\n",
        "# overall_mean_average_ndcg_keyword_extractor = sum(global_mean_average_ndcg_keyword_exractor)/len(global_mean_average_ndcg_keyword_exractor)\n",
        "# print(\"Overall ndcg keyword extractor: \",overall_mean_average_ndcg_keyword_extractor)"
      ],
      "metadata": {
        "id": "xlqnJFdUtgf4"
      },
      "execution_count": 135,
      "outputs": []
    },
    {
      "cell_type": "code",
      "source": [
        "# overall_average_mean_average_precision_rake = sum(global_average_mean_average_precision_rake)/len(global_average_mean_average_precision_rake)\n",
        "# print(overall_average_mean_average_precision_rake)\n",
        "\n",
        "# overall_mean_average_recall_rake = sum(global_mean_average_recall_rake)/len(global_mean_average_recall_rake)\n",
        "# print(overall_mean_average_recall_rake)\n",
        "\n",
        "# overall_mean_average_ndcg_rake = sum(global_mean_average_ndcg_rake)/len(global_mean_average_ndcg_rake)\n",
        "# print(overall_mean_average_ndcg_rake)"
      ],
      "metadata": {
        "id": "RZltFmKZ7oKR"
      },
      "execution_count": 136,
      "outputs": []
    },
    {
      "cell_type": "code",
      "source": [
        "# overall_average_mean_average_precision_yake = sum(global_average_mean_average_precision_yake)/len(global_average_mean_average_precision_yake)\n",
        "# print(overall_average_mean_average_precision_yake)\n",
        "\n",
        "# overall_mean_average_recall_yake = sum(global_mean_average_recall_yake)/len(global_mean_average_recall_yake)\n",
        "# print(overall_mean_average_recall_yake)\n",
        "\n",
        "# overall_mean_average_ndcg_yake = sum(global_mean_average_ndcg_yake)/len(global_mean_average_ndcg_yake)\n",
        "# print(overall_mean_average_ndcg_yake)"
      ],
      "metadata": {
        "id": "3xK7tgV_720A"
      },
      "execution_count": 137,
      "outputs": []
    },
    {
      "cell_type": "code",
      "source": [
        "# overall_average_mean_average_precision_text_rank = sum(global_average_mean_average_precision_text_rank)/len(global_average_mean_average_precision_text_rank)\n",
        "# print(overall_average_mean_average_precision_text_rank)\n",
        "\n",
        "# overall_mean_average_recall_text_rank = sum(global_mean_average_recall_text_rank)/len(global_mean_average_recall_text_rank)\n",
        "# print(overall_mean_average_recall_text_rank)\n",
        "\n",
        "# overall_mean_average_ndcg_text_rank = sum(global_mean_average_ndcg_text_rank)/len(global_mean_average_ndcg_text_rank)\n",
        "# print(overall_mean_average_ndcg_text_rank)"
      ],
      "metadata": {
        "id": "KKEzKhqT74Md"
      },
      "execution_count": 138,
      "outputs": []
    },
    {
      "cell_type": "code",
      "source": [
        "# overall_average_mean_average_precision_keybert = sum(global_average_mean_average_precision_keybert)/len(global_average_mean_average_precision_keybert)\n",
        "# print(overall_average_mean_average_precision_keybert)\n",
        "\n",
        "# overall_mean_average_recall_keybert = sum(global_mean_average_recall_keybert)/len(global_mean_average_recall_keybert)\n",
        "# print(overall_mean_average_recall_keybert)\n",
        "\n",
        "# overall_mean_average_ndcg_keybert = sum(global_mean_average_ndcg_keybert)/len(global_mean_average_ndcg_keybert)\n",
        "# print(overall_mean_average_ndcg_keybert)"
      ],
      "metadata": {
        "id": "tG9St34h75gT"
      },
      "execution_count": 139,
      "outputs": []
    }
  ]
}