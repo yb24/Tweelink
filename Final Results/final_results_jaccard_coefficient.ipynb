{
  "nbformat": 4,
  "nbformat_minor": 0,
  "metadata": {
    "colab": {
      "name": "final_results_jaccard_coefficient.ipynb",
      "provenance": [],
      "collapsed_sections": []
    },
    "kernelspec": {
      "name": "python3",
      "display_name": "Python 3"
    },
    "language_info": {
      "name": "python"
    }
  },
  "cells": [
    {
      "cell_type": "markdown",
      "source": [
        "# Import"
      ],
      "metadata": {
        "id": "n_aKKscUhUBv"
      }
    },
    {
      "cell_type": "code",
      "execution_count": 47,
      "metadata": {
        "colab": {
          "base_uri": "https://localhost:8080/"
        },
        "id": "luxERQDdueKw",
        "outputId": "bf01a514-0b99-438e-ca5d-4e97e731cff2"
      },
      "outputs": [
        {
          "output_type": "stream",
          "name": "stdout",
          "text": [
            "[nltk_data] Downloading package punkt to /root/nltk_data...\n",
            "[nltk_data]   Package punkt is already up-to-date!\n",
            "[nltk_data] Downloading package stopwords to /root/nltk_data...\n",
            "[nltk_data]   Package stopwords is already up-to-date!\n",
            "[nltk_data] Error loading corpus: Package 'corpus' not found in index\n",
            "Collecting git+https://github.com/LIAAD/yake\n",
            "  Cloning https://github.com/LIAAD/yake to /tmp/pip-req-build-t9lssg4k\n",
            "  Running command git clone -q https://github.com/LIAAD/yake /tmp/pip-req-build-t9lssg4k\n",
            "Requirement already satisfied: tabulate in /usr/local/lib/python3.7/dist-packages (from yake==0.4.8) (0.8.9)\n",
            "Requirement already satisfied: click>=6.0 in /usr/local/lib/python3.7/dist-packages (from yake==0.4.8) (7.1.2)\n",
            "Requirement already satisfied: numpy in /usr/local/lib/python3.7/dist-packages (from yake==0.4.8) (1.21.6)\n",
            "Requirement already satisfied: segtok in /usr/local/lib/python3.7/dist-packages (from yake==0.4.8) (1.5.11)\n",
            "Requirement already satisfied: networkx in /usr/local/lib/python3.7/dist-packages (from yake==0.4.8) (2.6.3)\n",
            "Requirement already satisfied: jellyfish in /usr/local/lib/python3.7/dist-packages (from yake==0.4.8) (0.9.0)\n",
            "Requirement already satisfied: regex in /usr/local/lib/python3.7/dist-packages (from segtok->yake==0.4.8) (2019.12.20)\n",
            "Requirement already satisfied: multi_rake in /usr/local/lib/python3.7/dist-packages (0.0.2)\n",
            "Requirement already satisfied: pyrsistent>=0.14.2 in /usr/local/lib/python3.7/dist-packages (from multi_rake) (0.18.1)\n",
            "Requirement already satisfied: pycld2>=0.41 in /usr/local/lib/python3.7/dist-packages (from multi_rake) (0.41)\n",
            "Requirement already satisfied: numpy>=1.14.4 in /usr/local/lib/python3.7/dist-packages (from multi_rake) (1.21.6)\n",
            "Requirement already satisfied: regex>=2018.6.6 in /usr/local/lib/python3.7/dist-packages (from multi_rake) (2019.12.20)\n",
            "Requirement already satisfied: summa in /usr/local/lib/python3.7/dist-packages (1.2.0)\n",
            "Requirement already satisfied: scipy>=0.19 in /usr/local/lib/python3.7/dist-packages (from summa) (1.4.1)\n",
            "Requirement already satisfied: numpy>=1.13.3 in /usr/local/lib/python3.7/dist-packages (from scipy>=0.19->summa) (1.21.6)\n",
            "Requirement already satisfied: keybert in /usr/local/lib/python3.7/dist-packages (0.5.1)\n",
            "Requirement already satisfied: rich>=10.4.0 in /usr/local/lib/python3.7/dist-packages (from keybert) (12.3.0)\n",
            "Requirement already satisfied: scikit-learn>=0.22.2 in /usr/local/lib/python3.7/dist-packages (from keybert) (1.0.2)\n",
            "Requirement already satisfied: numpy>=1.18.5 in /usr/local/lib/python3.7/dist-packages (from keybert) (1.21.6)\n",
            "Requirement already satisfied: sentence-transformers>=0.3.8 in /usr/local/lib/python3.7/dist-packages (from keybert) (2.2.0)\n",
            "Requirement already satisfied: typing-extensions<5.0,>=4.0.0 in /usr/local/lib/python3.7/dist-packages (from rich>=10.4.0->keybert) (4.2.0)\n",
            "Requirement already satisfied: pygments<3.0.0,>=2.6.0 in /usr/local/lib/python3.7/dist-packages (from rich>=10.4.0->keybert) (2.6.1)\n",
            "Requirement already satisfied: commonmark<0.10.0,>=0.9.0 in /usr/local/lib/python3.7/dist-packages (from rich>=10.4.0->keybert) (0.9.1)\n",
            "Requirement already satisfied: scipy>=1.1.0 in /usr/local/lib/python3.7/dist-packages (from scikit-learn>=0.22.2->keybert) (1.4.1)\n",
            "Requirement already satisfied: joblib>=0.11 in /usr/local/lib/python3.7/dist-packages (from scikit-learn>=0.22.2->keybert) (1.1.0)\n",
            "Requirement already satisfied: threadpoolctl>=2.0.0 in /usr/local/lib/python3.7/dist-packages (from scikit-learn>=0.22.2->keybert) (3.1.0)\n",
            "Requirement already satisfied: tqdm in /usr/local/lib/python3.7/dist-packages (from sentence-transformers>=0.3.8->keybert) (4.64.0)\n",
            "Requirement already satisfied: transformers<5.0.0,>=4.6.0 in /usr/local/lib/python3.7/dist-packages (from sentence-transformers>=0.3.8->keybert) (4.18.0)\n",
            "Requirement already satisfied: nltk in /usr/local/lib/python3.7/dist-packages (from sentence-transformers>=0.3.8->keybert) (3.2.5)\n",
            "Requirement already satisfied: torch>=1.6.0 in /usr/local/lib/python3.7/dist-packages (from sentence-transformers>=0.3.8->keybert) (1.11.0+cu113)\n",
            "Requirement already satisfied: huggingface-hub in /usr/local/lib/python3.7/dist-packages (from sentence-transformers>=0.3.8->keybert) (0.5.1)\n",
            "Requirement already satisfied: sentencepiece in /usr/local/lib/python3.7/dist-packages (from sentence-transformers>=0.3.8->keybert) (0.1.96)\n",
            "Requirement already satisfied: torchvision in /usr/local/lib/python3.7/dist-packages (from sentence-transformers>=0.3.8->keybert) (0.12.0+cu113)\n",
            "Requirement already satisfied: packaging>=20.0 in /usr/local/lib/python3.7/dist-packages (from transformers<5.0.0,>=4.6.0->sentence-transformers>=0.3.8->keybert) (21.3)\n",
            "Requirement already satisfied: requests in /usr/local/lib/python3.7/dist-packages (from transformers<5.0.0,>=4.6.0->sentence-transformers>=0.3.8->keybert) (2.23.0)\n",
            "Requirement already satisfied: sacremoses in /usr/local/lib/python3.7/dist-packages (from transformers<5.0.0,>=4.6.0->sentence-transformers>=0.3.8->keybert) (0.0.49)\n",
            "Requirement already satisfied: regex!=2019.12.17 in /usr/local/lib/python3.7/dist-packages (from transformers<5.0.0,>=4.6.0->sentence-transformers>=0.3.8->keybert) (2019.12.20)\n",
            "Requirement already satisfied: filelock in /usr/local/lib/python3.7/dist-packages (from transformers<5.0.0,>=4.6.0->sentence-transformers>=0.3.8->keybert) (3.6.0)\n",
            "Requirement already satisfied: pyyaml>=5.1 in /usr/local/lib/python3.7/dist-packages (from transformers<5.0.0,>=4.6.0->sentence-transformers>=0.3.8->keybert) (6.0)\n",
            "Requirement already satisfied: importlib-metadata in /usr/local/lib/python3.7/dist-packages (from transformers<5.0.0,>=4.6.0->sentence-transformers>=0.3.8->keybert) (4.11.3)\n",
            "Requirement already satisfied: tokenizers!=0.11.3,<0.13,>=0.11.1 in /usr/local/lib/python3.7/dist-packages (from transformers<5.0.0,>=4.6.0->sentence-transformers>=0.3.8->keybert) (0.12.1)\n",
            "Requirement already satisfied: pyparsing!=3.0.5,>=2.0.2 in /usr/local/lib/python3.7/dist-packages (from packaging>=20.0->transformers<5.0.0,>=4.6.0->sentence-transformers>=0.3.8->keybert) (3.0.8)\n",
            "Requirement already satisfied: zipp>=0.5 in /usr/local/lib/python3.7/dist-packages (from importlib-metadata->transformers<5.0.0,>=4.6.0->sentence-transformers>=0.3.8->keybert) (3.8.0)\n",
            "Requirement already satisfied: six in /usr/local/lib/python3.7/dist-packages (from nltk->sentence-transformers>=0.3.8->keybert) (1.15.0)\n",
            "Requirement already satisfied: certifi>=2017.4.17 in /usr/local/lib/python3.7/dist-packages (from requests->transformers<5.0.0,>=4.6.0->sentence-transformers>=0.3.8->keybert) (2021.10.8)\n",
            "Requirement already satisfied: chardet<4,>=3.0.2 in /usr/local/lib/python3.7/dist-packages (from requests->transformers<5.0.0,>=4.6.0->sentence-transformers>=0.3.8->keybert) (3.0.4)\n",
            "Requirement already satisfied: urllib3!=1.25.0,!=1.25.1,<1.26,>=1.21.1 in /usr/local/lib/python3.7/dist-packages (from requests->transformers<5.0.0,>=4.6.0->sentence-transformers>=0.3.8->keybert) (1.24.3)\n",
            "Requirement already satisfied: idna<3,>=2.5 in /usr/local/lib/python3.7/dist-packages (from requests->transformers<5.0.0,>=4.6.0->sentence-transformers>=0.3.8->keybert) (2.10)\n",
            "Requirement already satisfied: click in /usr/local/lib/python3.7/dist-packages (from sacremoses->transformers<5.0.0,>=4.6.0->sentence-transformers>=0.3.8->keybert) (7.1.2)\n",
            "Requirement already satisfied: pillow!=8.3.*,>=5.3.0 in /usr/local/lib/python3.7/dist-packages (from torchvision->sentence-transformers>=0.3.8->keybert) (7.1.2)\n"
          ]
        }
      ],
      "source": [
        "import pandas as pd\n",
        "import numpy as np\n",
        "import csv\n",
        "import json\n",
        "from itertools import islice\n",
        "from collections import OrderedDict\n",
        "import pandas as pd\n",
        "import numpy as np\n",
        "import matplotlib.pyplot as plt\n",
        "import seaborn as sns\n",
        "import os\n",
        "import nltk\n",
        "from glob import glob\n",
        "from nltk.corpus import stopwords\n",
        "from nltk.stem import WordNetLemmatizer\n",
        "from nltk.tokenize import word_tokenize\n",
        "from nltk.stem import PorterStemmer\n",
        "from tqdm import tqdm\n",
        "import pickle\n",
        "import math\n",
        "import re\n",
        "from sklearn.model_selection import train_test_split\n",
        "import operator\n",
        "from sklearn.metrics import accuracy_score\n",
        "from sklearn.metrics import confusion_matrix, ConfusionMatrixDisplay\n",
        "nltk.download('punkt')\n",
        "nltk.download('stopwords')\n",
        "nltk.download('corpus')\n",
        "from sklearn.feature_extraction.text import CountVectorizer\n",
        "from sklearn.feature_extraction.text import TfidfVectorizer\n",
        "from sklearn.metrics.pairwise import cosine_similarity\n",
        "from scipy import stats\n",
        "! pip install git+https://github.com/LIAAD/yake\n",
        "import yake\n",
        "! pip install multi_rake\n",
        "from multi_rake import Rake\n",
        "! pip install summa\n",
        "from summa import keywords as summa_keywords\n",
        "! pip install keybert\n",
        "from keybert import KeyBERT"
      ]
    },
    {
      "cell_type": "code",
      "source": [
        "from nltk.stem import WordNetLemmatizer\n",
        "nltk.download('wordnet')"
      ],
      "metadata": {
        "colab": {
          "base_uri": "https://localhost:8080/"
        },
        "id": "LMXxc7Iyuzo-",
        "outputId": "b67e30e1-2e05-4cd7-b28e-6c4035b6d4b4"
      },
      "execution_count": 48,
      "outputs": [
        {
          "output_type": "stream",
          "name": "stdout",
          "text": [
            "[nltk_data] Downloading package wordnet to /root/nltk_data...\n",
            "[nltk_data]   Package wordnet is already up-to-date!\n"
          ]
        },
        {
          "output_type": "execute_result",
          "data": {
            "text/plain": [
              "True"
            ]
          },
          "metadata": {},
          "execution_count": 48
        }
      ]
    },
    {
      "cell_type": "code",
      "source": [
        "from google.colab import drive\n",
        "drive.mount('/content/drive')"
      ],
      "metadata": {
        "colab": {
          "base_uri": "https://localhost:8080/"
        },
        "id": "kpEZE5B5u3e1",
        "outputId": "b41922d3-8576-481b-a426-a9fdee0bd295"
      },
      "execution_count": 49,
      "outputs": [
        {
          "output_type": "stream",
          "name": "stdout",
          "text": [
            "Drive already mounted at /content/drive; to attempt to forcibly remount, call drive.mount(\"/content/drive\", force_remount=True).\n"
          ]
        }
      ]
    },
    {
      "cell_type": "code",
      "source": [
        "file1 = open(\"/content/drive/MyDrive/Tweelink_Dataset/twitter_base_preprocessed.pkl\", \"rb\")\n",
        "df = pickle.load(file1)\n",
        "file1.close()"
      ],
      "metadata": {
        "id": "N5elrkQT9Kd7"
      },
      "execution_count": 50,
      "outputs": []
    },
    {
      "cell_type": "markdown",
      "source": [
        "# Input"
      ],
      "metadata": {
        "id": "qUXmd4bEt6I9"
      }
    },
    {
      "cell_type": "code",
      "source": [
        "u_base_hashtag = input(\"Enter base hashtag: \")\n",
        "u_time = input(\"Enter time: \")\n",
        "u_location = input(\"Enter Location: \")"
      ],
      "metadata": {
        "colab": {
          "base_uri": "https://localhost:8080/"
        },
        "id": "OiYHMMEyx1_z",
        "outputId": "9e424b14-0653-4e25-e159-c545542355ce"
      },
      "execution_count": 51,
      "outputs": [
        {
          "name": "stdout",
          "output_type": "stream",
          "text": [
            "Enter base hashtag: hijab\n",
            "Enter time: 2022-02-19\n",
            "Enter Location: india\n"
          ]
        }
      ]
    },
    {
      "cell_type": "markdown",
      "source": [
        "# Processing"
      ],
      "metadata": {
        "id": "xaUIiNU5fYSk"
      }
    },
    {
      "cell_type": "code",
      "source": [
        "import datetime\n",
        "tweet_query = []\n",
        "format = '%Y-%m-%d'\n",
        "u_present_date = datetime.datetime.strptime(u_time, format)\n",
        "u_prev_date = u_present_date - datetime.timedelta(days=1)\n",
        "u_next_date = u_present_date + datetime.timedelta(days=1)\n",
        "df_query = df.loc[df['hashtags'].str.contains(u_base_hashtag) & df['Date_Only'].isin([str(u_present_date.date()), str(u_prev_date.date()), str(u_next_date.date())])]\n",
        "print(df_query.shape[0])\n",
        "if df_query.shape[0]<50:\n",
        "  df_query = df.loc[df['Date_Only'].isin([str(u_present_date.date()), str(u_prev_date.date()), str(u_next_date.date())])]\n",
        "  df_query = df.iloc[:min(df_query.shape[0],1000),:]"
      ],
      "metadata": {
        "id": "Fnm3hyL-yBf7",
        "colab": {
          "base_uri": "https://localhost:8080/"
        },
        "outputId": "c9e77638-811e-4e99-948e-3a2fe5f9d81b"
      },
      "execution_count": 52,
      "outputs": [
        {
          "output_type": "stream",
          "name": "stdout",
          "text": [
            "264\n"
          ]
        }
      ]
    },
    {
      "cell_type": "code",
      "source": [
        "def keyword_extractor(dataset):\n",
        "  preprocessed_vocabulary = dict()\n",
        "\n",
        "  #Converting to lowercase\n",
        "  def to_lower_case(text):\n",
        "    text = text.lower()\n",
        "    return text\n",
        "\n",
        "  def remove_at_word(text):\n",
        "    data = text.split()\n",
        "    data = [d for d in data if d[0]!='@']\n",
        "    text = ' '.join(data)\n",
        "    return text\n",
        "\n",
        "  def remove_hashtag(text):\n",
        "    data = text.split()\n",
        "    data = [d if (d[0]!='#' or len(d) == 1) else d[1:] for d in data]\n",
        "    data = [d for d in data if d[0]!='#']\n",
        "    text = ' '.join(data)\n",
        "    return text\n",
        "\n",
        "  def remove_URL(text):\n",
        "    text = re.sub(r\"http\\S+\", \"\", text)\n",
        "    text = re.sub(r'bit.ly\\S+', '', text, flags=re.MULTILINE)\n",
        "    return text\n",
        "\n",
        "  #Removing stopwords\n",
        "  def remove_stopwords(text):\n",
        "    stopword = stopwords.words('english')\n",
        "    new_list = [x for x in text.split() if x not in stopword]\n",
        "    return ' '.join(new_list)\n",
        "\n",
        "  #Removing punctuations\n",
        "  def remove_punctuations(text):\n",
        "    punctuations = '''!()-[|]`{};:'\"\\,<>./?@#$=+%^&*_~'''\n",
        "    new_list = ['' if x in punctuations else x for x in text.split()]\n",
        "    new_list_final = []\n",
        "    for token in new_list:\n",
        "      new_token=\"\"\n",
        "      for char in token:\n",
        "        if(char not in punctuations):\n",
        "          new_token+=char\n",
        "      if(len(new_token)!=0):\n",
        "        new_list_final.append(new_token)\n",
        "    return ' '.join(new_list_final)\n",
        "\n",
        "  #Tokenization\n",
        "  def tokenization(text):\n",
        "    return word_tokenize(text)\n",
        "\n",
        "  def pre_process(text):\n",
        "    text = to_lower_case(text)\n",
        "    text = remove_at_word(text)\n",
        "    text = remove_hashtag(text)\n",
        "    text = remove_URL(text)\n",
        "    text = remove_stopwords(text)\n",
        "    text = remove_punctuations(text)\n",
        "    text = tokenization(text)\n",
        "    for token in text:\n",
        "      if token in preprocessed_vocabulary.keys():\n",
        "        preprocessed_vocabulary[token] += 1\n",
        "      else:\n",
        "        preprocessed_vocabulary[token] = 1\n",
        "    return text\n",
        "  \n",
        "  preprocessed_data = [pre_process(text) for text in dataset]\n",
        "\n",
        "  #print(preprocessed_vocabulary)\n",
        "\n",
        "  if len(preprocessed_vocabulary) > 0:\n",
        "    AOF_coefficient = sum(preprocessed_vocabulary.values())/len(preprocessed_vocabulary)\n",
        "  else:\n",
        "    AOF_coefficient = 0\n",
        "  vocabulary = {token.strip():preprocessed_vocabulary[token] for token in preprocessed_vocabulary.keys() if preprocessed_vocabulary[token] > AOF_coefficient and len(token.strip())}\n",
        "\n",
        "  #print(vocabulary)\n",
        "\n",
        "  final_tokens_per_tweet = []\n",
        "  for data in preprocessed_data:\n",
        "    final_tokens_per_tweet.append([token for token in data if token in vocabulary.keys()])\n",
        "\n",
        "  #print(preprocessed_data)\n",
        "  #print(final_tokens_per_tweet)\n",
        "\n",
        "  word2id = dict()\n",
        "  id2word = dict()\n",
        "  vocabulary_size = len(vocabulary)\n",
        "  count = 0\n",
        "  for token in vocabulary.keys():\n",
        "    word2id[token] = count\n",
        "    id2word[count] = token\n",
        "    count += 1\n",
        "\n",
        "  #print(word2id)\n",
        "  #print(id2word)\n",
        "\n",
        "  directed_graph_adjacency_matrix = np.zeros((vocabulary_size, vocabulary_size))\n",
        "  edge_weight_matrix = np.zeros((vocabulary_size, vocabulary_size))\n",
        "  first_frequency = dict()\n",
        "  last_frequency = dict()\n",
        "  term_frequency = vocabulary\n",
        "  strength = dict()\n",
        "  degree = dict()\n",
        "  selective_centraility = dict()\n",
        "\n",
        "\n",
        "  for tweet in final_tokens_per_tweet:\n",
        "    if len(tweet)<1:\n",
        "      continue\n",
        "\n",
        "    if tweet[0] in first_frequency.keys():\n",
        "      first_frequency[tweet[0]] += 1\n",
        "    else:\n",
        "      first_frequency[tweet[0]] = 1\n",
        "\n",
        "    if tweet[-1] in last_frequency.keys():\n",
        "      last_frequency[tweet[-1]] += 1\n",
        "    else:\n",
        "      last_frequency[tweet[-1]] = 1\n",
        "    \n",
        "\n",
        "\n",
        "    for i in range(len(tweet)-1):\n",
        "      if tweet[i] == tweet[i+1]:\n",
        "        continue\n",
        "      x = word2id[tweet[i]]\n",
        "      y = word2id[tweet[i+1]]\n",
        "      directed_graph_adjacency_matrix[x][y] += 1\n",
        "\n",
        "  for tweet in final_tokens_per_tweet:\n",
        "    for i in range(len(tweet)-1):\n",
        "\n",
        "\n",
        "      if tweet[i] == tweet[i+1]:\n",
        "        continue\n",
        "      x = word2id[tweet[i]]\n",
        "      y = word2id[tweet[i+1]]\n",
        "\n",
        "    # Updating degree..\n",
        "      if tweet[i] in degree.keys():\n",
        "        degree[tweet[i]] += 1\n",
        "      else:\n",
        "        degree[tweet[i]] = 1\n",
        "        \n",
        "      if tweet[i+1] in degree.keys():\n",
        "        degree[tweet[i+1]] += 1\n",
        "      else:\n",
        "        degree[tweet[i+1]] = 1\n",
        "\n",
        "      edge_weight_matrix[x][y] = directed_graph_adjacency_matrix[x][y]/(vocabulary[tweet[i]] + vocabulary[tweet[i+1]] - directed_graph_adjacency_matrix[x][y])\n",
        "\n",
        "      if tweet[i] in strength.keys():\n",
        "        strength[tweet[i]] += edge_weight_matrix[x][y]\n",
        "      else:\n",
        "        strength[tweet[i]] = edge_weight_matrix[x][y]\n",
        "\n",
        "\n",
        "\n",
        "\n",
        "  first_frequency = {token:(first_frequency[token]/vocabulary[token] if token in first_frequency else 0) for token in vocabulary.keys()}\n",
        "  last_frequency = {token:(last_frequency[token]/vocabulary[token] if token in last_frequency else 0) for token in vocabulary.keys()}\n",
        "  degree = {token:(degree[token] if token in degree else 0) for token in vocabulary.keys()}\n",
        "  strength = {token:(strength[token] if token in strength else 0) for token in vocabulary.keys()}\n",
        "  selective_centraility = {token:(strength[token]/degree[token] if degree[token]!=0 else 0) for token in vocabulary.keys()}\n",
        "\n",
        "  #print(degree)\n",
        "  #print(vocabulary)\n",
        "\n",
        "  maxdegree = max(degree.items(), key=lambda x: x[1])[1]\n",
        "  max_degree_nodes_with_freq = {key:term_frequency[key] for key in degree.keys() if degree[key] == maxdegree}\n",
        "  maxfreq = max(max_degree_nodes_with_freq.items(), key=lambda x: x[1])[1]\n",
        "  central_node_name = [key for key in max_degree_nodes_with_freq.keys() if max_degree_nodes_with_freq[key] == maxfreq][0]\n",
        "  #print(\"central node: \", central_node_name)\n",
        "\n",
        "  # bfs\n",
        "  distance_from_central_node = dict()\n",
        "  central_node_id = word2id[central_node_name]\n",
        "  q = [(central_node_id, 0)]\n",
        "\n",
        "  # Set source as visited\n",
        "  distance_from_central_node[central_node_name] = 0\n",
        "\n",
        "  while q:\n",
        "      vis = q[0]\n",
        "      # Print current node\n",
        "      #print(id2word[vis[0]], vis[1])\n",
        "      q.pop(0)\n",
        "        \n",
        "      # For every adjacent vertex to\n",
        "      # the current vertex\n",
        "      for i in range(len(directed_graph_adjacency_matrix[vis[0]])):\n",
        "          if (directed_graph_adjacency_matrix[vis[0]][i] == 1 and (id2word[i] not in distance_from_central_node.keys())):\n",
        "              # Push the adjacent node\n",
        "              # in the queue\n",
        "              q.append((i, vis[1]+1))\n",
        "              distance_from_central_node[id2word[i]] = vis[1]+1\n",
        "\n",
        "  #print(distance_from_central_node)\n",
        "  inverse_distance_from_central_node = {token:(1/distance_from_central_node[token] if token in distance_from_central_node and token != central_node_name else 0) for token in vocabulary.keys()}\n",
        "  inverse_distance_from_central_node[central_node_name] = 1.0\n",
        "  #print(inverse_distance_from_central_node)\n",
        "\n",
        "  neighbour_importance = dict()\n",
        "\n",
        "  for i in range(len(directed_graph_adjacency_matrix)):\n",
        "    neighbours = set()\n",
        "\n",
        "    # traversing outgoing edges\n",
        "    for j in range(len(directed_graph_adjacency_matrix)):\n",
        "      if i == j:\n",
        "        continue\n",
        "      if directed_graph_adjacency_matrix[i][j] > 0:\n",
        "        neighbours.add(j)\n",
        "    for j in range(len(directed_graph_adjacency_matrix)):\n",
        "      if i == j:\n",
        "        continue\n",
        "      if directed_graph_adjacency_matrix[j][i] > 0:\n",
        "          neighbours.add(j)\n",
        "    if len(neighbours) != 0:\n",
        "      neighbour_importance[id2word[i]] = sum([strength[id2word[j]] for j in neighbours])/len(neighbours)\n",
        "    else:\n",
        "      neighbour_importance[id2word[i]] = 0\n",
        "      \n",
        "  #print(neighbour_importance)\n",
        "\n",
        "  unnormalized_node_weight = {node: (first_frequency[node] + last_frequency[node] + term_frequency[node] + selective_centraility[node] + inverse_distance_from_central_node[node] + neighbour_importance[node]) for node in vocabulary.keys()}\n",
        "  max_node_weight = max(unnormalized_node_weight.items(), key=lambda x: x[1])[1]\n",
        "  min_node_weight = min(unnormalized_node_weight.items(), key=lambda x: x[1])[1]\n",
        "  #print(\"max node weight: \", max_node_weight, \"min node weight: \", min_node_weight)\n",
        "  normalized_node_weight = {node: ((unnormalized_node_weight[node] - min_node_weight)/(max_node_weight - min_node_weight) if max_node_weight != min_node_weight else unnormalized_node_weight[node]) for node in unnormalized_node_weight.keys()}\n",
        "  #print(\"Unnormalized score: \", unnormalized_node_weight)\n",
        "  #print(\"Normalized score: \", normalized_node_weight)\n",
        "\n",
        "  damping_factor = 0.85\n",
        "  relevance_of_node = {node: np.random.uniform(0,1,1)[0] for node in vocabulary.keys()}\n",
        "  threshold = 0.000000001\n",
        "\n",
        "\n",
        "  #print(relevance_of_node)\n",
        "\n",
        "  count = 0\n",
        "  while True:\n",
        "    count += 1\n",
        "    current_relevance_of_node = dict()\n",
        "    for node in vocabulary.keys():\n",
        "      outer_sum = 0\n",
        "      node_idx = word2id[node]\n",
        "      for j in range(len(directed_graph_adjacency_matrix)):\n",
        "        if j == node_idx:\n",
        "          continue\n",
        "        if directed_graph_adjacency_matrix[j][node_idx] > 0:\n",
        "          den_sum = 0\n",
        "          for k in range(len(directed_graph_adjacency_matrix)):\n",
        "            if k == j:\n",
        "              continue\n",
        "            den_sum += directed_graph_adjacency_matrix[j][k]\n",
        "          outer_sum += ((directed_graph_adjacency_matrix[j][node_idx]/den_sum) * relevance_of_node[id2word[j]])\n",
        "      current_relevance_of_node[node] = (1-damping_factor)*normalized_node_weight[node] + damping_factor*normalized_node_weight[node]*outer_sum\n",
        "    \n",
        "\n",
        "    # checking convergence..\n",
        "    sq_error = sum([(current_relevance_of_node[node] - relevance_of_node[node])**2 for node in vocabulary.keys()])\n",
        "    relevance_of_node = current_relevance_of_node\n",
        "    if sq_error < threshold:\n",
        "      break\n",
        "\n",
        "  #print(relevance_of_node)\n",
        "  #print(count)\n",
        "\n",
        "  degree_centrality  = {node: 0 for node in vocabulary.keys()}\n",
        "\n",
        "  if len(directed_graph_adjacency_matrix) > 1:\n",
        "    for i in range(len(directed_graph_adjacency_matrix)):\n",
        "      count = 0\n",
        "      for j in range(len(directed_graph_adjacency_matrix)):\n",
        "        if i == j:\n",
        "          continue\n",
        "        if directed_graph_adjacency_matrix[j][i] > 0:\n",
        "          count += 1\n",
        "      degree_centrality[id2word[i]] = count / (len(directed_graph_adjacency_matrix)-1)\n",
        "\n",
        "  #print(degree_centrality)\n",
        "\n",
        "  final_keyword_rank = [{'node': node, 'NE_rank': relevance_of_node[node], 'Degree': degree_centrality[node]} for node in vocabulary.keys()]\n",
        "\n",
        "  #print(\"-----------\")\n",
        "  final_keyword_rank = sorted(final_keyword_rank, key = lambda i: (i['NE_rank'], i['Degree']), reverse = True)\n",
        "\n",
        "  final_keywords = [keyword['node'] for keyword in final_keyword_rank]\n",
        "\n",
        "  return final_keywords"
      ],
      "metadata": {
        "id": "mhKWoMzBadTG"
      },
      "execution_count": 53,
      "outputs": []
    },
    {
      "cell_type": "code",
      "source": [
        "for tweet in df_query['Preprocessed_Data']:\n",
        "  tweet_query.extend(tweet)"
      ],
      "metadata": {
        "id": "0GzM1RBI_dNr"
      },
      "execution_count": 54,
      "outputs": []
    },
    {
      "cell_type": "code",
      "source": [
        "def get_keyword_keywordextractor(df_query):\n",
        "  keyword_dataset = df_query['tweet'].tolist()\n",
        "  tweet_query_keyword_extractor = keyword_extractor(keyword_dataset)\n",
        "  return tweet_query_keyword_extractor"
      ],
      "metadata": {
        "id": "eZn2SW4QdE4t"
      },
      "execution_count": 55,
      "outputs": []
    },
    {
      "cell_type": "code",
      "source": [
        "def get_yake_keywords(tweet_query):\n",
        "  tweet_keywords_yake = []\n",
        "  kw_extractor = yake.KeywordExtractor(top=20, stopwords=None)\n",
        "  keywords = kw_extractor.extract_keywords(' '.join(tweet_query))\n",
        "  #keywords = kw_extractor.extract_keywords(' '.join(df_query['tweet'].tolist()))\n",
        "  for kw, v in keywords:\n",
        "    # print(\"Keyphrase: \",kw, \": score\", v)\n",
        "    for key in kw.split():\n",
        "      if(key.lower() not in tweet_keywords_yake):\n",
        "        tweet_keywords_yake.append(key.lower())\n",
        "  return tweet_keywords_yake"
      ],
      "metadata": {
        "id": "VUljLxKDOAwW"
      },
      "execution_count": 56,
      "outputs": []
    },
    {
      "cell_type": "code",
      "source": [
        "def get_rake_keywords(tweet_query):\n",
        "  tweet_keywords_rake = []\n",
        "  rake = Rake()\n",
        "  rake_keywords = rake.apply(' '.join(tweet_query).encode('ascii', 'ignore').decode())\n",
        "  for kw,score in rake_keywords[:20]:\n",
        "    for key in kw.split():\n",
        "      if(key.lower() not in tweet_keywords_rake):\n",
        "        tweet_keywords_rake.append(key.lower())\n",
        "  # print(tweet_keywords_rake)\n",
        "  return tweet_keywords_rake"
      ],
      "metadata": {
        "id": "9NSIkve2QACN"
      },
      "execution_count": 57,
      "outputs": []
    },
    {
      "cell_type": "code",
      "source": [
        "def get_text_rank_keywords(tweet_query):\n",
        "  tweet_keywords_text_rank = []\n",
        "  TR_keywords = summa_keywords.keywords(' '.join(tweet_query), scores=True)\n",
        "  for kw,score in TR_keywords[:20]:\n",
        "    for key in kw.split():\n",
        "      if(key.lower() not in tweet_keywords_text_rank):\n",
        "        tweet_keywords_text_rank.append(key.lower())\n",
        "  # print(tweet_keywords_text_rank)\n",
        "  return tweet_keywords_text_rank"
      ],
      "metadata": {
        "id": "QsHvmAgMWOoQ"
      },
      "execution_count": 58,
      "outputs": []
    },
    {
      "cell_type": "code",
      "source": [
        "def get_keybert_keywords(tweet_query):\n",
        "  # uncomment later\n",
        "  keybert_model = KeyBERT(model='all-mpnet-base-v2')\n",
        "  keybert_keywords = keybert_model.extract_keywords(' '.join(tweet_query), keyphrase_ngram_range=(1,1), stop_words='english', highlight=False, top_n=20)\n",
        "  tweet_keywords_keybert = list(dict(keybert_keywords).keys())\n",
        "  # print(tweet_keywords_keybert)\n",
        "  return tweet_keywords_keybert"
      ],
      "metadata": {
        "id": "Qlj2TnBifv7c"
      },
      "execution_count": 59,
      "outputs": []
    },
    {
      "cell_type": "markdown",
      "source": [
        "# Helpful Functions"
      ],
      "metadata": {
        "id": "PxeBvdJ-g-YB"
      }
    },
    {
      "cell_type": "code",
      "source": [
        "docs_preprocessed = []"
      ],
      "metadata": {
        "id": "wSuHVdgnMhMz"
      },
      "execution_count": 60,
      "outputs": []
    },
    {
      "cell_type": "code",
      "source": [
        "#Storing file name and data\n",
        "total_documents = 0\n",
        "path = '/content/drive/MyDrive/Tweelink_Dataset/Tweelink_Articles_Processed'\n",
        "for filename in glob(os.path.join(path, '*')):\n",
        "   with open(os.path.join(os.getcwd(), filename), 'r', encoding = 'utf-8',errors = 'ignore') as f:\n",
        "     filename = os.path.basename(f.name)\n",
        "     data = json.load(f)\n",
        "     d_date = data[\"Date\"]\n",
        "     if(d_date==\"\" or d_date==\"Date\"):\n",
        "       continue\n",
        "     format = '%Y-%m-%d'\n",
        " \n",
        "     try:\n",
        "       d_present_date = datetime.datetime.strptime(d_date, format)\n",
        "     except:\n",
        "       continue\n",
        " \n",
        "     if(str(d_present_date.date()) not in [str(u_present_date.date()), str(u_prev_date.date()), str(u_next_date.date())]):\n",
        "       continue\n",
        "   \n",
        "     docs_preprocessed.append({'Name':filename, 'Data':data})\n",
        "     total_documents+=1\n",
        "print(total_documents)"
      ],
      "metadata": {
        "colab": {
          "base_uri": "https://localhost:8080/"
        },
        "id": "UcXI0WGeEjPG",
        "outputId": "dc9c95f1-7a73-4e24-9e22-3841657ef096"
      },
      "execution_count": 61,
      "outputs": [
        {
          "output_type": "stream",
          "name": "stdout",
          "text": [
            "503\n"
          ]
        }
      ]
    },
    {
      "cell_type": "code",
      "source": [
        "def get_relevant_docs_list_for_base_hashtag(base_hashtag, base_date, docs_preprocessed):\n",
        "  relevant_docs_list = []\n",
        "  for doc in docs_preprocessed:\n",
        "    if doc['Data']['Base Hashtag']==base_hashtag:\n",
        "      current_date = datetime.datetime.strptime(base_date, format)\n",
        "      prev_date = current_date - datetime.timedelta(days=1)\n",
        "      next_date = current_date + datetime.timedelta(days=1)\n",
        "      #if(doc['Data']['Date'] in [str(prev_date.date()), str(current_date.date()), str(next_date.date())]):\n",
        "      #  relevant_docs_list.append((doc['Name'], doc['Data']['Location'].lower()))\n",
        "      if(doc['Data']['Date']==str(str(current_date.date()))):\n",
        "        relevant_docs_list.append((doc['Name'], doc['Data']['Location'].lower(), 1.0))\n",
        "      elif(doc['Data']['Date'] in [str(prev_date.date()), str(next_date.date())]):\n",
        "        relevant_docs_list.append((doc['Name'], doc['Data']['Location'].lower(), 0.5))\n",
        "  \n",
        "  # prioritize location\n",
        "  location_relevant = []\n",
        "  location_irrelevant = []\n",
        "  for x in relevant_docs_list:\n",
        "    if u_location.lower() in x[1]:\n",
        "      location_relevant.append(x)\n",
        "    else:\n",
        "      location_irrelevant.append(x)\n",
        "  relevant_docs_list = location_relevant + location_irrelevant\n",
        "  return relevant_docs_list"
      ],
      "metadata": {
        "id": "kUxQkyxyjOJp"
      },
      "execution_count": 62,
      "outputs": []
    },
    {
      "cell_type": "code",
      "source": [
        "def nDCG(base_hashtag, base_date, prediction_list, docs_preprocessed):\n",
        "  ground_truth = get_relevant_docs_list_for_base_hashtag(base_hashtag, base_date, docs_preprocessed)\n",
        "  ground_truth_scores = {}\n",
        "  ground_truth_scores_list = []\n",
        "  prediction_list_scores = []\n",
        "  for gt in ground_truth:\n",
        "    ground_truth_scores[gt[0]] = gt[2]\n",
        "    ground_truth_scores_list.append(gt[2])\n",
        "  for x in prediction_list:\n",
        "    if x[0] in ground_truth_scores.keys():\n",
        "      prediction_list_scores.append(ground_truth_scores[x[0]])\n",
        "    else:\n",
        "      prediction_list_scores.append(0.0)\n",
        "  \n",
        "  DCG = prediction_list_scores[0] + sum([prediction_list_scores[i]/np.log2(i+1) for i in range(1,len(prediction_list_scores))])\n",
        "  ideal_DCG = ground_truth_scores_list[0] + sum([ground_truth_scores_list[i]/np.log2(i+1) for i in range(1,len(ground_truth_scores_list))])\n",
        "  if ideal_DCG==0:\n",
        "    return DCG\n",
        "  return DCG/ideal_DCG"
      ],
      "metadata": {
        "id": "z-VusePPuzcu"
      },
      "execution_count": 63,
      "outputs": []
    },
    {
      "cell_type": "code",
      "source": [
        "def precision_at_k(k, base_hashtag, base_date, prediction_list, docs_preprocessed):\n",
        "  relevant_docs_list = get_relevant_docs_list_for_base_hashtag(base_hashtag, base_date, docs_preprocessed)\n",
        "  num_of_relevant_results=0\n",
        "  list_of_rel_doc_names = []\n",
        "  for x in relevant_docs_list:\n",
        "    list_of_rel_doc_names.append(x[0])\n",
        "  for itr in range(min(len(prediction_list), k)):\n",
        "    if (prediction_list[itr][0] in list_of_rel_doc_names):\n",
        "      num_of_relevant_results+=1\n",
        "  return num_of_relevant_results/k"
      ],
      "metadata": {
        "id": "9w3YOj_PcnaK"
      },
      "execution_count": 64,
      "outputs": []
    },
    {
      "cell_type": "code",
      "source": [
        "def mean_average_precision(max_k, base_hashtag, base_date, relevant_docs, docs_preprocessed):\n",
        "  average_precision=0\n",
        "  ctr=0\n",
        "  relevant_docs_list = get_relevant_docs_list_for_base_hashtag(base_hashtag, base_date, docs_preprocessed)\n",
        "  # print(len(relevant_docs_list))\n",
        "  for k_val in range(1,len(relevant_docs_list)+1):\n",
        "    ctr+=1\n",
        "    if k_val>len(relevant_docs_list):\n",
        "      break\n",
        "    precision_at_k_val = precision_at_k(k_val, base_hashtag, base_date, relevant_docs, docs_preprocessed)\n",
        "    #print('Hashtag: {}   Precision@{}: {}'.format(base_hashtag, k_val, precision_at_k_val))\n",
        "    average_precision += precision_at_k_val\n",
        "  return average_precision/ctr"
      ],
      "metadata": {
        "id": "ZxkPnyRes6GW"
      },
      "execution_count": 65,
      "outputs": []
    },
    {
      "cell_type": "code",
      "source": [
        "def recall_at_k(k, base_hashtag, base_date, prediction_list, docs_preprocessed):\n",
        "  relevant_docs_list = get_relevant_docs_list_for_base_hashtag(base_hashtag, base_date, docs_preprocessed)\n",
        "  current_num_of_relevant_results=0\n",
        "  list_of_rel_doc_names = []\n",
        "  for x in relevant_docs_list:\n",
        "    list_of_rel_doc_names.append(x[0])\n",
        "  for itr in range(min(len(prediction_list), k)):\n",
        "    if (prediction_list[itr][0] in list_of_rel_doc_names):\n",
        "      current_num_of_relevant_results+=1\n",
        "  if(len(relevant_docs_list)==0):\n",
        "    return 0\n",
        "  return current_num_of_relevant_results/len(relevant_docs_list)"
      ],
      "metadata": {
        "id": "uxEEPQTYu8G7"
      },
      "execution_count": 66,
      "outputs": []
    },
    {
      "cell_type": "code",
      "source": [
        "def mean_average_recall(max_k, base_hashtag, base_date, relevant_docs, docs_preprocessed):\n",
        "  average_recall=0\n",
        "  ctr=0\n",
        "  relevant_docs_list = get_relevant_docs_list_for_base_hashtag(base_hashtag, base_date, docs_preprocessed)\n",
        "  # print(len(relevant_docs_list))\n",
        "  for k_val in range(1,len(relevant_docs_list)+1):\n",
        "    ctr+=1\n",
        "    if k_val>len(relevant_docs_list):\n",
        "      break\n",
        "    recall_at_k_val = recall_at_k(k_val, base_hashtag, base_date, relevant_docs, docs_preprocessed)\n",
        "    #print('Hashtag: {}   Recall@{}: {}'.format(base_hashtag, k_val, recall_at_k_val))\n",
        "    average_recall += recall_at_k_val\n",
        "  return average_recall/ctr"
      ],
      "metadata": {
        "id": "_OLiT_Q6vsDO"
      },
      "execution_count": 67,
      "outputs": []
    },
    {
      "cell_type": "code",
      "source": [
        "import operator\n",
        "\n",
        "def find_relevant_documents(docs_preprocessed, processed_query):\n",
        "  max_list_size = len(get_relevant_docs_list_for_base_hashtag(u_base_hashtag, u_time, docs_preprocessed))\n",
        "  jaccard_coefficients = {}\n",
        "  for document in docs_preprocessed:\n",
        "    doc_text = set(document['Data']['Body_processed'])\n",
        "    query = set(processed_query)\n",
        "    jaccard_coefficients[document['Name']] = len(doc_text.intersection(query))/len(doc_text.union(query))\n",
        "  relevant_docs = list( sorted(jaccard_coefficients.items(), key=operator.itemgetter(1),reverse=True))[:max_list_size]\n",
        "  for i in range(len(relevant_docs)):\n",
        "    for j in range(len(docs_preprocessed)):\n",
        "      if(relevant_docs[i][0] == docs_preprocessed[j]['Name']):\n",
        "        relevant_docs[i] = (relevant_docs[i][0], relevant_docs[i][1], docs_preprocessed[j]['Data']['Date'], docs_preprocessed[j]['Data']['Location'].lower(), docs_preprocessed[j]['Data']['Link'])\n",
        "\n",
        "  # prioritize location\n",
        "  location_relevant = []\n",
        "  location_irrelevant = []\n",
        "  for x in relevant_docs:\n",
        "    if u_location.lower() in x[3]:\n",
        "      location_relevant.append(x)\n",
        "    else:\n",
        "      location_irrelevant.append(x)\n",
        "  relevant_docs = location_relevant + location_irrelevant\n",
        "  return relevant_docs"
      ],
      "metadata": {
        "id": "scWzkhA_vKmd"
      },
      "execution_count": 68,
      "outputs": []
    },
    {
      "cell_type": "markdown",
      "source": [
        "# Plain Model"
      ],
      "metadata": {
        "id": "P1V-ZYVeh7M3"
      }
    },
    {
      "cell_type": "code",
      "source": [
        "# Plain Model without YAKE / Keyword Extraction\n",
        "relevant_docs_plain = find_relevant_documents(docs_preprocessed, tweet_query)\n",
        "\n",
        "for rank, doc in enumerate(relevant_docs_plain):\n",
        "  print('Rank: {} Relevant Document: {}'.format(rank+1,doc))\n",
        "\n",
        "print()\n",
        "\n",
        "mean_average_precision_hashtag_plain = mean_average_precision(20, u_base_hashtag, u_time, relevant_docs_plain, docs_preprocessed)\n",
        "print('Mean Average Precision Plain Model: {}'.format(mean_average_precision_hashtag_plain))\n",
        "\n",
        "mean_average_recall_hashtag_plain = mean_average_recall(20, u_base_hashtag, u_time, relevant_docs_plain, docs_preprocessed)\n",
        "print('Mean Average Recall Plain Model: {}'.format(mean_average_recall_hashtag_plain))\n",
        "\n",
        "nDCG_hashtag_plain = nDCG(u_base_hashtag, u_time, relevant_docs_plain, docs_preprocessed)\n",
        "print('nDCG Plain Model: {}'.format(nDCG_hashtag_plain))"
      ],
      "metadata": {
        "id": "ym0bjkhDAeQz",
        "colab": {
          "base_uri": "https://localhost:8080/"
        },
        "outputId": "0b7de9fd-aab2-4157-ab16-706c03bcbfba"
      },
      "execution_count": 69,
      "outputs": [
        {
          "output_type": "stream",
          "name": "stdout",
          "text": [
            "Rank: 1 Relevant Document: ('WriddhimanSaha_2366.json', 0.0920877659574468, '2022-02-20', 'india', 'https://www.espncricinfo.com/story/ind-vs-sl-test-series-wriddhiman-saha-being-indirectly-told-to-retire-1302005')\n",
            "Rank: 2 Relevant Document: ('PunjabElections2022_2360.json', 0.08194984104556693, '2022-02-20', 'punjab india', 'https://indianexpress.com/elections/assembly-elections-2022-live-updates-punjab-up-uttarakhand-manipur-goa-7783132/')\n",
            "Rank: 3 Relevant Document: ('PunjabElections2022_2357.json', 0.061806656101426306, '2022-02-20', 'punjab india', 'https://www.tribuneindia.com/news/punjab/punjab-votes-polling-begins-for-117-constituencies-cm-channi-navjot-sidhu-sukhbir-badal-bhagwant-mann-capt-amarinder-in-fray-371448')\n",
            "Rank: 4 Relevant Document: ('UkraineRussiaCrisis_315.json', 0.09631728045325778, '2022-02-20', 'london, united kingdom', 'https://fivebooks.com/best-books/russia-ukraine-serhii-plokhy/')\n",
            "Rank: 5 Relevant Document: ('zeynep_1627.json', 0.09276248725790011, '2022-02-18', 'united states of america', 'https://www.nytimes.com/2022/03/11/opinion/covid-health-pandemic.html')\n",
            "Rank: 6 Relevant Document: ('UkraineRussiaCrisis_314.json', 0.09231285666330984, '2022-02-20', 'washington, united states of america', 'https://edition.cnn.com/europe/live-news/ukraine-russia-news-02-20-22-intl/index.html')\n",
            "Rank: 7 Relevant Document: ('UkraineRussiaCrisis_319.json', 0.08641560188298587, '2022-02-20', 'new york, united states of america', 'https://www.bloomberg.com/news/articles/2022-04-16/ukraine-update-un-calls-for-unimpeded-access-to-besieged-cities')\n",
            "Rank: 8 Relevant Document: ('UkraineRussiaCrisis_318.json', 0.0768361581920904, '2022-02-20', 'ukraine', 'https://www.cbsnews.com/news/ukraine-russia-60-minutes-2022-02-20/')\n",
            "Rank: 9 Relevant Document: ('hijab_334.json', 0.07283236994219654, '2022-02-20', 'massachusetts, united states of america', 'https://scroll.in/article/1017784/why-urbane-educated-muslim-women-are-wearing-the-hijab-in-india')\n",
            "Rank: 10 Relevant Document: ('MCITOT_1769.json', 0.06803637588413607, '2022-02-20', 'united kingdom', 'https://www.thescore.com/eng_fed/news/2301408')\n",
            "Rank: 11 Relevant Document: ('UkraineRussiaCrisis_220.json', 0.06455445544554456, '2022-02-18', 'washinton, united states of america', 'https://www.whitehouse.gov/briefing-room/speeches-remarks/2022/02/18/remarks-by-president-biden-providing-an-update-on-russia-and-ukraine-2/')\n",
            "Rank: 12 Relevant Document: ('freedomconvoy22_2327.json', 0.06388888888888888, '2022-02-18', 'doha, qatar', 'https://www.aljazeera.com/news/2022/2/19/canada-freedom-convoy-ending-but-issue-not-going-away')\n",
            "Rank: 13 Relevant Document: ('UFCVegas48_1681.json', 0.06300963676797627, '2022-02-19', 'united states of america', 'https://www.bloodyelbow.com/2022/2/20/22943543/ufc-vegas-48-johnny-walker-vs-jamahal-hill-unofficial-awards-mma-news-editorial')\n",
            "Rank: 14 Relevant Document: ('UFCVegas48_1025.json', 0.06293965198074787, '2022-02-20', 'united states of america', 'https://www.bloodyelbow.com/2022/2/20/22943543/ufc-vegas-48-johnny-walker-vs-jamahal-hill-unofficial-awards-mma-news-editorial')\n",
            "Rank: 15 Relevant Document: ('MultiverseOfMadness_2140.json', 0.061596958174904945, '2022-02-18', 'new york, usa', 'https://www.denofgeek.com/movies/doctor-strange-in-the-multiverse-of-madness-makes-what-if-essential-marvel-viewing/')\n",
            "Rank: 16 Relevant Document: ('vaccine_299.json', 0.060570987654320986, '2022-02-19', 'washington, united states of america', 'https://www.vox.com/future-perfect/22938968/covid-19-pandemic-vaccine-smallpox-flu')\n",
            "Rank: 17 Relevant Document: ('hijab_339.json', 0.060250707642539425, '2022-02-20', 'aluva, kerala', 'https://thefederal.com/states/south/tamil-nadu/discrimination-violence-drove-40-dalits-in-tn-village-to-embrace-islam/')\n",
            "Rank: 18 Relevant Document: ('UkraineRussiaCrisis_212.json', 0.06023166023166023, '2022-02-18', 'dubai, uae', 'https://www.wilsoncenter.org/article/ukraine-russia-and-arabs')\n",
            "Rank: 19 Relevant Document: ('ScottyFromWelding_2403.json', 0.059639909977494375, '2022-02-20', 'australia', 'https://independentaustralia.net/politics/politics-display/morrison-humiliates-australia-further-with-lowest-economic-freedom-ever,16070')\n",
            "Rank: 20 Relevant Document: ('BJPwinningUP_2524.json', 0.058705267390430235, '2022-02-18', 'banaras, up', 'https://theprint.in/opinion/bjps-2ab-factor-thats-missing-from-sp-bsp-congress-in-up-elections/836455/')\n",
            "\n",
            "Mean Average Precision Plain Model: 0.054844658910061385\n",
            "Mean Average Recall Plain Model: 0.039999999999999994\n",
            "nDCG Plain Model: 0.04621688969808602\n"
          ]
        }
      ]
    },
    {
      "cell_type": "markdown",
      "source": [
        "# Model with Keyword Extractor"
      ],
      "metadata": {
        "id": "j0cPN8WyiY-m"
      }
    },
    {
      "cell_type": "code",
      "source": [
        "# Model with Keyword Extractor\n",
        "tweet_query_keyword_extractor = get_keyword_keywordextractor(df_query)\n",
        "relevant_docs_keyword_extractor = find_relevant_documents(docs_preprocessed, tweet_query_keyword_extractor[:20])\n",
        "\n",
        "for rank, doc in enumerate(relevant_docs_keyword_extractor):\n",
        "  print('Rank: {} Relevant Document: {}'.format(rank+1,doc))\n",
        "\n",
        "print()\n",
        "\n",
        "mean_average_precision_hashtag_keyword_extractor = mean_average_precision(20, u_base_hashtag, u_time, relevant_docs_keyword_extractor, docs_preprocessed)\n",
        "print('Mean Average Precision Keyword Extractor Model: {}'.format(mean_average_precision_hashtag_keyword_extractor))\n",
        "\n",
        "mean_average_recall_hashtag_keyword_extractor = mean_average_recall(20, u_base_hashtag, u_time, relevant_docs_keyword_extractor, docs_preprocessed)\n",
        "print('Mean Average Recall Keyword Extractor Model: {}'.format(mean_average_recall_hashtag_keyword_extractor))\n",
        "\n",
        "nDCG_hashtag_keyword_extractor = nDCG(u_base_hashtag, u_time, relevant_docs_keyword_extractor, docs_preprocessed)\n",
        "print('nDCG Keyword Extractor Model: {}'.format(nDCG_hashtag_keyword_extractor))"
      ],
      "metadata": {
        "colab": {
          "base_uri": "https://localhost:8080/"
        },
        "id": "feH1-DpbhLm2",
        "outputId": "475b14aa-4f15-44b3-f559-45d2f15f7b09"
      },
      "execution_count": 70,
      "outputs": [
        {
          "output_type": "stream",
          "name": "stdout",
          "text": [
            "Rank: 1 Relevant Document: ('hijab_338.json', 0.0472972972972973, '2022-02-20', 'new delhi, india', 'https://news.abplive.com/karnataka/hijab-row-conspiracy-of-bjp-against-muslim-girls-former-k-taka-cm-siddaramaiah-1514360')\n",
            "Rank: 2 Relevant Document: ('hijab_333.json', 0.04477611940298507, '2022-02-20', 'kerala, india', 'https://www.theweek.in/news/entertainment/2022/02/20/hijab-not-a-choice-but-an-obligation-in-islam-says-zaira-wasim.html')\n",
            "Rank: 3 Relevant Document: ('hijab_285.json', 0.03571428571428571, '2022-02-19', 'new delhi, india', 'https://news.abplive.com/karnataka/karnataka-hijab-row-govt-order-dated-feb-5-does-not-ban-hijab-ag-tells-high-court-1514213')\n",
            "Rank: 4 Relevant Document: ('hijab_340.json', 0.034482758620689655, '2022-02-20', 'hyderabad, india', 'https://www.siasat.com/hijab-row-bangladesh-stands-in-solidarity-with-muslim-women-2279139/')\n",
            "Rank: 5 Relevant Document: ('hijab_337.json', 0.03409090909090909, '2022-02-20', 'new delhi, india', 'https://www.hindustantimes.com/opinion/hijab-row-restriction-on-clothing-is-political-101645367225790.html')\n",
            "Rank: 6 Relevant Document: ('hijab_332.json', 0.026217228464419477, '2022-02-20', 'new delhi, india', 'https://thewire.in/communalism/karnataka-muslim-women-students-face-case-suspension-for-wearing-hijab-protesting')\n",
            "Rank: 7 Relevant Document: ('hijab_283.json', 0.02617801047120419, '2022-02-19', 'new delhi, india', 'https://www.newindianexpress.com/nation/2022/feb/19/education-more-important-than-hijab-rss-linked-muslim-rashtriya-manch-to-community-2421449.html')\n",
            "Rank: 8 Relevant Document: ('hijab_288.json', 0.09876543209876543, '2022-02-19', 'mysore', 'https://thekashmirwalla.com/mysuru-college-cancels-uniform-order-allows-students-to-wear-hijab/')\n",
            "Rank: 9 Relevant Document: ('hijab_336.json', 0.04929577464788732, '2022-02-20', 'mumbai, maharashtra', 'https://www.indiatoday.in/movies/celebrities/story/hijab-isn-t-a-choice-but-an-obligation-in-islam-says-zaira-wasim-1915351-2022-02-20')\n",
            "Rank: 10 Relevant Document: ('hijab_331.json', 0.04375, '2022-02-20', 'chennai, tamil nadu', 'https://www.thehindu.com/data/data-hijab-row-why-the-ban-is-a-double-blow-for-muslim-girl-students/article65066546.ece')\n",
            "Rank: 11 Relevant Document: ('hijab_282.json', 0.040697674418604654, '2022-02-19', 'bangalore, karnataka', 'https://www.hindustantimes.com/entertainment/bollywood/zaira-wasim-reacts-to-hijab-row-i-as-a-woman-who-wears-hijab-resent-this-entire-system-101645288361058.html')\n",
            "Rank: 12 Relevant Document: ('hijab_290.json', 0.03827751196172249, '2022-02-19', 'bangalore, karnataka', 'https://english.varthabharati.in/karnataka/hijab-row-feb-5-government-order-doesnt-ban-hijab-insists-ag-in-karnataka-hc')\n",
            "Rank: 13 Relevant Document: ('hijab_281.json', 0.037037037037037035, '2022-02-19', 'bangalore, karnataka', 'https://www.thehindu.com/news/national/karnataka/hijab-row-polarises-classrooms-breaks-friendships/article65063188.ece')\n",
            "Rank: 14 Relevant Document: ('hijab_287.json', 0.03409090909090909, '2022-02-19', 'shivamogga', 'https://www.outlookindia.com/national/karnataka-hijab-row-58-students-suspended-in-shivamogga-for-wearing-headscarves-holding-protest-news-183162')\n",
            "Rank: 15 Relevant Document: ('hijab_335.json', 0.027777777777777776, '2022-02-20', 'bangalore, karnataka', 'https://indianexpress.com/article/cities/bangalore/karnataka-bengaluru-live-updates-hijab-row-protests-court-hearing-covid-7765244/')\n",
            "Rank: 16 Relevant Document: ('hijab_286.json', 0.026490066225165563, '2022-02-19', 'bangalore, karnataka', 'https://thefederal.com/states/south/karnataka/uneasy-bjp-central-command-wants-to-wind-down-hijab-row-in-karnataka/')\n",
            "Rank: 17 Relevant Document: ('hijab_339.json', 0.02608695652173913, '2022-02-20', 'aluva, kerala', 'https://thefederal.com/states/south/tamil-nadu/discrimination-violence-drove-40-dalits-in-tn-village-to-embrace-islam/')\n",
            "Rank: 18 Relevant Document: ('hijab_289.json', 0.024691358024691357, '2022-02-19', 'karnataka', 'https://www.freepressjournal.in/india/karnataka-hijab-row-seen-to-be-soft-cm-basavaraj-bommaiturns-heat-on-hijab-protesters')\n",
            "Rank: 19 Relevant Document: ('BJPwinningUP_2527.json', 0.023668639053254437, '2022-02-18', 'lucknow, uttar pradesh', 'https://www.ndtv.com/india-news/up-assembly-election-second-hate-speech-video-by-bjp-mla-emerges-amid-uttar-pradesh-election-2775119')\n",
            "Rank: 20 Relevant Document: ('hijab_284.json', 0.019886363636363636, '2022-02-19', 'bangalore, karnataka', 'https://www.sundayguardianlive.com/news/hijab-controversy-manufactured-create-anarchy')\n",
            "\n",
            "Mean Average Precision Keyword Extractor Model: 0.9948684210526315\n",
            "Mean Average Recall Keyword Extractor Model: 0.5199999999999999\n",
            "nDCG Keyword Extractor Model: 0.8845200201333264\n"
          ]
        }
      ]
    },
    {
      "cell_type": "markdown",
      "source": [
        "# Model with YAKE"
      ],
      "metadata": {
        "id": "_YWxGEn7ihIX"
      }
    },
    {
      "cell_type": "code",
      "source": [
        "# Model with YAKE\n",
        "tweet_keywords_yake = get_yake_keywords(tweet_query)\n",
        "relevant_docs_yake = find_relevant_documents(docs_preprocessed, tweet_keywords_yake)\n",
        "\n",
        "for rank, doc in enumerate(relevant_docs_yake):\n",
        "  print('Rank: {} Relevant Document: {}'.format(rank+1,doc))\n",
        "\n",
        "print()\n",
        "\n",
        "mean_average_precision_hashtag_yake = mean_average_precision(20, u_base_hashtag, u_time, relevant_docs_yake, docs_preprocessed)\n",
        "print('Mean Average Precision YAKE Model: {}'.format(mean_average_precision_hashtag_yake))\n",
        "\n",
        "mean_average_recall_hashtag_yake = mean_average_recall(20, u_base_hashtag, u_time, relevant_docs_yake, docs_preprocessed)\n",
        "print('Mean Average Recall YAKE Model: {}'.format(mean_average_recall_hashtag_yake))\n",
        "\n",
        "nDCG_hashtag_yake = nDCG(u_base_hashtag, u_time, relevant_docs_yake, docs_preprocessed)\n",
        "print('nDCG YAKE Model: {}'.format(nDCG_hashtag_yake))"
      ],
      "metadata": {
        "colab": {
          "base_uri": "https://localhost:8080/"
        },
        "id": "oMRwRc6Oijga",
        "outputId": "bda29496-c40f-4e14-e56f-e4dd03326d34"
      },
      "execution_count": 71,
      "outputs": [
        {
          "output_type": "stream",
          "name": "stdout",
          "text": [
            "Rank: 1 Relevant Document: ('hijab_337.json', 0.047058823529411764, '2022-02-20', 'new delhi, india', 'https://www.hindustantimes.com/opinion/hijab-row-restriction-on-clothing-is-political-101645367225790.html')\n",
            "Rank: 2 Relevant Document: ('hijab_338.json', 0.04081632653061224, '2022-02-20', 'new delhi, india', 'https://news.abplive.com/karnataka/hijab-row-conspiracy-of-bjp-against-muslim-girls-former-k-taka-cm-siddaramaiah-1514360')\n",
            "Rank: 3 Relevant Document: ('hijab_333.json', 0.03759398496240601, '2022-02-20', 'kerala, india', 'https://www.theweek.in/news/entertainment/2022/02/20/hijab-not-a-choice-but-an-obligation-in-islam-says-zaira-wasim.html')\n",
            "Rank: 4 Relevant Document: ('narendramodi_255.json', 0.03529411764705882, '2022-02-19', 'new delhi, india', 'https://www.indiatoday.in/india/story/pm-modi-afghan-sikh-hindu-delegation-residence-punjab-polls-1915202-2022-02-19')\n",
            "Rank: 5 Relevant Document: ('hijab_340.json', 0.03488372093023256, '2022-02-20', 'hyderabad, india', 'https://www.siasat.com/hijab-row-bangladesh-stands-in-solidarity-with-muslim-women-2279139/')\n",
            "Rank: 6 Relevant Document: ('hijab_285.json', 0.027777777777777776, '2022-02-19', 'new delhi, india', 'https://news.abplive.com/karnataka/karnataka-hijab-row-govt-order-dated-feb-5-does-not-ban-hijab-ag-tells-high-court-1514213')\n",
            "Rank: 7 Relevant Document: ('narendramodi_253.json', 0.023391812865497075, '2022-02-19', 'new delhi, india', 'https://www.newindianexpress.com/nation/2022/feb/19/india-is-your-home-pm-narendra-modi-meets-afghan-sikh-hindu-delegation-2421442.html')\n",
            "Rank: 8 Relevant Document: ('hijab_332.json', 0.022556390977443608, '2022-02-20', 'new delhi, india', 'https://thewire.in/communalism/karnataka-muslim-women-students-face-case-suspension-for-wearing-hijab-protesting')\n",
            "Rank: 9 Relevant Document: ('billgates_1672.json', 0.02127659574468085, '2022-02-18', 'india', 'https://odishatv.in/videos/covid-19/bill-gates-on-omicron-covid-vaccines-170969')\n",
            "Rank: 10 Relevant Document: ('hijab_283.json', 0.021052631578947368, '2022-02-19', 'new delhi, india', 'https://www.newindianexpress.com/nation/2022/feb/19/education-more-important-than-hijab-rss-linked-muslim-rashtriya-manch-to-community-2421449.html')\n",
            "Rank: 11 Relevant Document: ('hijab_288.json', 0.07407407407407407, '2022-02-19', 'mysore', 'https://thekashmirwalla.com/mysuru-college-cancels-uniform-order-allows-students-to-wear-hijab/')\n",
            "Rank: 12 Relevant Document: ('hijab_336.json', 0.035211267605633804, '2022-02-20', 'mumbai, maharashtra', 'https://www.indiatoday.in/movies/celebrities/story/hijab-isn-t-a-choice-but-an-obligation-in-islam-says-zaira-wasim-1915351-2022-02-20')\n",
            "Rank: 13 Relevant Document: ('hijab_331.json', 0.03125, '2022-02-20', 'chennai, tamil nadu', 'https://www.thehindu.com/data/data-hijab-row-why-the-ban-is-a-double-blow-for-muslim-girl-students/article65066546.ece')\n",
            "Rank: 14 Relevant Document: ('hijab_282.json', 0.029069767441860465, '2022-02-19', 'bangalore, karnataka', 'https://www.hindustantimes.com/entertainment/bollywood/zaira-wasim-reacts-to-hijab-row-i-as-a-woman-who-wears-hijab-resent-this-entire-system-101645288361058.html')\n",
            "Rank: 15 Relevant Document: ('hijab_290.json', 0.028708133971291867, '2022-02-19', 'bangalore, karnataka', 'https://english.varthabharati.in/karnataka/hijab-row-feb-5-government-order-doesnt-ban-hijab-insists-ag-in-karnataka-hc')\n",
            "Rank: 16 Relevant Document: ('hijab_287.json', 0.02857142857142857, '2022-02-19', 'shivamogga', 'https://www.outlookindia.com/national/karnataka-hijab-row-58-students-suspended-in-shivamogga-for-wearing-headscarves-holding-protest-news-183162')\n",
            "Rank: 17 Relevant Document: ('hijab_335.json', 0.02830188679245283, '2022-02-20', 'bangalore, karnataka', 'https://indianexpress.com/article/cities/bangalore/karnataka-bengaluru-live-updates-hijab-row-protests-court-hearing-covid-7765244/')\n",
            "Rank: 18 Relevant Document: ('hijab_281.json', 0.02304147465437788, '2022-02-19', 'bangalore, karnataka', 'https://www.thehindu.com/news/national/karnataka/hijab-row-polarises-classrooms-breaks-friendships/article65063188.ece')\n",
            "Rank: 19 Relevant Document: ('IPL_327.json', 0.02040816326530612, '2022-02-20', 'bangalore, karnataka', 'https://sportscafe.in/cricket/articles/2022/feb/20/ipl-2022-ipl-media-rights-value-mirror-rise-growth-of-tournament-bcci-secretary-jay-shah')\n",
            "Rank: 20 Relevant Document: ('hijab_339.json', 0.020289855072463767, '2022-02-20', 'aluva, kerala', 'https://thefederal.com/states/south/tamil-nadu/discrimination-violence-drove-40-dalits-in-tn-village-to-embrace-islam/')\n",
            "\n",
            "Mean Average Precision YAKE Model: 0.8052669962906032\n",
            "Mean Average Recall YAKE Model: 0.4125\n",
            "nDCG YAKE Model: 0.6923583688622842\n"
          ]
        }
      ]
    },
    {
      "cell_type": "markdown",
      "source": [
        "# Model with RAKE"
      ],
      "metadata": {
        "id": "FHQJaUz0Vmdu"
      }
    },
    {
      "cell_type": "code",
      "source": [
        "# Model with RAKE\n",
        "tweet_keywords_rake = get_rake_keywords(tweet_query)\n",
        "relevant_docs_rake = find_relevant_documents(docs_preprocessed, tweet_keywords_rake)\n",
        "\n",
        "for rank, doc in enumerate(relevant_docs_rake):\n",
        "  print('Rank: {} Relevant Document: {}'.format(rank+1,doc))\n",
        "\n",
        "print()\n",
        "\n",
        "mean_average_precision_hashtag_rake = mean_average_precision(20, u_base_hashtag, u_time, relevant_docs_rake, docs_preprocessed)\n",
        "print('Mean Average Precision RAKE Model: {}'.format(mean_average_precision_hashtag_rake))\n",
        "\n",
        "mean_average_recall_hashtag_rake = mean_average_recall(20, u_base_hashtag, u_time, relevant_docs_rake, docs_preprocessed)\n",
        "print('Mean Average Recall RAKE Model: {}'.format(mean_average_recall_hashtag_rake))\n",
        "\n",
        "nDCG_hashtag_rake = nDCG(u_base_hashtag, u_time, relevant_docs_rake, docs_preprocessed)\n",
        "print('nDCG RAKE Model: {}'.format(nDCG_hashtag_rake))"
      ],
      "metadata": {
        "colab": {
          "base_uri": "https://localhost:8080/"
        },
        "id": "OKEB6pUgVkpE",
        "outputId": "39d49a5f-6524-4bd8-ed74-5dc7c8f5e95e"
      },
      "execution_count": 72,
      "outputs": [
        {
          "output_type": "stream",
          "name": "stdout",
          "text": [
            "Rank: 1 Relevant Document: ('hijab_338.json', 0.05434782608695652, '2022-02-20', 'new delhi, india', 'https://news.abplive.com/karnataka/hijab-row-conspiracy-of-bjp-against-muslim-girls-former-k-taka-cm-siddaramaiah-1514360')\n",
            "Rank: 2 Relevant Document: ('hijab_340.json', 0.037914691943127965, '2022-02-20', 'hyderabad, india', 'https://www.siasat.com/hijab-row-bangladesh-stands-in-solidarity-with-muslim-women-2279139/')\n",
            "Rank: 3 Relevant Document: ('hijab_283.json', 0.03524229074889868, '2022-02-19', 'new delhi, india', 'https://www.newindianexpress.com/nation/2022/feb/19/education-more-important-than-hijab-rss-linked-muslim-rashtriya-manch-to-community-2421449.html')\n",
            "Rank: 4 Relevant Document: ('hijab_333.json', 0.03468208092485549, '2022-02-20', 'kerala, india', 'https://www.theweek.in/news/entertainment/2022/02/20/hijab-not-a-choice-but-an-obligation-in-islam-says-zaira-wasim.html')\n",
            "Rank: 5 Relevant Document: ('narendramodi_201.json', 0.030927835051546393, '2022-02-18', 'new delhi, india', 'https://www.newindianexpress.com/nation/2022/feb/18/india-uae-will-stand-shoulder-to-shoulder-against-terrorism-narendra-modi-2421111.html')\n",
            "Rank: 6 Relevant Document: ('hijab_285.json', 0.030927835051546393, '2022-02-19', 'new delhi, india', 'https://news.abplive.com/karnataka/karnataka-hijab-row-govt-order-dated-feb-5-does-not-ban-hijab-ag-tells-high-court-1514213')\n",
            "Rank: 7 Relevant Document: ('kejriwalvsall_1660.json', 0.030612244897959183, '2022-02-18', 'india', 'https://www.republicworld.com/elections/punjab/ec-seeks-fir-against-arvind-kejriwal-over-violation-of-ec-guidelines-after-sads-complaint-articleshow.html')\n",
            "Rank: 8 Relevant Document: ('narendramodi_253.json', 0.02857142857142857, '2022-02-19', 'new delhi, india', 'https://www.newindianexpress.com/nation/2022/feb/19/india-is-your-home-pm-narendra-modi-meets-afghan-sikh-hindu-delegation-2421442.html')\n",
            "Rank: 9 Relevant Document: ('PlotToKillModi_954.json', 0.02843601895734597, '2022-02-18', 'ahmedabad, gujarat, india', 'https://www.republicworld.com/elections/uttar-pradesh/akhilesh-yadav-responds-to-bjps-kill-modi-plot-charge-against-sp-baba-knows-nothing-articleshow.html')\n",
            "Rank: 10 Relevant Document: ('narendramodi_209.json', 0.04054054054054054, '2022-02-18', 'amritsar', 'https://english.newstracklive.com/news/cm-charanjit-singh-channi-demands-investigations-of-allegations-on-arvind-kejriwal-by-kumar-vishvas-mc25-nu764-ta322-1212794-1.html')\n",
            "Rank: 11 Relevant Document: ('hijab_282.json', 0.0380952380952381, '2022-02-19', 'bangalore, karnataka', 'https://www.hindustantimes.com/entertainment/bollywood/zaira-wasim-reacts-to-hijab-row-i-as-a-woman-who-wears-hijab-resent-this-entire-system-101645288361058.html')\n",
            "Rank: 12 Relevant Document: ('EFFvsAfriforum_1650.json', 0.034722222222222224, '2022-02-18', 'south africa', 'https://briefly.co.za/people/120981-portrait-implying-that-julius-malema-is-actually-chris-hani-disguise-gets-mzansi-all-sorts-mad/')\n",
            "Rank: 13 Relevant Document: ('hijab_336.json', 0.03296703296703297, '2022-02-20', 'mumbai, maharashtra', 'https://www.indiatoday.in/movies/celebrities/story/hijab-isn-t-a-choice-but-an-obligation-in-islam-says-zaira-wasim-1915351-2022-02-20')\n",
            "Rank: 14 Relevant Document: ('EFFvsAfriforum_1645.json', 0.032, '2022-02-18', 'south africa', 'https://ewn.co.za/2022/02/17/malema-eff-not-responsible-for-every-person-who-sings-kill-the-boer')\n",
            "Rank: 15 Relevant Document: ('hijab_339.json', 0.031496062992125984, '2022-02-20', 'aluva, kerala', 'https://thefederal.com/states/south/tamil-nadu/discrimination-violence-drove-40-dalits-in-tn-village-to-embrace-islam/')\n",
            "Rank: 16 Relevant Document: ('narendramodi_308.json', 0.0311284046692607, '2022-02-20', 'mumbai, maharashtra', 'https://www.republicworld.com/elections/uttar-pradesh/pm-modi-targets-sp-after-2008-ahmedabad-blasts-verdict-recalls-how-cycle-bombs-were-used-articleshow.html')\n",
            "Rank: 17 Relevant Document: ('EFFvsAfriforum_1654.json', 0.03076923076923077, '2022-02-18', 'south africa', 'https://www.timeslive.co.za/politics/2022-02-18-watch-i-will-be-president-one-day-whether-you-like-it-or-not-julius-malema-tells-afriforum/')\n",
            "Rank: 18 Relevant Document: ('BJPwinningUP_2524.json', 0.030612244897959183, '2022-02-18', 'banaras, up', 'https://theprint.in/opinion/bjps-2ab-factor-thats-missing-from-sp-bsp-congress-in-up-elections/836455/')\n",
            "Rank: 19 Relevant Document: ('EFFvsAfriforum_1651.json', 0.029850746268656716, '2022-02-18', 'south africa', 'https://www.thesouthafrican.com/news/breaking-emfuleni-council-eff-kicked-out-chairs-thrown-video/')\n",
            "Rank: 20 Relevant Document: ('tommytiernanshow_1731.json', 0.028037383177570093, '2022-02-20', 'ireland', 'https://www.independent.ie/opinion/comment/eu-sanctions-loom-nearer-as-conflict-worsens-41357963.html')\n",
            "\n",
            "Mean Average Precision RAKE Model: 0.6440754665870764\n",
            "Mean Average Recall RAKE Model: 0.2825000000000001\n",
            "nDCG RAKE Model: 0.46536518958272294\n"
          ]
        }
      ]
    },
    {
      "cell_type": "markdown",
      "source": [
        "# Model with TextRank"
      ],
      "metadata": {
        "id": "0rR31TWWmtot"
      }
    },
    {
      "cell_type": "code",
      "source": [
        "# Model with TextRank\n",
        "tweet_keywords_text_rank = get_text_rank_keywords(tweet_query)\n",
        "relevant_docs_text_rank = find_relevant_documents(docs_preprocessed, tweet_keywords_text_rank)\n",
        "\n",
        "for rank, doc in enumerate(relevant_docs_text_rank):\n",
        "  print('Rank: {} Relevant Document: {}'.format(rank+1,doc))\n",
        "\n",
        "print()\n",
        "\n",
        "mean_average_precision_hashtag_text_rank = mean_average_precision(20, u_base_hashtag, u_time, relevant_docs_text_rank, docs_preprocessed)\n",
        "print('Mean Average Precision TextRank Model: {}'.format(mean_average_precision_hashtag_text_rank))\n",
        "\n",
        "mean_average_recall_hashtag_text_rank = mean_average_recall(20, u_base_hashtag, u_time, relevant_docs_text_rank, docs_preprocessed)\n",
        "print('Mean Average Recall TextRank Model: {}'.format(mean_average_recall_hashtag_text_rank))\n",
        "\n",
        "nDCG_hashtag_text_rank = nDCG(u_base_hashtag, u_time, relevant_docs_text_rank, docs_preprocessed)\n",
        "print('nDCG TextRank Model: {}'.format(nDCG_hashtag_text_rank))"
      ],
      "metadata": {
        "colab": {
          "base_uri": "https://localhost:8080/"
        },
        "id": "JcxYxOdZe4Rt",
        "outputId": "a05e82ec-7176-4612-ef09-1770d578d061"
      },
      "execution_count": 73,
      "outputs": [
        {
          "output_type": "stream",
          "name": "stdout",
          "text": [
            "Rank: 1 Relevant Document: ('hijab_340.json', 0.03260869565217391, '2022-02-20', 'hyderabad, india', 'https://www.siasat.com/hijab-row-bangladesh-stands-in-solidarity-with-muslim-women-2279139/')\n",
            "Rank: 2 Relevant Document: ('hijab_338.json', 0.03125, '2022-02-20', 'new delhi, india', 'https://news.abplive.com/karnataka/hijab-row-conspiracy-of-bjp-against-muslim-girls-former-k-taka-cm-siddaramaiah-1514360')\n",
            "Rank: 3 Relevant Document: ('hijab_285.json', 0.026515151515151516, '2022-02-19', 'new delhi, india', 'https://news.abplive.com/karnataka/karnataka-hijab-row-govt-order-dated-feb-5-does-not-ban-hijab-ag-tells-high-court-1514213')\n",
            "Rank: 4 Relevant Document: ('hijab_332.json', 0.02527075812274368, '2022-02-20', 'new delhi, india', 'https://thewire.in/communalism/karnataka-muslim-women-students-face-case-suspension-for-wearing-hijab-protesting')\n",
            "Rank: 5 Relevant Document: ('hijab_283.json', 0.024875621890547265, '2022-02-19', 'new delhi, india', 'https://www.newindianexpress.com/nation/2022/feb/19/education-more-important-than-hijab-rss-linked-muslim-rashtriya-manch-to-community-2421449.html')\n",
            "Rank: 6 Relevant Document: ('hijab_337.json', 0.020202020202020204, '2022-02-20', 'new delhi, india', 'https://www.hindustantimes.com/opinion/hijab-row-restriction-on-clothing-is-political-101645367225790.html')\n",
            "Rank: 7 Relevant Document: ('PlotToKillModi_955.json', 0.01910828025477707, '2022-02-18', 'ahmedabad, gujarat, india', 'https://www.indiaherald.com/Breaking/Read/994478215/Plot-to-kill-Modi-Reel-and-Real')\n",
            "Rank: 8 Relevant Document: ('hijab_288.json', 0.05319148936170213, '2022-02-19', 'mysore', 'https://thekashmirwalla.com/mysuru-college-cancels-uniform-order-allows-students-to-wear-hijab/')\n",
            "Rank: 9 Relevant Document: ('BJPwinningUP_2527.json', 0.028089887640449437, '2022-02-18', 'lucknow, uttar pradesh', 'https://www.ndtv.com/india-news/up-assembly-election-second-hate-speech-video-by-bjp-mla-emerges-amid-uttar-pradesh-election-2775119')\n",
            "Rank: 10 Relevant Document: ('hijab_282.json', 0.02717391304347826, '2022-02-19', 'bangalore, karnataka', 'https://www.hindustantimes.com/entertainment/bollywood/zaira-wasim-reacts-to-hijab-row-i-as-a-woman-who-wears-hijab-resent-this-entire-system-101645288361058.html')\n",
            "Rank: 11 Relevant Document: ('hijab_287.json', 0.026737967914438502, '2022-02-19', 'shivamogga', 'https://www.outlookindia.com/national/karnataka-hijab-row-58-students-suspended-in-shivamogga-for-wearing-headscarves-holding-protest-news-183162')\n",
            "Rank: 12 Relevant Document: ('hijab_281.json', 0.02631578947368421, '2022-02-19', 'bangalore, karnataka', 'https://www.thehindu.com/news/national/karnataka/hijab-row-polarises-classrooms-breaks-friendships/article65063188.ece')\n",
            "Rank: 13 Relevant Document: ('hijab_331.json', 0.023121387283236993, '2022-02-20', 'chennai, tamil nadu', 'https://www.thehindu.com/data/data-hijab-row-why-the-ban-is-a-double-blow-for-muslim-girl-students/article65066546.ece')\n",
            "Rank: 14 Relevant Document: ('EFFvsAfriforum_1653.json', 0.022727272727272728, '2022-02-18', 'south africa', 'https://ewn.co.za/2022/02/18/watch-live-malema-back-in-court-in-afriforum-hate-speech-case')\n",
            "Rank: 15 Relevant Document: ('hijab_290.json', 0.02252252252252252, '2022-02-19', 'bangalore, karnataka', 'https://english.varthabharati.in/karnataka/hijab-row-feb-5-government-order-doesnt-ban-hijab-insists-ag-in-karnataka-hc')\n",
            "Rank: 16 Relevant Document: ('hijab_286.json', 0.022364217252396165, '2022-02-19', 'bangalore, karnataka', 'https://thefederal.com/states/south/karnataka/uneasy-bjp-central-command-wants-to-wind-down-hijab-row-in-karnataka/')\n",
            "Rank: 17 Relevant Document: ('hijab_284.json', 0.0221606648199446, '2022-02-19', 'bangalore, karnataka', 'https://www.sundayguardianlive.com/news/hijab-controversy-manufactured-create-anarchy')\n",
            "Rank: 18 Relevant Document: ('hijab_334.json', 0.01937984496124031, '2022-02-20', 'massachusetts, united states of america', 'https://scroll.in/article/1017784/why-urbane-educated-muslim-women-are-wearing-the-hijab-in-india')\n",
            "Rank: 19 Relevant Document: ('OperationDudula_1001.json', 0.01818181818181818, '2022-02-20', 'zimbabwe', 'https://www.voazimbabwe.com/a/operation-dudula/6450449.html')\n",
            "Rank: 20 Relevant Document: ('IPL_227.json', 0.018072289156626505, '2022-02-18', 'canberra, australia', 'https://theprint.in/sport/zampa-admits-to-being-gutted-after-missing-out-on-ipl-2022/836574/')\n",
            "\n",
            "Mean Average Precision TextRank Model: 0.8701070173806243\n",
            "Mean Average Recall TextRank Model: 0.43499999999999994\n",
            "nDCG TextRank Model: 0.7777752080340058\n"
          ]
        }
      ]
    },
    {
      "cell_type": "markdown",
      "source": [
        "# Model with KeyBERT"
      ],
      "metadata": {
        "id": "b6qJAGaMmwes"
      }
    },
    {
      "cell_type": "code",
      "source": [
        "# uncomment later\n",
        "# Model with KeyBERT\n",
        "tweet_keywords_keybert = get_keybert_keywords(tweet_query)\n",
        "relevant_docs_keybert = find_relevant_documents(docs_preprocessed, tweet_keywords_keybert)\n",
        "\n",
        "for rank, doc in enumerate(relevant_docs_keybert):\n",
        "  print('Rank: {} Relevant Document: {}'.format(rank+1,doc))\n",
        "\n",
        "print()\n",
        "\n",
        "mean_average_precision_hashtag_keybert = mean_average_precision(20, u_base_hashtag, u_time, relevant_docs_keybert, docs_preprocessed)\n",
        "print('Mean Average Precision KeyBERT Model: {}'.format(mean_average_precision_hashtag_keybert))\n",
        "\n",
        "mean_average_recall_hashtag_keybert = mean_average_recall(20, u_base_hashtag, u_time, relevant_docs_keybert, docs_preprocessed)\n",
        "print('Mean Average Recall KeyBERT Model: {}'.format(mean_average_recall_hashtag_keybert))\n",
        "\n",
        "nDCG_hashtag_keybert = nDCG(u_base_hashtag, u_time, relevant_docs_keybert, docs_preprocessed)\n",
        "print('nDCG KeyBERT Model: {}'.format(nDCG_hashtag_keybert))"
      ],
      "metadata": {
        "id": "ZVm61NCUm0Ju",
        "colab": {
          "base_uri": "https://localhost:8080/"
        },
        "outputId": "e985f224-e503-44be-c1fa-b0f3893a12ca"
      },
      "execution_count": 74,
      "outputs": [
        {
          "output_type": "stream",
          "name": "stdout",
          "text": [
            "Rank: 1 Relevant Document: ('hijab_337.json', 0.011111111111111112, '2022-02-20', 'new delhi, india', 'https://www.hindustantimes.com/opinion/hijab-row-restriction-on-clothing-is-political-101645367225790.html')\n",
            "Rank: 2 Relevant Document: ('hijab_333.json', 0.007194244604316547, '2022-02-20', 'kerala, india', 'https://www.theweek.in/news/entertainment/2022/02/20/hijab-not-a-choice-but-an-obligation-in-islam-says-zaira-wasim.html')\n",
            "Rank: 3 Relevant Document: ('hijab_338.json', 0.006493506493506494, '2022-02-20', 'new delhi, india', 'https://news.abplive.com/karnataka/hijab-row-conspiracy-of-bjp-against-muslim-girls-former-k-taka-cm-siddaramaiah-1514360')\n",
            "Rank: 4 Relevant Document: ('hijab_340.json', 0.00558659217877095, '2022-02-20', 'hyderabad, india', 'https://www.siasat.com/hijab-row-bangladesh-stands-in-solidarity-with-muslim-women-2279139/')\n",
            "Rank: 5 Relevant Document: ('hijab_283.json', 0.005128205128205128, '2022-02-19', 'new delhi, india', 'https://www.newindianexpress.com/nation/2022/feb/19/education-more-important-than-hijab-rss-linked-muslim-rashtriya-manch-to-community-2421449.html')\n",
            "Rank: 6 Relevant Document: ('hijab_285.json', 0.0038461538461538464, '2022-02-19', 'new delhi, india', 'https://news.abplive.com/karnataka/karnataka-hijab-row-govt-order-dated-feb-5-does-not-ban-hijab-ag-tells-high-court-1514213')\n",
            "Rank: 7 Relevant Document: ('hijab_332.json', 0.003663003663003663, '2022-02-20', 'new delhi, india', 'https://thewire.in/communalism/karnataka-muslim-women-students-face-case-suspension-for-wearing-hijab-protesting')\n",
            "Rank: 8 Relevant Document: ('hijab_288.json', 0.011363636363636364, '2022-02-19', 'mysore', 'https://thekashmirwalla.com/mysuru-college-cancels-uniform-order-allows-students-to-wear-hijab/')\n",
            "Rank: 9 Relevant Document: ('hijab_335.json', 0.00909090909090909, '2022-02-20', 'bangalore, karnataka', 'https://indianexpress.com/article/cities/bangalore/karnataka-bengaluru-live-updates-hijab-row-protests-court-hearing-covid-7765244/')\n",
            "Rank: 10 Relevant Document: ('hijab_336.json', 0.006756756756756757, '2022-02-20', 'mumbai, maharashtra', 'https://www.indiatoday.in/movies/celebrities/story/hijab-isn-t-a-choice-but-an-obligation-in-islam-says-zaira-wasim-1915351-2022-02-20')\n",
            "Rank: 11 Relevant Document: ('hijab_289.json', 0.006060606060606061, '2022-02-19', 'karnataka', 'https://www.freepressjournal.in/india/karnataka-hijab-row-seen-to-be-soft-cm-basavaraj-bommaiturns-heat-on-hijab-protesters')\n",
            "Rank: 12 Relevant Document: ('hijab_331.json', 0.006024096385542169, '2022-02-20', 'chennai, tamil nadu', 'https://www.thehindu.com/data/data-hijab-row-why-the-ban-is-a-double-blow-for-muslim-girl-students/article65066546.ece')\n",
            "Rank: 13 Relevant Document: ('hijab_282.json', 0.0056179775280898875, '2022-02-19', 'bangalore, karnataka', 'https://www.hindustantimes.com/entertainment/bollywood/zaira-wasim-reacts-to-hijab-row-i-as-a-woman-who-wears-hijab-resent-this-entire-system-101645288361058.html')\n",
            "Rank: 14 Relevant Document: ('hijab_287.json', 0.0055248618784530384, '2022-02-19', 'shivamogga', 'https://www.outlookindia.com/national/karnataka-hijab-row-58-students-suspended-in-shivamogga-for-wearing-headscarves-holding-protest-news-183162')\n",
            "Rank: 15 Relevant Document: ('hijab_290.json', 0.004629629629629629, '2022-02-19', 'bangalore, karnataka', 'https://english.varthabharati.in/karnataka/hijab-row-feb-5-government-order-doesnt-ban-hijab-insists-ag-in-karnataka-hc')\n",
            "Rank: 16 Relevant Document: ('hijab_281.json', 0.004484304932735426, '2022-02-19', 'bangalore, karnataka', 'https://www.thehindu.com/news/national/karnataka/hijab-row-polarises-classrooms-breaks-friendships/article65063188.ece')\n",
            "Rank: 17 Relevant Document: ('hijab_286.json', 0.003236245954692557, '2022-02-19', 'bangalore, karnataka', 'https://thefederal.com/states/south/karnataka/uneasy-bjp-central-command-wants-to-wind-down-hijab-row-in-karnataka/')\n",
            "Rank: 18 Relevant Document: ('hijab_339.json', 0.0028328611898017, '2022-02-20', 'aluva, kerala', 'https://thefederal.com/states/south/tamil-nadu/discrimination-violence-drove-40-dalits-in-tn-village-to-embrace-islam/')\n",
            "Rank: 19 Relevant Document: ('hijab_284.json', 0.002793296089385475, '2022-02-19', 'bangalore, karnataka', 'https://www.sundayguardianlive.com/news/hijab-controversy-manufactured-create-anarchy')\n",
            "Rank: 20 Relevant Document: ('hijab_334.json', 0.001941747572815534, '2022-02-20', 'massachusetts, united states of america', 'https://scroll.in/article/1017784/why-urbane-educated-muslim-women-are-wearing-the-hijab-in-india')\n",
            "\n",
            "Mean Average Precision KeyBERT Model: 1.0\n",
            "Mean Average Recall KeyBERT Model: 0.5249999999999999\n",
            "nDCG KeyBERT Model: 0.8887847284044448\n"
          ]
        }
      ]
    },
    {
      "cell_type": "markdown",
      "source": [
        "# Across all hashtags"
      ],
      "metadata": {
        "id": "mo9GL9WDh4Dm"
      }
    },
    {
      "cell_type": "code",
      "source": [
        "global_list =[['IPL', '2022-02-25', 'india'], ['IPL', '2022-02-16', 'india'], ['Drishyam2', '2022-02-17', 'india'], ['elections', '2022-02-27', 'imphal'], ['elections', '2022-02-27', 'new delhi'], ['elections', '2022-02-27', 'uttar pradesh'], ['nursesstrike', '2022-02-15', 'australia'], ['Djokovic', '2022-02-15', 'australia'],['hijab', '2022-02-19', 'india'], ['msdtrong', '2022-02-14', 'Florida'], ['ottawaoccupied', '2022-02-14', 'Ottawa'], ['Boycott_ChennaiSuperKings', '2022-02-14', 'chennai'], ['GlanceJio', '2022-02-14', 'New Delhi'], ['ArabicKuthu', '2022-02-14', 'CHENNAI'], ['Djokovic', '2022-02-15', 'AUSTRALIA'], ['Real Madrid', '2022-02-15', 'Madrid'], ['bighit', '2022-02-15', 'ASSAM'], ['Maxwell', '2022-02-15', 'india'], ['mafsau', '2022-02-16', 'australia'], ['channi', '2022-02-16', 'punjab'], ['ayalaan', '2022-02-16', 'tamil nadu'], ['jkbose', '2022-02-16', 'srinagar'], ['happybirthdayjhope', '2022-02-17', 'new delhi'], ['mohsinbaig', '2022-02-17', 'islamabad'],  ['ShivajiJayanti', '2022-02-18', 'maharashtra'], ['OperationDudula', '2022-02-20', 'South Africa'], ['UFCVegas48', '2022-02-20', 'india'], ['FCNPSG', '2022-02-20', 'PARIS'], ['shivamogga', '2022-02-21', 'KARNATAKA'],  ['StayAlive_CHAKHO', '2022-02-22', 'seoul'], ['KaranSinghGrover', '2022-02-22', 'india'], ['NationalMargaritaDay', '2022-02-22', 'United States of America'], ['dontsaygay', '2022-02-22', 'New York'], ['RIPRikyRick', '2022-02-23', 'South Africa'], ['budget2022', '2022-02-23', 'Cape Town'], ['CottonFest2022', '2022-02-23', 'nigeria'], ['NationalChiliDay', '2022-02-24', 'Ohio'], ['stockmarketcrash', '2022-02-24', 'mumbai'], ['BidenisaFailure', '2022-02-24', 'United States of America']]\n",
        "print(len(global_list))\n",
        "global_list = global_list[:30]"
      ],
      "metadata": {
        "id": "3GXOVUfQh2sw",
        "colab": {
          "base_uri": "https://localhost:8080/"
        },
        "outputId": "6da0a7e5-ef53-4c8e-efee-896f1d3fac8f"
      },
      "execution_count": 75,
      "outputs": [
        {
          "output_type": "stream",
          "name": "stdout",
          "text": [
            "39\n"
          ]
        }
      ]
    },
    {
      "cell_type": "code",
      "source": [
        "global_average_mean_average_precision_plain = []\n",
        "global_mean_average_recall_plain = []\n",
        "global_mean_average_ndcg_plain = []\n",
        "\n",
        "global_average_mean_average_precision_keyword_extractor = []\n",
        "global_mean_average_recall_keyword_extractor = []\n",
        "global_mean_average_ndcg_keyword_exractor = []\n",
        "\n",
        "global_average_mean_average_precision_rake = []\n",
        "global_mean_average_recall_rake = []\n",
        "global_mean_average_ndcg_rake = []\n",
        "\n",
        "global_average_mean_average_precision_yake = []\n",
        "global_mean_average_recall_yake = []\n",
        "global_mean_average_ndcg_yake = []\n",
        "\n",
        "global_average_mean_average_precision_text_rank = []\n",
        "global_mean_average_recall_text_rank = []\n",
        "global_mean_average_ndcg_text_rank = []\n",
        "\n",
        "\n",
        "global_average_mean_average_precision_keybert = []\n",
        "global_mean_average_recall_keybert = []\n",
        "global_mean_average_ndcg_keybert = []\n",
        "\n",
        "for iter in tqdm(range(len(global_list))):\n",
        "  u_base_hashtag = global_list[iter][0]\n",
        "  u_time = global_list[iter][1]\n",
        "  u_location = global_list[iter][2]\n",
        "  tweet_query = []\n",
        "  format = '%Y-%m-%d'\n",
        "  u_present_date = datetime.datetime.strptime(u_time, format)\n",
        "  u_prev_date = u_present_date - datetime.timedelta(days=1)\n",
        "  u_next_date = u_present_date + datetime.timedelta(days=1)\n",
        "  df_query = df.loc[df['hashtags'].str.contains(u_base_hashtag) & df['Date_Only'].isin([str(u_present_date.date()), str(u_prev_date.date()), str(u_next_date.date())])]\n",
        "\n",
        "  for tweet in df_query['Preprocessed_Data']:\n",
        "    tweet_query.extend(tweet)\n",
        "  \n",
        "  tweet_keywords = []\n",
        "  kw_extractor = yake.KeywordExtractor(top=20, stopwords=None)\n",
        "  keywords = kw_extractor.extract_keywords(' '.join(tweet_query))\n",
        "  for kw, v in keywords:\n",
        "    #print(\"Keyphrase: \",kw, \": score\", v)\n",
        "    for key in kw.split():\n",
        "      if(key not in tweet_keywords):\n",
        "        tweet_keywords.append(key)\n",
        "  \n",
        "  docs_preprocessed = []\n",
        "\n",
        "  total_documents = 0\n",
        "  path = '/content/drive/MyDrive/Tweelink_Dataset/Tweelink_Articles_Processed'\n",
        "  for filename in glob(os.path.join(path, '*')):\n",
        "    with open(os.path.join(os.getcwd(), filename), 'r', encoding = 'utf-8',errors = 'ignore') as f:\n",
        "      filename = os.path.basename(f.name)\n",
        "      data = json.load(f)\n",
        "      d_date = data[\"Date\"]\n",
        "      if(d_date==\"\" or d_date==\"Date\"):\n",
        "        continue\n",
        "      format = '%Y-%m-%d'\n",
        "  \n",
        "      d_present_date = datetime.datetime.strptime(d_date, format)\n",
        "  \n",
        "      if(str(d_present_date.date()) not in [str(u_present_date.date()), str(u_prev_date.date()), str(u_next_date.date())]):\n",
        "        continue\n",
        "    \n",
        "      docs_preprocessed.append({'Name':filename, 'Data':data})\n",
        "      total_documents+=1\n",
        "  \n",
        "  # Plain\n",
        "  relevant_articles_list_plain = find_relevant_documents(docs_preprocessed, tweet_query)\n",
        "  mean_average_precision_hashtag_plain = mean_average_precision(20, u_base_hashtag, u_time, relevant_articles_list_plain, docs_preprocessed)\n",
        "  global_average_mean_average_precision_plain.append(mean_average_precision_hashtag_plain)\n",
        "  mean_average_recall_hashtag_plain = mean_average_recall(20, u_base_hashtag, u_time, relevant_articles_list_plain, docs_preprocessed)\n",
        "  global_mean_average_recall_plain.append(mean_average_recall_hashtag_plain)\n",
        "  nDCG_hashtag_plain = nDCG(u_base_hashtag, u_time, relevant_docs_plain, docs_preprocessed)\n",
        "  global_mean_average_ndcg_plain.append(nDCG_hashtag_plain)\n",
        "\n",
        "  # keyword extractor\n",
        "  tweet_query_keyword_extractor = get_keyword_keywordextractor(df_query)\n",
        "  relevant_articles_list_keyword_extractor = find_relevant_documents(docs_preprocessed, tweet_query_keyword_extractor[:20])\n",
        "  mean_average_precision_hashtag_keyword_extractor = mean_average_precision(20, u_base_hashtag, u_time, relevant_articles_list_keyword_extractor, docs_preprocessed)\n",
        "  global_average_mean_average_precision_keyword_extractor.append(mean_average_precision_hashtag_keyword_extractor)\n",
        "  mean_average_recall_hashtag_keyword_extractor = mean_average_recall(20, u_base_hashtag, u_time, relevant_articles_list_keyword_extractor, docs_preprocessed)\n",
        "  global_mean_average_recall_keyword_extractor.append(mean_average_recall_hashtag_keyword_extractor)\n",
        "  nDCG_hashtag_keyword_extractor = nDCG(u_base_hashtag, u_time, relevant_docs_keyword_extractor, docs_preprocessed)\n",
        "  global_mean_average_ndcg_keyword_exractor.append(nDCG_hashtag_keyword_extractor)\n",
        "\n",
        "  # Rake\n",
        "  tweet_query_rake = get_rake_keywords(tweet_query)\n",
        "  relevant_articles_list_rake = find_relevant_documents(docs_preprocessed, tweet_query_rake)\n",
        "  mean_average_precision_hashtag_rake = mean_average_precision(20, u_base_hashtag, u_time, relevant_articles_list_rake, docs_preprocessed)\n",
        "  global_average_mean_average_precision_rake.append(mean_average_precision_hashtag_rake)\n",
        "  mean_average_recall_hashtag_rake = mean_average_recall(20, u_base_hashtag, u_time, relevant_articles_list_rake, docs_preprocessed)\n",
        "  global_mean_average_recall_rake.append(mean_average_recall_hashtag_rake)\n",
        "  nDCG_hashtag_rake = nDCG(u_base_hashtag, u_time, relevant_docs_rake, docs_preprocessed)\n",
        "  global_mean_average_ndcg_rake.append(nDCG_hashtag_rake)\n",
        "\n",
        "\n",
        "   # Yake\n",
        "  tweet_query_yake = get_yake_keywords(tweet_query)\n",
        "  relevant_articles_list_yake = find_relevant_documents(docs_preprocessed, tweet_query_yake)\n",
        "  mean_average_precision_hashtag_yake = mean_average_precision(20, u_base_hashtag, u_time, relevant_articles_list_yake, docs_preprocessed)\n",
        "  global_average_mean_average_precision_yake.append(mean_average_precision_hashtag_yake)\n",
        "  mean_average_recall_hashtag_yake = mean_average_recall(20, u_base_hashtag, u_time, relevant_articles_list_yake, docs_preprocessed)\n",
        "  global_mean_average_recall_yake.append(mean_average_recall_hashtag_yake)\n",
        "  nDCG_hashtag_yake = nDCG(u_base_hashtag, u_time, relevant_docs_yake, docs_preprocessed)\n",
        "  global_mean_average_ndcg_yake.append(nDCG_hashtag_yake)\n",
        "\n",
        "\n",
        "  # Text Rank\n",
        "  tweet_query_text_rank = get_text_rank_keywords(tweet_query)\n",
        "  relevant_articles_list_text_rank = find_relevant_documents(docs_preprocessed, tweet_query_text_rank)\n",
        "  mean_average_precision_hashtag_text_rank = mean_average_precision(20, u_base_hashtag, u_time, relevant_articles_list_text_rank, docs_preprocessed)\n",
        "  global_average_mean_average_precision_text_rank.append(mean_average_precision_hashtag_text_rank)\n",
        "  mean_average_recall_hashtag_text_rank = mean_average_recall(20, u_base_hashtag, u_time, relevant_articles_list_text_rank, docs_preprocessed)\n",
        "  global_mean_average_recall_text_rank.append(mean_average_recall_hashtag_text_rank)\n",
        "  nDCG_hashtag_text_rank = nDCG(u_base_hashtag, u_time, relevant_docs_text_rank, docs_preprocessed)\n",
        "  global_mean_average_ndcg_text_rank.append(nDCG_hashtag_text_rank)\n",
        "\n",
        "\n",
        "  # Keybert\n",
        "  tweet_query_keybert = get_keybert_keywords(tweet_query)\n",
        "  relevant_articles_list_keybert = find_relevant_documents(docs_preprocessed, tweet_query_keybert)\n",
        "  mean_average_precision_hashtag_keybert = mean_average_precision(20, u_base_hashtag, u_time, relevant_articles_list_text_rank, docs_preprocessed)\n",
        "  global_average_mean_average_precision_keybert.append(mean_average_precision_hashtag_keybert)\n",
        "  mean_average_recall_hashtag_keybert = mean_average_recall(20, u_base_hashtag, u_time, relevant_articles_list_keybert, docs_preprocessed)\n",
        "  global_mean_average_recall_keybert.append(mean_average_recall_hashtag_keybert)\n",
        "  nDCG_hashtag_keybert = nDCG(u_base_hashtag, u_time, relevant_docs_keybert, docs_preprocessed)\n",
        "  global_mean_average_ndcg_keybert.append(nDCG_hashtag_keybert)"
      ],
      "metadata": {
        "id": "tkcWxb70iYqr",
        "colab": {
          "base_uri": "https://localhost:8080/",
          "height": 417
        },
        "outputId": "b4aab301-f07e-4208-9c6f-3f389f4b3b6a"
      },
      "execution_count": 76,
      "outputs": [
        {
          "output_type": "stream",
          "name": "stderr",
          "text": [
            " 30%|███       | 9/30 [20:18<47:22, 135.35s/it]\n"
          ]
        },
        {
          "output_type": "error",
          "ename": "ValueError",
          "evalue": "ignored",
          "traceback": [
            "\u001b[0;31m---------------------------------------------------------------------------\u001b[0m",
            "\u001b[0;31mValueError\u001b[0m                                Traceback (most recent call last)",
            "\u001b[0;32m<ipython-input-76-d34a5e89d936>\u001b[0m in \u001b[0;36m<module>\u001b[0;34m()\u001b[0m\n\u001b[1;32m     78\u001b[0m \u001b[0;34m\u001b[0m\u001b[0m\n\u001b[1;32m     79\u001b[0m   \u001b[0;31m# keyword extractor\u001b[0m\u001b[0;34m\u001b[0m\u001b[0;34m\u001b[0m\u001b[0;34m\u001b[0m\u001b[0m\n\u001b[0;32m---> 80\u001b[0;31m   \u001b[0mtweet_query_keyword_extractor\u001b[0m \u001b[0;34m=\u001b[0m \u001b[0mget_keyword_keywordextractor\u001b[0m\u001b[0;34m(\u001b[0m\u001b[0mdf_query\u001b[0m\u001b[0;34m)\u001b[0m\u001b[0;34m\u001b[0m\u001b[0;34m\u001b[0m\u001b[0m\n\u001b[0m\u001b[1;32m     81\u001b[0m   \u001b[0mrelevant_articles_list_keyword_extractor\u001b[0m \u001b[0;34m=\u001b[0m \u001b[0mfind_relevant_documents\u001b[0m\u001b[0;34m(\u001b[0m\u001b[0mdocs_preprocessed\u001b[0m\u001b[0;34m,\u001b[0m \u001b[0mtweet_query_keyword_extractor\u001b[0m\u001b[0;34m[\u001b[0m\u001b[0;34m:\u001b[0m\u001b[0;36m20\u001b[0m\u001b[0;34m]\u001b[0m\u001b[0;34m)\u001b[0m\u001b[0;34m\u001b[0m\u001b[0;34m\u001b[0m\u001b[0m\n\u001b[1;32m     82\u001b[0m   \u001b[0mmean_average_precision_hashtag_keyword_extractor\u001b[0m \u001b[0;34m=\u001b[0m \u001b[0mmean_average_precision\u001b[0m\u001b[0;34m(\u001b[0m\u001b[0;36m20\u001b[0m\u001b[0;34m,\u001b[0m \u001b[0mu_base_hashtag\u001b[0m\u001b[0;34m,\u001b[0m \u001b[0mu_time\u001b[0m\u001b[0;34m,\u001b[0m \u001b[0mrelevant_articles_list_keyword_extractor\u001b[0m\u001b[0;34m,\u001b[0m \u001b[0mdocs_preprocessed\u001b[0m\u001b[0;34m)\u001b[0m\u001b[0;34m\u001b[0m\u001b[0;34m\u001b[0m\u001b[0m\n",
            "\u001b[0;32m<ipython-input-55-908d6674c9c0>\u001b[0m in \u001b[0;36mget_keyword_keywordextractor\u001b[0;34m(df_query)\u001b[0m\n\u001b[1;32m      1\u001b[0m \u001b[0;32mdef\u001b[0m \u001b[0mget_keyword_keywordextractor\u001b[0m\u001b[0;34m(\u001b[0m\u001b[0mdf_query\u001b[0m\u001b[0;34m)\u001b[0m\u001b[0;34m:\u001b[0m\u001b[0;34m\u001b[0m\u001b[0;34m\u001b[0m\u001b[0m\n\u001b[1;32m      2\u001b[0m   \u001b[0mkeyword_dataset\u001b[0m \u001b[0;34m=\u001b[0m \u001b[0mdf_query\u001b[0m\u001b[0;34m[\u001b[0m\u001b[0;34m'tweet'\u001b[0m\u001b[0;34m]\u001b[0m\u001b[0;34m.\u001b[0m\u001b[0mtolist\u001b[0m\u001b[0;34m(\u001b[0m\u001b[0;34m)\u001b[0m\u001b[0;34m\u001b[0m\u001b[0;34m\u001b[0m\u001b[0m\n\u001b[0;32m----> 3\u001b[0;31m   \u001b[0mtweet_query_keyword_extractor\u001b[0m \u001b[0;34m=\u001b[0m \u001b[0mkeyword_extractor\u001b[0m\u001b[0;34m(\u001b[0m\u001b[0mkeyword_dataset\u001b[0m\u001b[0;34m)\u001b[0m\u001b[0;34m\u001b[0m\u001b[0;34m\u001b[0m\u001b[0m\n\u001b[0m\u001b[1;32m      4\u001b[0m   \u001b[0;32mreturn\u001b[0m \u001b[0mtweet_query_keyword_extractor\u001b[0m\u001b[0;34m\u001b[0m\u001b[0;34m\u001b[0m\u001b[0m\n",
            "\u001b[0;32m<ipython-input-53-1fded3fa4b7d>\u001b[0m in \u001b[0;36mkeyword_extractor\u001b[0;34m(dataset)\u001b[0m\n\u001b[1;32m    167\u001b[0m   \u001b[0;31m#print(vocabulary)\u001b[0m\u001b[0;34m\u001b[0m\u001b[0;34m\u001b[0m\u001b[0;34m\u001b[0m\u001b[0m\n\u001b[1;32m    168\u001b[0m \u001b[0;34m\u001b[0m\u001b[0m\n\u001b[0;32m--> 169\u001b[0;31m   \u001b[0mmaxdegree\u001b[0m \u001b[0;34m=\u001b[0m \u001b[0mmax\u001b[0m\u001b[0;34m(\u001b[0m\u001b[0mdegree\u001b[0m\u001b[0;34m.\u001b[0m\u001b[0mitems\u001b[0m\u001b[0;34m(\u001b[0m\u001b[0;34m)\u001b[0m\u001b[0;34m,\u001b[0m \u001b[0mkey\u001b[0m\u001b[0;34m=\u001b[0m\u001b[0;32mlambda\u001b[0m \u001b[0mx\u001b[0m\u001b[0;34m:\u001b[0m \u001b[0mx\u001b[0m\u001b[0;34m[\u001b[0m\u001b[0;36m1\u001b[0m\u001b[0;34m]\u001b[0m\u001b[0;34m)\u001b[0m\u001b[0;34m[\u001b[0m\u001b[0;36m1\u001b[0m\u001b[0;34m]\u001b[0m\u001b[0;34m\u001b[0m\u001b[0;34m\u001b[0m\u001b[0m\n\u001b[0m\u001b[1;32m    170\u001b[0m   \u001b[0mmax_degree_nodes_with_freq\u001b[0m \u001b[0;34m=\u001b[0m \u001b[0;34m{\u001b[0m\u001b[0mkey\u001b[0m\u001b[0;34m:\u001b[0m\u001b[0mterm_frequency\u001b[0m\u001b[0;34m[\u001b[0m\u001b[0mkey\u001b[0m\u001b[0;34m]\u001b[0m \u001b[0;32mfor\u001b[0m \u001b[0mkey\u001b[0m \u001b[0;32min\u001b[0m \u001b[0mdegree\u001b[0m\u001b[0;34m.\u001b[0m\u001b[0mkeys\u001b[0m\u001b[0;34m(\u001b[0m\u001b[0;34m)\u001b[0m \u001b[0;32mif\u001b[0m \u001b[0mdegree\u001b[0m\u001b[0;34m[\u001b[0m\u001b[0mkey\u001b[0m\u001b[0;34m]\u001b[0m \u001b[0;34m==\u001b[0m \u001b[0mmaxdegree\u001b[0m\u001b[0;34m}\u001b[0m\u001b[0;34m\u001b[0m\u001b[0;34m\u001b[0m\u001b[0m\n\u001b[1;32m    171\u001b[0m   \u001b[0mmaxfreq\u001b[0m \u001b[0;34m=\u001b[0m \u001b[0mmax\u001b[0m\u001b[0;34m(\u001b[0m\u001b[0mmax_degree_nodes_with_freq\u001b[0m\u001b[0;34m.\u001b[0m\u001b[0mitems\u001b[0m\u001b[0;34m(\u001b[0m\u001b[0;34m)\u001b[0m\u001b[0;34m,\u001b[0m \u001b[0mkey\u001b[0m\u001b[0;34m=\u001b[0m\u001b[0;32mlambda\u001b[0m \u001b[0mx\u001b[0m\u001b[0;34m:\u001b[0m \u001b[0mx\u001b[0m\u001b[0;34m[\u001b[0m\u001b[0;36m1\u001b[0m\u001b[0;34m]\u001b[0m\u001b[0;34m)\u001b[0m\u001b[0;34m[\u001b[0m\u001b[0;36m1\u001b[0m\u001b[0;34m]\u001b[0m\u001b[0;34m\u001b[0m\u001b[0;34m\u001b[0m\u001b[0m\n",
            "\u001b[0;31mValueError\u001b[0m: max() arg is an empty sequence"
          ]
        }
      ]
    },
    {
      "cell_type": "code",
      "source": [
        "overall_average_mean_average_precision_plain = sum(global_average_mean_average_precision_plain)/len(global_average_mean_average_precision_plain)\n",
        "print(overall_average_mean_average_precision_plain)\n",
        "\n",
        "overall_mean_average_recall_plain = sum(global_mean_average_recall_plain)/len(global_mean_average_recall_plain)\n",
        "print(overall_mean_average_recall_plain)\n",
        "\n",
        "overall_mean_average_ndcg_plain = sum(global_mean_average_ndcg_plain)/len(global_mean_average_ndcg_plain)\n",
        "print(overall_mean_average_ndcg_plain)"
      ],
      "metadata": {
        "id": "CDQAIITBtCLf",
        "colab": {
          "base_uri": "https://localhost:8080/"
        },
        "outputId": "1953fd99-4fb6-405f-b973-f6daf27f9718"
      },
      "execution_count": 77,
      "outputs": [
        {
          "output_type": "stream",
          "name": "stdout",
          "text": [
            "0.17552284128871412\n",
            "0.08299999999999999\n",
            "0.004621688969808602\n"
          ]
        }
      ]
    },
    {
      "cell_type": "code",
      "source": [
        "overall_average_mean_average_precision_keyword_extractor = sum(global_average_mean_average_precision_keyword_extractor)/len(global_average_mean_average_precision_keyword_extractor)\n",
        "print(overall_average_mean_average_precision_keyword_extractor)\n",
        "\n",
        "overall_mean_average_recall_keyword_extractor = sum(global_mean_average_recall_keyword_extractor)/len(global_mean_average_recall_keyword_extractor)\n",
        "print(overall_mean_average_recall_keyword_extractor)\n",
        "\n",
        "overall_mean_average_ndcg_keyword_extractor = sum(global_mean_average_ndcg_keyword_exractor)/len(global_mean_average_ndcg_keyword_exractor)\n",
        "print(overall_mean_average_ndcg_keyword_extractor)"
      ],
      "metadata": {
        "id": "xlqnJFdUtgf4",
        "colab": {
          "base_uri": "https://localhost:8080/"
        },
        "outputId": "030affc7-c25c-489a-ef7c-95aa69dafc07"
      },
      "execution_count": 78,
      "outputs": [
        {
          "output_type": "stream",
          "name": "stdout",
          "text": [
            "0.8194221389212141\n",
            "0.41740740740740745\n",
            "0.09828000223703627\n"
          ]
        }
      ]
    },
    {
      "cell_type": "code",
      "source": [
        "overall_average_mean_average_precision_rake = sum(global_average_mean_average_precision_rake)/len(global_average_mean_average_precision_rake)\n",
        "print(overall_average_mean_average_precision_rake)\n",
        "\n",
        "overall_mean_average_recall_rake = sum(global_mean_average_recall_rake)/len(global_mean_average_recall_rake)\n",
        "print(overall_mean_average_recall_rake)\n",
        "\n",
        "overall_mean_average_ndcg_rake = sum(global_mean_average_ndcg_rake)/len(global_mean_average_ndcg_rake)\n",
        "print(overall_mean_average_ndcg_rake)"
      ],
      "metadata": {
        "id": "EsGOaGO43dqa",
        "colab": {
          "base_uri": "https://localhost:8080/"
        },
        "outputId": "8367f825-4fca-40e0-ce3b-0305d6106d83"
      },
      "execution_count": 79,
      "outputs": [
        {
          "output_type": "stream",
          "name": "stdout",
          "text": [
            "0.31343540979454787\n",
            "0.16274691358024695\n",
            "0.05170724328696921\n"
          ]
        }
      ]
    },
    {
      "cell_type": "code",
      "source": [
        "overall_average_mean_average_precision_yake = sum(global_average_mean_average_precision_yake)/len(global_average_mean_average_precision_yake)\n",
        "print(overall_average_mean_average_precision_yake)\n",
        "\n",
        "overall_mean_average_recall_yake = sum(global_mean_average_recall_yake)/len(global_mean_average_recall_yake)\n",
        "print(overall_mean_average_recall_yake)\n",
        "\n",
        "overall_mean_average_ndcg_yake = sum(global_mean_average_ndcg_yake)/len(global_mean_average_ndcg_yake)\n",
        "print(overall_mean_average_ndcg_yake)"
      ],
      "metadata": {
        "id": "RQO4MHII3e7v",
        "colab": {
          "base_uri": "https://localhost:8080/"
        },
        "outputId": "21418948-326c-476f-bc06-c8dc38af2e35"
      },
      "execution_count": 81,
      "outputs": [
        {
          "output_type": "stream",
          "name": "stdout",
          "text": [
            "0.789585458777929\n",
            "0.40608024691358025\n",
            "0.0769287076513649\n"
          ]
        }
      ]
    },
    {
      "cell_type": "code",
      "source": [
        "overall_average_mean_average_precision_text_rank = sum(global_average_mean_average_precision_text_rank)/len(global_average_mean_average_precision_text_rank)\n",
        "print(overall_average_mean_average_precision_text_rank)\n",
        "\n",
        "overall_mean_average_recall_text_rank = sum(global_mean_average_recall_text_rank)/len(global_mean_average_recall_text_rank)\n",
        "print(overall_mean_average_recall_text_rank)\n",
        "\n",
        "overall_mean_average_ndcg_text_rank = sum(global_mean_average_ndcg_text_rank)/len(global_mean_average_ndcg_text_rank)\n",
        "print(overall_mean_average_ndcg_text_rank)"
      ],
      "metadata": {
        "id": "g37aQcjn3gT-"
      },
      "execution_count": null,
      "outputs": []
    },
    {
      "cell_type": "code",
      "source": [
        "overall_average_mean_average_precision_keybert = sum(global_average_mean_average_precision_keybert)/len(global_average_mean_average_precision_keybert)\n",
        "print(overall_average_mean_average_precision_keybert)\n",
        "\n",
        "overall_mean_average_recall_keybert = sum(global_mean_average_recall_keybert)/len(global_mean_average_recall_keybert)\n",
        "print(overall_mean_average_recall_keybert)\n",
        "\n",
        "overall_mean_average_ndcg_keybert = sum(global_mean_average_ndcg_keybert)/len(global_mean_average_ndcg_keybert)\n",
        "print(overall_mean_average_ndcg_keybert)"
      ],
      "metadata": {
        "id": "meSm-ZZ53hpR"
      },
      "execution_count": null,
      "outputs": []
    }
  ]
}